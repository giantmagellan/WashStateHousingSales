{
 "cells": [
  {
   "cell_type": "code",
   "execution_count": 2,
   "metadata": {},
   "outputs": [],
   "source": [
    "import pandas as pd\n",
    "import matplotlib.pyplot as plt\n",
    "import numpy as np\n",
    "import statsmodels.api as sm\n",
    "import seaborn as sns\n",
    "from numpy import median"
   ]
  },
  {
   "cell_type": "code",
   "execution_count": 3,
   "metadata": {},
   "outputs": [],
   "source": [
    "from sklearn.model_selection import train_test_split\n",
    "from sklearn import tree\n",
    "from sklearn.tree import DecisionTreeRegressor\n",
    "from sklearn.metrics import mean_squared_error"
   ]
  },
  {
   "cell_type": "code",
   "execution_count": 4,
   "metadata": {},
   "outputs": [],
   "source": [
    "house_sales_df = pd.read_csv(\"house_sales_s1_mayel.csv\",encoding='utf-8')"
   ]
  },
  {
   "cell_type": "code",
   "execution_count": 5,
   "metadata": {},
   "outputs": [
    {
     "data": {
      "text/plain": [
       "75000.0"
      ]
     },
     "execution_count": 5,
     "metadata": {},
     "output_type": "execute_result"
    }
   ],
   "source": [
    "house_sales_df['price'].min()"
   ]
  },
  {
   "cell_type": "code",
   "execution_count": 6,
   "metadata": {},
   "outputs": [
    {
     "data": {
      "text/plain": [
       "7700000.0"
      ]
     },
     "execution_count": 6,
     "metadata": {},
     "output_type": "execute_result"
    }
   ],
   "source": [
    "house_sales_df['price'].max()"
   ]
  },
  {
   "cell_type": "code",
   "execution_count": 15,
   "metadata": {},
   "outputs": [],
   "source": [
    "prices = house_sales_df['price'].dropna()"
   ]
  },
  {
   "cell_type": "code",
   "execution_count": 16,
   "metadata": {},
   "outputs": [],
   "source": [
    "pd.options.display.float_format = '{:12.2f}'.format"
   ]
  },
  {
   "cell_type": "code",
   "execution_count": 17,
   "metadata": {},
   "outputs": [
    {
     "data": {
      "text/plain": [
       "count       21613.00\n",
       "mean       540088.14\n",
       "std        367127.20\n",
       "min         75000.00\n",
       "25%        321950.00\n",
       "50%        450000.00\n",
       "75%        645000.00\n",
       "max       7700000.00\n",
       "Name: price, dtype: float64"
      ]
     },
     "execution_count": 17,
     "metadata": {},
     "output_type": "execute_result"
    }
   ],
   "source": [
    "prices.describe()"
   ]
  },
  {
   "cell_type": "code",
   "execution_count": 8,
   "metadata": {},
   "outputs": [
    {
     "data": {
      "text/plain": [
       "array([[<AxesSubplot:title={'center':'price'}>]], dtype=object)"
      ]
     },
     "execution_count": 8,
     "metadata": {},
     "output_type": "execute_result"
    },
    {
     "data": {
      "image/png": "[encoded data removed]",
      "text/plain": [
       "<Figure size 432x288 with 1 Axes>"
      ]
     },
     "metadata": {
      "needs_background": "light"
     },
     "output_type": "display_data"
    }
   ],
   "source": [
    "house_sales_df.hist(column='price', bins=5)"
   ]
  },
  {
   "cell_type": "code",
   "execution_count": 26,
   "metadata": {},
   "outputs": [
    {
     "data": {
      "text/plain": [
       "<Figure size 1440x1440 with 0 Axes>"
      ]
     },
     "execution_count": 26,
     "metadata": {},
     "output_type": "execute_result"
    },
    {
     "data": {
      "text/plain": [
       "<Figure size 1440x1440 with 0 Axes>"
      ]
     },
     "metadata": {},
     "output_type": "display_data"
    }
   ],
   "source": [
    "plt.figure(figsize=(20,20))"
   ]
  },
  {
   "cell_type": "code",
   "execution_count": 27,
   "metadata": {},
   "outputs": [
    {
     "data": {
      "text/plain": [
       "<AxesSubplot:>"
      ]
     },
     "execution_count": 27,
     "metadata": {},
     "output_type": "execute_result"
    },
    {
     "data": {
      "image/png": "[encoded data removed]",
      "text/plain": [
       "<Figure size 432x288 with 1 Axes>"
      ]
     },
     "metadata": {
      "needs_background": "light"
     },
     "output_type": "display_data"
    }
   ],
   "source": [
    "house_sales_df.boxplot(column=['price'], vert=False)"
   ]
  },
  {
   "cell_type": "code",
   "execution_count": 31,
   "metadata": {},
   "outputs": [],
   "source": [
    "def clasifier(row):\n",
    "    if row['price'] <= 75000:\n",
    "        return \"0-75000\"\n",
    "    elif row['price'] > 75000 and row['price'] <= 321950:\n",
    "        return \"75000-321950\"\n",
    "    elif row['price'] > 321950 and row['price'] <= 450000:\n",
    "        return \"321950-450000\"\n",
    "    elif row['price'] > 450000 and row['price'] <= 645000:\n",
    "        return \"450000-645000\"\n",
    "    elif row['price'] > 645000 and row['price'] <= 750000:\n",
    "        return \"645000-750000\"\n",
    "    elif row['price'] > 750000 and row['price'] <= 850000:\n",
    "        return \"750000-850000\"\n",
    "    elif row['price'] > 850000 and row['price'] <= 950000:\n",
    "        return \"850000-950000\"\n",
    "    elif row['price'] > 950000 and row['price'] <= 1500000:\n",
    "        return \"950000-1500000\"\n",
    "    elif row['price'] > 1500000 and row['price'] <= 2000000:\n",
    "        return \"1500000-2000000\"\n",
    "    elif row['price'] > 2000000 and row['price'] <= 2500000:\n",
    "        return \"2000000-2500000\"\n",
    "    elif row['price'] > 2500000 and row['price'] <= 3000000:\n",
    "        return \"2500000-3000000\"\n",
    "    elif row['price'] > 3000000 and row['price'] <= 3500000:\n",
    "        return \"3000000-3500000\"\n",
    "    elif row['price'] > 3500000 and row['price'] <= 4000000:\n",
    "        return \"3500000-4000000\"\n",
    "    elif row['price'] > 4000000 and row['price'] <= 4500000:\n",
    "        return \"4000000-4500000\"\n",
    "    elif row['price'] > 4500000 and row['price'] <= 5000000:\n",
    "        return \"4500000-5000000\"\n",
    "    elif row['price'] > 5000000 and row['price'] <= 6000000:\n",
    "        return \"5000000-6000000\"\n",
    "    elif row['price'] > 6000000 and row['price'] <= 7000000:\n",
    "        return \"6000000-7000000\"\n",
    "    elif row['price'] > 7000000 and row['price'] <= 8000000:\n",
    "        return \"7000000-8000000\"\n",
    "    elif row['price'] > 8000000 and row['price'] <= 9000000:\n",
    "        return \"8000000-9000000\"\n",
    "    elif row['price'] > 9000000 and row['price'] <= 10000000:\n",
    "        return \"9000000-10000000\"\n",
    "    else:\n",
    "        return \">10000000\"\n",
    "\n",
    "    "
   ]
  },
  {
   "cell_type": "code",
   "execution_count": 32,
   "metadata": {},
   "outputs": [],
   "source": [
    "house_sales_df[\"price_range\"] = house_sales_df.apply(clasifier, axis=1)"
   ]
  },
  {
   "cell_type": "code",
   "execution_count": 33,
   "metadata": {},
   "outputs": [
    {
     "data": {
      "text/plain": [
       "0         75000-321950\n",
       "1        450000-645000\n",
       "2         75000-321950\n",
       "3        450000-645000\n",
       "4        450000-645000\n",
       "             ...      \n",
       "21608    321950-450000\n",
       "21609    321950-450000\n",
       "21610    321950-450000\n",
       "21611    321950-450000\n",
       "21612    321950-450000\n",
       "Name: price_range, Length: 21613, dtype: object"
      ]
     },
     "execution_count": 33,
     "metadata": {},
     "output_type": "execute_result"
    }
   ],
   "source": [
    "house_sales_df[\"price_range\"]"
   ]
  },
  {
   "cell_type": "code",
   "execution_count": 34,
   "metadata": {},
   "outputs": [
    {
     "data": {
      "text/html": [
       "<div>\n",
       "<style scoped>\n",
       "    .dataframe tbody tr th:only-of-type {\n",
       "        vertical-align: middle;\n",
       "    }\n",
       "\n",
       "    .dataframe tbody tr th {\n",
       "        vertical-align: top;\n",
       "    }\n",
       "\n",
       "    .dataframe thead th {\n",
       "        text-align: right;\n",
       "    }\n",
       "</style>\n",
       "<table border=\"1\" class=\"dataframe\">\n",
       "  <thead>\n",
       "    <tr style=\"text-align: right;\">\n",
       "      <th></th>\n",
       "      <th>id</th>\n",
       "      <th>date</th>\n",
       "      <th>price</th>\n",
       "      <th>bedrooms</th>\n",
       "      <th>bathrooms</th>\n",
       "      <th>sqft_living</th>\n",
       "      <th>sqft_lot</th>\n",
       "      <th>floors</th>\n",
       "      <th>waterfront</th>\n",
       "      <th>view</th>\n",
       "      <th>...</th>\n",
       "      <th>yr_built</th>\n",
       "      <th>yr_renovated</th>\n",
       "      <th>zipcode</th>\n",
       "      <th>lat</th>\n",
       "      <th>long</th>\n",
       "      <th>sqft_living15</th>\n",
       "      <th>sqft_lot15</th>\n",
       "      <th>predict_bedrooms</th>\n",
       "      <th>predict_bathrooms</th>\n",
       "      <th>price_range</th>\n",
       "    </tr>\n",
       "  </thead>\n",
       "  <tbody>\n",
       "    <tr>\n",
       "      <th>0</th>\n",
       "      <td>7129300520</td>\n",
       "      <td>20141013T000000</td>\n",
       "      <td>221900.00</td>\n",
       "      <td>3.00</td>\n",
       "      <td>1.00</td>\n",
       "      <td>1180.00</td>\n",
       "      <td>5650.00</td>\n",
       "      <td>1.00</td>\n",
       "      <td>0</td>\n",
       "      <td>0</td>\n",
       "      <td>...</td>\n",
       "      <td>1955</td>\n",
       "      <td>0</td>\n",
       "      <td>98178</td>\n",
       "      <td>47.51</td>\n",
       "      <td>-122.26</td>\n",
       "      <td>1340</td>\n",
       "      <td>5650</td>\n",
       "      <td>3.00</td>\n",
       "      <td>1.50</td>\n",
       "      <td>75000-321950</td>\n",
       "    </tr>\n",
       "    <tr>\n",
       "      <th>1</th>\n",
       "      <td>6414100192</td>\n",
       "      <td>20141209T000000</td>\n",
       "      <td>538000.00</td>\n",
       "      <td>3.00</td>\n",
       "      <td>2.25</td>\n",
       "      <td>2570.00</td>\n",
       "      <td>7242.00</td>\n",
       "      <td>2.00</td>\n",
       "      <td>0</td>\n",
       "      <td>0</td>\n",
       "      <td>...</td>\n",
       "      <td>1951</td>\n",
       "      <td>1991</td>\n",
       "      <td>98125</td>\n",
       "      <td>47.72</td>\n",
       "      <td>-122.32</td>\n",
       "      <td>1690</td>\n",
       "      <td>7639</td>\n",
       "      <td>3.00</td>\n",
       "      <td>2.00</td>\n",
       "      <td>450000-645000</td>\n",
       "    </tr>\n",
       "    <tr>\n",
       "      <th>2</th>\n",
       "      <td>5631500400</td>\n",
       "      <td>20150225T000000</td>\n",
       "      <td>180000.00</td>\n",
       "      <td>2.00</td>\n",
       "      <td>1.00</td>\n",
       "      <td>770.00</td>\n",
       "      <td>10000.00</td>\n",
       "      <td>1.00</td>\n",
       "      <td>0</td>\n",
       "      <td>0</td>\n",
       "      <td>...</td>\n",
       "      <td>1933</td>\n",
       "      <td>0</td>\n",
       "      <td>98028</td>\n",
       "      <td>47.74</td>\n",
       "      <td>-122.23</td>\n",
       "      <td>2720</td>\n",
       "      <td>8062</td>\n",
       "      <td>2.00</td>\n",
       "      <td>1.00</td>\n",
       "      <td>75000-321950</td>\n",
       "    </tr>\n",
       "    <tr>\n",
       "      <th>3</th>\n",
       "      <td>2487200875</td>\n",
       "      <td>20141209T000000</td>\n",
       "      <td>604000.00</td>\n",
       "      <td>4.00</td>\n",
       "      <td>3.00</td>\n",
       "      <td>1960.00</td>\n",
       "      <td>5000.00</td>\n",
       "      <td>1.00</td>\n",
       "      <td>0</td>\n",
       "      <td>0</td>\n",
       "      <td>...</td>\n",
       "      <td>1965</td>\n",
       "      <td>0</td>\n",
       "      <td>98136</td>\n",
       "      <td>47.52</td>\n",
       "      <td>-122.39</td>\n",
       "      <td>1360</td>\n",
       "      <td>5000</td>\n",
       "      <td>3.00</td>\n",
       "      <td>2.00</td>\n",
       "      <td>450000-645000</td>\n",
       "    </tr>\n",
       "    <tr>\n",
       "      <th>4</th>\n",
       "      <td>1954400510</td>\n",
       "      <td>20150218T000000</td>\n",
       "      <td>510000.00</td>\n",
       "      <td>3.00</td>\n",
       "      <td>2.00</td>\n",
       "      <td>1680.00</td>\n",
       "      <td>8080.00</td>\n",
       "      <td>1.00</td>\n",
       "      <td>0</td>\n",
       "      <td>0</td>\n",
       "      <td>...</td>\n",
       "      <td>1987</td>\n",
       "      <td>0</td>\n",
       "      <td>98074</td>\n",
       "      <td>47.62</td>\n",
       "      <td>-122.05</td>\n",
       "      <td>1800</td>\n",
       "      <td>7503</td>\n",
       "      <td>3.00</td>\n",
       "      <td>2.00</td>\n",
       "      <td>450000-645000</td>\n",
       "    </tr>\n",
       "  </tbody>\n",
       "</table>\n",
       "<p>5 rows × 24 columns</p>\n",
       "</div>"
      ],
      "text/plain": [
       "           id             date        price     bedrooms    bathrooms  \\\n",
       "0  7129300520  20141013T000000    221900.00         3.00         1.00   \n",
       "1  6414100192  20141209T000000    538000.00         3.00         2.25   \n",
       "2  5631500400  20150225T000000    180000.00         2.00         1.00   \n",
       "3  2487200875  20141209T000000    604000.00         4.00         3.00   \n",
       "4  1954400510  20150218T000000    510000.00         3.00         2.00   \n",
       "\n",
       "   sqft_living     sqft_lot       floors  waterfront  view  ...  yr_built  \\\n",
       "0      1180.00      5650.00         1.00           0     0  ...      1955   \n",
       "1      2570.00      7242.00         2.00           0     0  ...      1951   \n",
       "2       770.00     10000.00         1.00           0     0  ...      1933   \n",
       "3      1960.00      5000.00         1.00           0     0  ...      1965   \n",
       "4      1680.00      8080.00         1.00           0     0  ...      1987   \n",
       "\n",
       "   yr_renovated  zipcode          lat         long  sqft_living15  sqft_lot15  \\\n",
       "0             0    98178        47.51      -122.26           1340        5650   \n",
       "1          1991    98125        47.72      -122.32           1690        7639   \n",
       "2             0    98028        47.74      -122.23           2720        8062   \n",
       "3             0    98136        47.52      -122.39           1360        5000   \n",
       "4             0    98074        47.62      -122.05           1800        7503   \n",
       "\n",
       "   predict_bedrooms  predict_bathrooms    price_range  \n",
       "0              3.00               1.50   75000-321950  \n",
       "1              3.00               2.00  450000-645000  \n",
       "2              2.00               1.00   75000-321950  \n",
       "3              3.00               2.00  450000-645000  \n",
       "4              3.00               2.00  450000-645000  \n",
       "\n",
       "[5 rows x 24 columns]"
      ]
     },
     "execution_count": 34,
     "metadata": {},
     "output_type": "execute_result"
    }
   ],
   "source": [
    "house_sales_df.head()"
   ]
  },
  {
   "cell_type": "code",
   "execution_count": null,
   "metadata": {},
   "outputs": [],
   "source": []
  }
 ],
 "metadata": {
  "kernelspec": {
   "display_name": "Python 3",
   "language": "python",
   "name": "python3"
  },
  "language_info": {
   "codemirror_mode": {
    "name": "ipython",
    "version": 3
   },
   "file_extension": ".py",
   "mimetype": "text/x-python",
   "name": "python",
   "nbconvert_exporter": "python",
   "pygments_lexer": "ipython3",
   "version": "3.8.5"
  }
 },
 "nbformat": 4,
 "nbformat_minor": 4
}
