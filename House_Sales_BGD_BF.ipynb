{
 "cells": [
  {
   "cell_type": "code",
   "execution_count": 1,
   "metadata": {},
   "outputs": [],
   "source": [
    "# Supress warnings\n",
    "import warnings\n",
    "warnings.filterwarnings('ignore')\n",
    "\n",
    "# Dependencies\n",
    "import pandas as pd\n",
    "import numpy as np\n",
    "import seaborn as sns\n",
    "import matplotlib as mpl \n",
    "import matplotlib.pyplot as plt "
   ]
  },
  {
   "cell_type": "code",
   "execution_count": 2,
   "metadata": {},
   "outputs": [],
   "source": [
    "# Import sklearn libraries\n",
    "from sklearn.linear_model import SGDClassifier\n",
    "from sklearn.datasets import load_iris\n",
    "from sklearn.datasets import make_classification\n",
    "from sklearn.model_selection import train_test_split\n",
    "from sklearn.metrics import confusion_matrix\n",
    "from sklearn.metrics import classification_report\n",
    "from sklearn.preprocessing import scale"
   ]
  },
  {
   "cell_type": "code",
   "execution_count": 3,
   "metadata": {},
   "outputs": [
    {
     "data": {
      "text/html": [
       "<div>\n",
       "<style scoped>\n",
       "    .dataframe tbody tr th:only-of-type {\n",
       "        vertical-align: middle;\n",
       "    }\n",
       "\n",
       "    .dataframe tbody tr th {\n",
       "        vertical-align: top;\n",
       "    }\n",
       "\n",
       "    .dataframe thead th {\n",
       "        text-align: right;\n",
       "    }\n",
       "</style>\n",
       "<table border=\"1\" class=\"dataframe\">\n",
       "  <thead>\n",
       "    <tr style=\"text-align: right;\">\n",
       "      <th></th>\n",
       "      <th>Unnamed: 0</th>\n",
       "      <th>id</th>\n",
       "      <th>date</th>\n",
       "      <th>price</th>\n",
       "      <th>bedrooms</th>\n",
       "      <th>bathrooms</th>\n",
       "      <th>sqft_living</th>\n",
       "      <th>sqft_lot</th>\n",
       "      <th>floors</th>\n",
       "      <th>waterfront</th>\n",
       "      <th>...</th>\n",
       "      <th>sqft_above</th>\n",
       "      <th>sqft_basement</th>\n",
       "      <th>yr_built</th>\n",
       "      <th>yr_renovated</th>\n",
       "      <th>zipcode</th>\n",
       "      <th>lat</th>\n",
       "      <th>long</th>\n",
       "      <th>sqft_living15</th>\n",
       "      <th>sqft_lot15</th>\n",
       "      <th>quarter</th>\n",
       "    </tr>\n",
       "  </thead>\n",
       "  <tbody>\n",
       "    <tr>\n",
       "      <th>0</th>\n",
       "      <td>0</td>\n",
       "      <td>7129300520</td>\n",
       "      <td>2014-10-13</td>\n",
       "      <td>221900.0</td>\n",
       "      <td>3.0</td>\n",
       "      <td>1.00</td>\n",
       "      <td>1180.0</td>\n",
       "      <td>5650.0</td>\n",
       "      <td>1.0</td>\n",
       "      <td>0</td>\n",
       "      <td>...</td>\n",
       "      <td>1180</td>\n",
       "      <td>0</td>\n",
       "      <td>1955</td>\n",
       "      <td>0</td>\n",
       "      <td>98178</td>\n",
       "      <td>47.5112</td>\n",
       "      <td>-122.257</td>\n",
       "      <td>1340</td>\n",
       "      <td>5650</td>\n",
       "      <td>4</td>\n",
       "    </tr>\n",
       "    <tr>\n",
       "      <th>1</th>\n",
       "      <td>1</td>\n",
       "      <td>6414100192</td>\n",
       "      <td>2014-12-09</td>\n",
       "      <td>538000.0</td>\n",
       "      <td>3.0</td>\n",
       "      <td>2.25</td>\n",
       "      <td>2570.0</td>\n",
       "      <td>7242.0</td>\n",
       "      <td>2.0</td>\n",
       "      <td>0</td>\n",
       "      <td>...</td>\n",
       "      <td>2170</td>\n",
       "      <td>400</td>\n",
       "      <td>1951</td>\n",
       "      <td>1991</td>\n",
       "      <td>98125</td>\n",
       "      <td>47.7210</td>\n",
       "      <td>-122.319</td>\n",
       "      <td>1690</td>\n",
       "      <td>7639</td>\n",
       "      <td>4</td>\n",
       "    </tr>\n",
       "    <tr>\n",
       "      <th>2</th>\n",
       "      <td>2</td>\n",
       "      <td>5631500400</td>\n",
       "      <td>2015-02-25</td>\n",
       "      <td>180000.0</td>\n",
       "      <td>2.0</td>\n",
       "      <td>1.00</td>\n",
       "      <td>770.0</td>\n",
       "      <td>10000.0</td>\n",
       "      <td>1.0</td>\n",
       "      <td>0</td>\n",
       "      <td>...</td>\n",
       "      <td>770</td>\n",
       "      <td>0</td>\n",
       "      <td>1933</td>\n",
       "      <td>0</td>\n",
       "      <td>98028</td>\n",
       "      <td>47.7379</td>\n",
       "      <td>-122.233</td>\n",
       "      <td>2720</td>\n",
       "      <td>8062</td>\n",
       "      <td>1</td>\n",
       "    </tr>\n",
       "    <tr>\n",
       "      <th>3</th>\n",
       "      <td>3</td>\n",
       "      <td>2487200875</td>\n",
       "      <td>2014-12-09</td>\n",
       "      <td>604000.0</td>\n",
       "      <td>4.0</td>\n",
       "      <td>3.00</td>\n",
       "      <td>1960.0</td>\n",
       "      <td>5000.0</td>\n",
       "      <td>1.0</td>\n",
       "      <td>0</td>\n",
       "      <td>...</td>\n",
       "      <td>1050</td>\n",
       "      <td>910</td>\n",
       "      <td>1965</td>\n",
       "      <td>0</td>\n",
       "      <td>98136</td>\n",
       "      <td>47.5208</td>\n",
       "      <td>-122.393</td>\n",
       "      <td>1360</td>\n",
       "      <td>5000</td>\n",
       "      <td>4</td>\n",
       "    </tr>\n",
       "    <tr>\n",
       "      <th>4</th>\n",
       "      <td>4</td>\n",
       "      <td>1954400510</td>\n",
       "      <td>2015-02-18</td>\n",
       "      <td>510000.0</td>\n",
       "      <td>3.0</td>\n",
       "      <td>2.00</td>\n",
       "      <td>1680.0</td>\n",
       "      <td>8080.0</td>\n",
       "      <td>1.0</td>\n",
       "      <td>0</td>\n",
       "      <td>...</td>\n",
       "      <td>1680</td>\n",
       "      <td>0</td>\n",
       "      <td>1987</td>\n",
       "      <td>0</td>\n",
       "      <td>98074</td>\n",
       "      <td>47.6168</td>\n",
       "      <td>-122.045</td>\n",
       "      <td>1800</td>\n",
       "      <td>7503</td>\n",
       "      <td>1</td>\n",
       "    </tr>\n",
       "  </tbody>\n",
       "</table>\n",
       "<p>5 rows × 23 columns</p>\n",
       "</div>"
      ],
      "text/plain": [
       "   Unnamed: 0          id        date     price  bedrooms  bathrooms  \\\n",
       "0           0  7129300520  2014-10-13  221900.0       3.0       1.00   \n",
       "1           1  6414100192  2014-12-09  538000.0       3.0       2.25   \n",
       "2           2  5631500400  2015-02-25  180000.0       2.0       1.00   \n",
       "3           3  2487200875  2014-12-09  604000.0       4.0       3.00   \n",
       "4           4  1954400510  2015-02-18  510000.0       3.0       2.00   \n",
       "\n",
       "   sqft_living  sqft_lot  floors  waterfront  ...  sqft_above  sqft_basement  \\\n",
       "0       1180.0    5650.0     1.0           0  ...        1180              0   \n",
       "1       2570.0    7242.0     2.0           0  ...        2170            400   \n",
       "2        770.0   10000.0     1.0           0  ...         770              0   \n",
       "3       1960.0    5000.0     1.0           0  ...        1050            910   \n",
       "4       1680.0    8080.0     1.0           0  ...        1680              0   \n",
       "\n",
       "   yr_built  yr_renovated  zipcode      lat     long  sqft_living15  \\\n",
       "0      1955             0    98178  47.5112 -122.257           1340   \n",
       "1      1951          1991    98125  47.7210 -122.319           1690   \n",
       "2      1933             0    98028  47.7379 -122.233           2720   \n",
       "3      1965             0    98136  47.5208 -122.393           1360   \n",
       "4      1987             0    98074  47.6168 -122.045           1800   \n",
       "\n",
       "   sqft_lot15  quarter  \n",
       "0        5650        4  \n",
       "1        7639        4  \n",
       "2        8062        1  \n",
       "3        5000        4  \n",
       "4        7503        1  \n",
       "\n",
       "[5 rows x 23 columns]"
      ]
     },
     "execution_count": 3,
     "metadata": {},
     "output_type": "execute_result"
    }
   ],
   "source": [
    "''' Import cleaned housing data for Kings County, WA. '''\n",
    "houseClean = pd.read_csv(\"./data/Modified/houseClean_dates.csv\", index_col=False)\n",
    "houseClean.head()"
   ]
  },
  {
   "cell_type": "code",
   "execution_count": 4,
   "metadata": {},
   "outputs": [
    {
     "data": {
      "text/html": [
       "<div>\n",
       "<style scoped>\n",
       "    .dataframe tbody tr th:only-of-type {\n",
       "        vertical-align: middle;\n",
       "    }\n",
       "\n",
       "    .dataframe tbody tr th {\n",
       "        vertical-align: top;\n",
       "    }\n",
       "\n",
       "    .dataframe thead th {\n",
       "        text-align: right;\n",
       "    }\n",
       "</style>\n",
       "<table border=\"1\" class=\"dataframe\">\n",
       "  <thead>\n",
       "    <tr style=\"text-align: right;\">\n",
       "      <th></th>\n",
       "      <th>bedrooms</th>\n",
       "      <th>sqft_living</th>\n",
       "      <th>grade</th>\n",
       "      <th>price</th>\n",
       "    </tr>\n",
       "  </thead>\n",
       "  <tbody>\n",
       "    <tr>\n",
       "      <th>0</th>\n",
       "      <td>3.0</td>\n",
       "      <td>1180.0</td>\n",
       "      <td>7</td>\n",
       "      <td>221900.0</td>\n",
       "    </tr>\n",
       "    <tr>\n",
       "      <th>1</th>\n",
       "      <td>3.0</td>\n",
       "      <td>2570.0</td>\n",
       "      <td>7</td>\n",
       "      <td>538000.0</td>\n",
       "    </tr>\n",
       "    <tr>\n",
       "      <th>2</th>\n",
       "      <td>2.0</td>\n",
       "      <td>770.0</td>\n",
       "      <td>6</td>\n",
       "      <td>180000.0</td>\n",
       "    </tr>\n",
       "    <tr>\n",
       "      <th>3</th>\n",
       "      <td>4.0</td>\n",
       "      <td>1960.0</td>\n",
       "      <td>7</td>\n",
       "      <td>604000.0</td>\n",
       "    </tr>\n",
       "    <tr>\n",
       "      <th>4</th>\n",
       "      <td>3.0</td>\n",
       "      <td>1680.0</td>\n",
       "      <td>8</td>\n",
       "      <td>510000.0</td>\n",
       "    </tr>\n",
       "  </tbody>\n",
       "</table>\n",
       "</div>"
      ],
      "text/plain": [
       "   bedrooms  sqft_living  grade     price\n",
       "0       3.0       1180.0      7  221900.0\n",
       "1       3.0       2570.0      7  538000.0\n",
       "2       2.0        770.0      6  180000.0\n",
       "3       4.0       1960.0      7  604000.0\n",
       "4       3.0       1680.0      8  510000.0"
      ]
     },
     "execution_count": 4,
     "metadata": {},
     "output_type": "execute_result"
    }
   ],
   "source": [
    "df = houseClean[['bedrooms','sqft_living','grade','price']]\n",
    "df.head()"
   ]
  },
  {
   "cell_type": "code",
   "execution_count": 5,
   "metadata": {},
   "outputs": [
    {
     "name": "stdout",
     "output_type": "stream",
     "text": [
      "(21613, 3) (21613,)\n"
     ]
    }
   ],
   "source": [
    "''' Define Dependent and Independent Variables '''\n",
    "X = df.iloc[:,:3]\n",
    "y = df.iloc[:,-1]\n",
    "print(X.shape, y.shape)"
   ]
  },
  {
   "cell_type": "code",
   "execution_count": 6,
   "metadata": {},
   "outputs": [
    {
     "name": "stdout",
     "output_type": "stream",
     "text": [
      "(15129, 3) (6484, 3) (15129,) (6484,)\n"
     ]
    }
   ],
   "source": [
    "''' Create Training and Test sets with a 70-30 split '''\n",
    "from sklearn.model_selection import train_test_split\n",
    "\n",
    "X_train, X_test, y_train, y_test = train_test_split(X, y, train_size=0.7, test_size=0.3, random_state=42)\n",
    "print(X_train.shape, X_test.shape, y_train.shape, y_test.shape)"
   ]
  },
  {
   "cell_type": "code",
   "execution_count": 7,
   "metadata": {},
   "outputs": [],
   "source": [
    "# y_train"
   ]
  },
  {
   "cell_type": "code",
   "execution_count": 28,
   "metadata": {},
   "outputs": [],
   "source": [
    "from sklearn.preprocessing import StandardScaler\n",
    "sc = StandardScaler()\n",
    "X = sc.fit_transform(X_train)"
   ]
  },
  {
   "cell_type": "code",
   "execution_count": 29,
   "metadata": {},
   "outputs": [],
   "source": [
    "def cost_function(X, y, theta):\n",
    "    m = len(y)\n",
    "    theta_j = np.sum((X.dot(theta) - y) ** 2)/(2 * m)\n",
    "    return theta_j"
   ]
  },
  {
   "cell_type": "code",
   "execution_count": 30,
   "metadata": {},
   "outputs": [],
   "source": [
    "def batch_gradient_descent(X, y, theta, eta, iterations):\n",
    "    cost_history = [0] * iterations\n",
    "    m = len(y)\n",
    " \n",
    "    for iteration in range(iterations):\n",
    "        # Hypothesis Values\n",
    "        h = X.dot(theta)\n",
    "        # Difference b/w Hypothesis and Actual Y\n",
    "        loss = h - y\n",
    "        # Gradient Calculation\n",
    "        gradient = X.T.dot(loss) / m\n",
    "        # Changing Values of theta using Gradient\n",
    "        theta = theta - (eta * gradient)\n",
    "        # New Cost Value\n",
    "        cost = cost_function(X, y, theta)\n",
    "        cost_history[iteration] = cost\n",
    " \n",
    "    return theta, cost_history"
   ]
  },
  {
   "cell_type": "code",
   "execution_count": 31,
   "metadata": {},
   "outputs": [],
   "source": [
    "''' Feature Scaling for Training Set '''\n",
    "m = len(X_train)\n",
    "f = 3\n",
    "X_train = X[:m,:f]\n",
    "X_train = np.c_[np.ones(len(X_train),dtype=\"int64\"), X_train]\n",
    "y_train = y[:m]\n",
    "X_test = X[m:,:f]\n",
    "X_test = np.c_[np.ones(len(X_test),dtype=\"int64\"), X_test]\n",
    "y_test = y[m:]"
   ]
  },
  {
   "cell_type": "code",
   "execution_count": 32,
   "metadata": {},
   "outputs": [
    {
     "name": "stdout",
     "output_type": "stream",
     "text": [
      "(21613, 4), \n",
      " [[ 1.          0.         -0.41989438 -0.97983502]\n",
      " [ 1.          0.         -0.41989438  0.53363434]\n",
      " [ 1.          0.         -1.51315753 -1.42625404]\n",
      " ...\n",
      " [ 1.          0.         -1.51315753 -1.15404732]\n",
      " [ 1.          0.         -0.41989438 -0.52252773]\n",
      " [ 1.          0.         -1.51315753 -1.15404732]]\n"
     ]
    }
   ],
   "source": [
    "''' Observe training set with bias added to input vector '''\n",
    "print(f\"{X_train.shape}, \\n {X_train}\")"
   ]
  },
  {
   "cell_type": "code",
   "execution_count": 33,
   "metadata": {},
   "outputs": [
    {
     "data": {
      "text/plain": [
       "0        221900.0\n",
       "1        538000.0\n",
       "2        180000.0\n",
       "3        604000.0\n",
       "4        510000.0\n",
       "           ...   \n",
       "21608    360000.0\n",
       "21609    400000.0\n",
       "21610    402101.0\n",
       "21611    400000.0\n",
       "21612    325000.0\n",
       "Name: price, Length: 21613, dtype: float64"
      ]
     },
     "execution_count": 33,
     "metadata": {},
     "output_type": "execute_result"
    }
   ],
   "source": [
    "y_train"
   ]
  },
  {
   "cell_type": "code",
   "execution_count": 34,
   "metadata": {},
   "outputs": [],
   "source": [
    "# Initial Coefficients\n",
    "theta = np.zeros(X_train.shape[1])\n",
    "# theta = np.zeros(X.shape[1])\n",
    "eta = 0.02\n",
    "n_iters = 1000\n",
    "new_theta, cost_history = batch_gradient_descent(X, y, theta, eta, n_iters)"
   ]
  },
  {
   "cell_type": "code",
   "execution_count": 35,
   "metadata": {},
   "outputs": [
    {
     "name": "stdout",
     "output_type": "stream",
     "text": [
      "Shape: (4,), θ: [     0.         -37899.22585746 195626.54827367 109787.73790024]\n"
     ]
    }
   ],
   "source": [
    "''' Resultant Theta vector '''\n",
    "print(f\"Shape: {new_theta.shape}, \\u03B8: {new_theta}\")"
   ]
  },
  {
   "cell_type": "code",
   "execution_count": 36,
   "metadata": {},
   "outputs": [],
   "source": [
    "eta = 0.03\n",
    "new_theta_1, cost_hist_1 = batch_gradient_descent(X_train, y_train, theta, eta, n_iters)"
   ]
  },
  {
   "cell_type": "code",
   "execution_count": 38,
   "metadata": {},
   "outputs": [
    {
     "data": {
      "text/plain": [
       "Text(0, 0.5, 'Mean Squared Error')"
      ]
     },
     "execution_count": 38,
     "metadata": {},
     "output_type": "execute_result"
    },
    {
     "data": {
      "image/png": "[encoded data removed]",
      "text/plain": [
       "<Figure size 432x288 with 1 Axes>"
      ]
     },
     "metadata": {
      "needs_background": "light"
     },
     "output_type": "display_data"
    }
   ],
   "source": [
    "iter_list = [i for i in range(0, n_iters)]\n",
    "plt.scatter(iter_list, cost_history)\n",
    "plt.title('Gradient Descent on Kings County Housing Data \\n $\\eta = {0.02}$; Iterations = 1000')\n",
    "plt.xlabel('No. of Iterations')\n",
    "plt.ylabel('Mean Squared Error')"
   ]
  },
  {
   "cell_type": "code",
   "execution_count": 39,
   "metadata": {},
   "outputs": [
    {
     "data": {
      "text/plain": [
       "Text(0, 0.5, 'Mean Squared Error')"
      ]
     },
     "execution_count": 39,
     "metadata": {},
     "output_type": "execute_result"
    },
    {
     "data": {
      "image/png": "[encoded data removed]",
      "text/plain": [
       "<Figure size 432x288 with 1 Axes>"
      ]
     },
     "metadata": {
      "needs_background": "light"
     },
     "output_type": "display_data"
    }
   ],
   "source": [
    "iter_list = [i for i in range(0, n_iters)]\n",
    "plt.scatter(iter_list, cost_hist_1)\n",
    "plt.title('Gradient Descent on Kings County Housing Data \\n $\\eta = {0.03}$; Iterations = 1000')\n",
    "plt.xlabel('No. of Iterations')\n",
    "plt.ylabel('Mean Squared Error')"
   ]
  },
  {
   "cell_type": "code",
   "execution_count": 40,
   "metadata": {},
   "outputs": [
    {
     "data": {
      "image/png": "[encoded data removed]",
      "text/plain": [
       "<Figure size 432x288 with 1 Axes>"
      ]
     },
     "metadata": {
      "needs_background": "light"
     },
     "output_type": "display_data"
    }
   ],
   "source": [
    "''' Plot Learning Rates '''\n",
    "n_iters = 1000\n",
    "theta = np.zeros(X_train.shape[1])\n",
    "\n",
    "eta = 0.005;\n",
    "theta_1, cost_history_1 = batch_gradient_descent(X_train, y_train, theta, eta, n_iters)\n",
    "\n",
    "eta = 0.01;\n",
    "theta_2, cost_history_2 = batch_gradient_descent(X_train, y_train, theta, eta, n_iters)\n",
    "\n",
    "eta = 0.02;\n",
    "theta_3, cost_history_3 = batch_gradient_descent(X_train, y_train, theta, eta, n_iters)\n",
    "\n",
    "eta = 0.03;\n",
    "theta_4, cost_history_4 = batch_gradient_descent(X_train, y_train, theta, eta, n_iters)\n",
    "\n",
    "eta = 0.15;\n",
    "theta_5, cost_history_5 = batch_gradient_descent(X_train, y_train, theta, eta, n_iters)\n",
    "\n",
    "plt.plot(range(1, n_iters +1), cost_history_1, color ='purple', label = '$\\eta = {0.005}$')\n",
    "plt.plot(range(1, n_iters +1), cost_history_2, color ='red', label = '$\\eta = {0.01}$')\n",
    "plt.plot(range(1, n_iters +1), cost_history_3, color ='green', label = '$\\eta = {0.02}$')\n",
    "plt.plot(range(1, n_iters +1), cost_history_4, color ='yellow', label = '$\\eta = {0.03}$')\n",
    "plt.plot(range(1, n_iters +1), cost_history_5, color ='blue', label = '$\\eta = {0.15}$')\n",
    "\n",
    "plt.rcParams[\"figure.figsize\"] = (12,7)\n",
    "plt.grid()\n",
    "plt.xlabel(\"Number of iterations\")\n",
    "plt.ylabel(\"Cost (J)\")\n",
    "plt.title(\"Effect of Learning Rate On Convergence of Gradient Descent\")\n",
    "plt.legend()\n",
    "plt.savefig('./Visualizations/BGD_LearningRates.png')"
   ]
  },
  {
   "cell_type": "markdown",
   "metadata": {},
   "source": [
    "### Performance Metrics"
   ]
  },
  {
   "cell_type": "code",
   "execution_count": null,
   "metadata": {},
   "outputs": [],
   "source": [
    "''' Transform input variables from dataframe to array object '''\n",
    "X = houseClean[['bedrooms','sqft_living','grade']].values\n",
    "\n",
    "''' Add bias column to input vector '''\n",
    "X = np.concatenate((np.ones((len(X), 1)), X), axis=1)\n",
    "\n",
    "''' Feature Scaling for Full Set '''\n",
    "min_x = np.min(X[:, 1:])\n",
    "max_x = np.max(X[:, 1:])\n",
    "X_normal[:, 1:] = (X[:, 1:] - min_x)/(max_x - min_x)\n",
    "X_normal[:10, :]"
   ]
  },
  {
   "cell_type": "code",
   "execution_count": null,
   "metadata": {},
   "outputs": [],
   "source": [
    "''' Transform output variable from dataframe to array object '''\n",
    "y = df['price'].values.reshape(-1,1)\n",
    "\n",
    "''' Feature Scaling for Output variable'''\n",
    "max_y = np.max(y)\n",
    "min_y = np.min(y)\n",
    "y_normal = (y - min_y)/(max_y - min_y) \n",
    "y_normal[:10, 0]"
   ]
  },
  {
   "cell_type": "code",
   "execution_count": null,
   "metadata": {},
   "outputs": [],
   "source": [
    "''' Perform predictions on training set'''\n",
    "# y_predict = X_normal.dot(theta_5)\n",
    "# ypred = y_predict*(max_x - min_y) + min_y\n",
    "\n",
    "# y_norm_sort = np.argsort(y_normal[:, 0])\n",
    "# plt.plot(y[y_norm_sort, 0], 'o', color=\"cyan\")\n",
    "# plt.plot(ypred[y_norm_sort, 0], '--')"
   ]
  },
  {
   "cell_type": "code",
   "execution_count": null,
   "metadata": {},
   "outputs": [],
   "source": [
    "theta_new = [[0.00967159],[0.39990284],[0.34333253],[0.39978521]]"
   ]
  },
  {
   "cell_type": "code",
   "execution_count": null,
   "metadata": {},
   "outputs": [],
   "source": [
    "def predict(x, theta):\n",
    "    xnorm = (x - min_x)/(max_x - min_x)\n",
    "    y_predict = xnorm.dot(theta)\n",
    "    ypred = y_predict*(max_x - min_y) + min_y\n",
    "    return ypred"
   ]
  },
  {
   "cell_type": "code",
   "execution_count": null,
   "metadata": {},
   "outputs": [],
   "source": [
    "from scipy.stats import pearsonr\n",
    "r2 = pearsonr(ypred.reshape(-1), y_normal.reshape(-1))\n",
    "print(f\"R^2, P-Value: {r2}\")"
   ]
  },
  {
   "cell_type": "code",
   "execution_count": null,
   "metadata": {},
   "outputs": [],
   "source": [
    "x = np.array([1,3,2500,6])\n",
    "\n",
    "predict(x, theta_new)"
   ]
  },
  {
   "cell_type": "code",
   "execution_count": null,
   "metadata": {},
   "outputs": [],
   "source": [
    "''' Resultant Theta vector for $\\eta$ = 0.15 '''\n",
    "print(f\"Shape: {theta_5.shape}, \\u03B8: {theta_5}\")"
   ]
  },
  {
   "cell_type": "code",
   "execution_count": null,
   "metadata": {},
   "outputs": [],
   "source": [
    "normalize_test_data = ((np.array([1650, 3]) - mu) / sigma)\n",
    "normalize_test_data = np.hstack((np.ones(1), normalize_test_data))\n",
    "price = normalize_test_data.dot(theta)\n",
    "print('Predicted price of a 1650 sq-ft, 3 br house:', price)"
   ]
  }
 ],
 "metadata": {
  "kernelspec": {
   "display_name": "Python 3.7.3 64-bit ('base': conda)",
   "language": "python",
   "name": "python37364bitbaseconda8b8387ecfd4547b0b305075350132ee9"
  },
  "language_info": {
   "codemirror_mode": {
    "name": "ipython",
    "version": 3
   },
   "file_extension": ".py",
   "mimetype": "text/x-python",
   "name": "python",
   "nbconvert_exporter": "python",
   "pygments_lexer": "ipython3",
   "version": "3.7.3"
  }
 },
 "nbformat": 4,
 "nbformat_minor": 4
}
