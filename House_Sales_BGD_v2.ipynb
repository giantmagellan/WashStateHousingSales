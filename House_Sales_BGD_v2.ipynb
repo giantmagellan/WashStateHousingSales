{
 "cells": [
  {
   "cell_type": "markdown",
   "metadata": {},
   "source": [
    "# Batch Gradient Descent for Kings County, WA Housing Data"
   ]
  },
  {
   "cell_type": "code",
   "execution_count": 1,
   "metadata": {},
   "outputs": [],
   "source": [
    "# Supress warnings\n",
    "import warnings\n",
    "warnings.filterwarnings('ignore')\n",
    "\n",
    "# Dependencies\n",
    "import pandas as pd\n",
    "import numpy as np\n",
    "import seaborn as sns\n",
    "import matplotlib as mpl \n",
    "import matplotlib.pyplot as plt "
   ]
  },
  {
   "cell_type": "code",
   "execution_count": 2,
   "metadata": {},
   "outputs": [
    {
     "data": {
      "text/html": [
       "<div>\n",
       "<style scoped>\n",
       "    .dataframe tbody tr th:only-of-type {\n",
       "        vertical-align: middle;\n",
       "    }\n",
       "\n",
       "    .dataframe tbody tr th {\n",
       "        vertical-align: top;\n",
       "    }\n",
       "\n",
       "    .dataframe thead th {\n",
       "        text-align: right;\n",
       "    }\n",
       "</style>\n",
       "<table border=\"1\" class=\"dataframe\">\n",
       "  <thead>\n",
       "    <tr style=\"text-align: right;\">\n",
       "      <th></th>\n",
       "      <th>Unnamed: 0</th>\n",
       "      <th>id</th>\n",
       "      <th>date</th>\n",
       "      <th>price</th>\n",
       "      <th>bedrooms</th>\n",
       "      <th>bathrooms</th>\n",
       "      <th>sqft_living</th>\n",
       "      <th>sqft_lot</th>\n",
       "      <th>floors</th>\n",
       "      <th>waterfront</th>\n",
       "      <th>...</th>\n",
       "      <th>sqft_above</th>\n",
       "      <th>sqft_basement</th>\n",
       "      <th>yr_built</th>\n",
       "      <th>yr_renovated</th>\n",
       "      <th>zipcode</th>\n",
       "      <th>lat</th>\n",
       "      <th>long</th>\n",
       "      <th>sqft_living15</th>\n",
       "      <th>sqft_lot15</th>\n",
       "      <th>quarter</th>\n",
       "    </tr>\n",
       "  </thead>\n",
       "  <tbody>\n",
       "    <tr>\n",
       "      <th>0</th>\n",
       "      <td>0</td>\n",
       "      <td>7129300520</td>\n",
       "      <td>2014-10-13</td>\n",
       "      <td>221900.0</td>\n",
       "      <td>3.0</td>\n",
       "      <td>1.00</td>\n",
       "      <td>1180.0</td>\n",
       "      <td>5650.0</td>\n",
       "      <td>1.0</td>\n",
       "      <td>0</td>\n",
       "      <td>...</td>\n",
       "      <td>1180</td>\n",
       "      <td>0</td>\n",
       "      <td>1955</td>\n",
       "      <td>0</td>\n",
       "      <td>98178</td>\n",
       "      <td>47.5112</td>\n",
       "      <td>-122.257</td>\n",
       "      <td>1340</td>\n",
       "      <td>5650</td>\n",
       "      <td>4</td>\n",
       "    </tr>\n",
       "    <tr>\n",
       "      <th>1</th>\n",
       "      <td>1</td>\n",
       "      <td>6414100192</td>\n",
       "      <td>2014-12-09</td>\n",
       "      <td>538000.0</td>\n",
       "      <td>3.0</td>\n",
       "      <td>2.25</td>\n",
       "      <td>2570.0</td>\n",
       "      <td>7242.0</td>\n",
       "      <td>2.0</td>\n",
       "      <td>0</td>\n",
       "      <td>...</td>\n",
       "      <td>2170</td>\n",
       "      <td>400</td>\n",
       "      <td>1951</td>\n",
       "      <td>1991</td>\n",
       "      <td>98125</td>\n",
       "      <td>47.7210</td>\n",
       "      <td>-122.319</td>\n",
       "      <td>1690</td>\n",
       "      <td>7639</td>\n",
       "      <td>4</td>\n",
       "    </tr>\n",
       "    <tr>\n",
       "      <th>2</th>\n",
       "      <td>2</td>\n",
       "      <td>5631500400</td>\n",
       "      <td>2015-02-25</td>\n",
       "      <td>180000.0</td>\n",
       "      <td>2.0</td>\n",
       "      <td>1.00</td>\n",
       "      <td>770.0</td>\n",
       "      <td>10000.0</td>\n",
       "      <td>1.0</td>\n",
       "      <td>0</td>\n",
       "      <td>...</td>\n",
       "      <td>770</td>\n",
       "      <td>0</td>\n",
       "      <td>1933</td>\n",
       "      <td>0</td>\n",
       "      <td>98028</td>\n",
       "      <td>47.7379</td>\n",
       "      <td>-122.233</td>\n",
       "      <td>2720</td>\n",
       "      <td>8062</td>\n",
       "      <td>1</td>\n",
       "    </tr>\n",
       "    <tr>\n",
       "      <th>3</th>\n",
       "      <td>3</td>\n",
       "      <td>2487200875</td>\n",
       "      <td>2014-12-09</td>\n",
       "      <td>604000.0</td>\n",
       "      <td>4.0</td>\n",
       "      <td>3.00</td>\n",
       "      <td>1960.0</td>\n",
       "      <td>5000.0</td>\n",
       "      <td>1.0</td>\n",
       "      <td>0</td>\n",
       "      <td>...</td>\n",
       "      <td>1050</td>\n",
       "      <td>910</td>\n",
       "      <td>1965</td>\n",
       "      <td>0</td>\n",
       "      <td>98136</td>\n",
       "      <td>47.5208</td>\n",
       "      <td>-122.393</td>\n",
       "      <td>1360</td>\n",
       "      <td>5000</td>\n",
       "      <td>4</td>\n",
       "    </tr>\n",
       "    <tr>\n",
       "      <th>4</th>\n",
       "      <td>4</td>\n",
       "      <td>1954400510</td>\n",
       "      <td>2015-02-18</td>\n",
       "      <td>510000.0</td>\n",
       "      <td>3.0</td>\n",
       "      <td>2.00</td>\n",
       "      <td>1680.0</td>\n",
       "      <td>8080.0</td>\n",
       "      <td>1.0</td>\n",
       "      <td>0</td>\n",
       "      <td>...</td>\n",
       "      <td>1680</td>\n",
       "      <td>0</td>\n",
       "      <td>1987</td>\n",
       "      <td>0</td>\n",
       "      <td>98074</td>\n",
       "      <td>47.6168</td>\n",
       "      <td>-122.045</td>\n",
       "      <td>1800</td>\n",
       "      <td>7503</td>\n",
       "      <td>1</td>\n",
       "    </tr>\n",
       "  </tbody>\n",
       "</table>\n",
       "<p>5 rows × 23 columns</p>\n",
       "</div>"
      ],
      "text/plain": [
       "   Unnamed: 0          id        date     price  bedrooms  bathrooms  \\\n",
       "0           0  7129300520  2014-10-13  221900.0       3.0       1.00   \n",
       "1           1  6414100192  2014-12-09  538000.0       3.0       2.25   \n",
       "2           2  5631500400  2015-02-25  180000.0       2.0       1.00   \n",
       "3           3  2487200875  2014-12-09  604000.0       4.0       3.00   \n",
       "4           4  1954400510  2015-02-18  510000.0       3.0       2.00   \n",
       "\n",
       "   sqft_living  sqft_lot  floors  waterfront  ...  sqft_above  sqft_basement  \\\n",
       "0       1180.0    5650.0     1.0           0  ...        1180              0   \n",
       "1       2570.0    7242.0     2.0           0  ...        2170            400   \n",
       "2        770.0   10000.0     1.0           0  ...         770              0   \n",
       "3       1960.0    5000.0     1.0           0  ...        1050            910   \n",
       "4       1680.0    8080.0     1.0           0  ...        1680              0   \n",
       "\n",
       "   yr_built  yr_renovated  zipcode      lat     long  sqft_living15  \\\n",
       "0      1955             0    98178  47.5112 -122.257           1340   \n",
       "1      1951          1991    98125  47.7210 -122.319           1690   \n",
       "2      1933             0    98028  47.7379 -122.233           2720   \n",
       "3      1965             0    98136  47.5208 -122.393           1360   \n",
       "4      1987             0    98074  47.6168 -122.045           1800   \n",
       "\n",
       "   sqft_lot15  quarter  \n",
       "0        5650        4  \n",
       "1        7639        4  \n",
       "2        8062        1  \n",
       "3        5000        4  \n",
       "4        7503        1  \n",
       "\n",
       "[5 rows x 23 columns]"
      ]
     },
     "execution_count": 2,
     "metadata": {},
     "output_type": "execute_result"
    }
   ],
   "source": [
    "''' Import cleaned housing data for Kings County, WA. '''\n",
    "df = pd.read_csv(\"./data/Modified/houseClean_dates.csv\", index_col=False)\n",
    "df.head()"
   ]
  },
  {
   "cell_type": "code",
   "execution_count": 3,
   "metadata": {},
   "outputs": [],
   "source": [
    "# X = df[['bedrooms','sqft_living','grade']].values\n",
    "# y = df['price'].values.reshape(-1,1)\n",
    "# m = len(y)\n",
    "# print(m)"
   ]
  },
  {
   "cell_type": "code",
   "execution_count": 4,
   "metadata": {},
   "outputs": [
    {
     "data": {
      "text/plain": [
       "' Add a bias column to the input vector '"
      ]
     },
     "execution_count": 4,
     "metadata": {},
     "output_type": "execute_result"
    }
   ],
   "source": [
    "''' Add a bias column to the input vector '''\n",
    "# X = np.concatenate((np.ones((len(X), 1)), X), axis=1)\n",
    "# X.shape"
   ]
  },
  {
   "cell_type": "code",
   "execution_count": 5,
   "metadata": {},
   "outputs": [
    {
     "name": "stdout",
     "output_type": "stream",
     "text": [
      "(21613, 4) [[1.00000000e+00 2.21565731e-04 8.71491876e-02 5.16986706e-04]\n",
      " [1.00000000e+00 2.21565731e-04 1.89807976e-01 5.16986706e-04]\n",
      " [1.00000000e+00 1.47710487e-04 5.68685377e-02 4.43131462e-04]\n",
      " [1.00000000e+00 2.95420975e-04 1.44756278e-01 5.16986706e-04]\n",
      " [1.00000000e+00 2.21565731e-04 1.24076809e-01 5.90841950e-04]\n",
      " [1.00000000e+00 2.95420975e-04 4.00295421e-01 8.12407681e-04]\n",
      " [1.00000000e+00 2.21565731e-04 1.26661743e-01 5.16986706e-04]\n",
      " [1.00000000e+00 2.21565731e-04 7.82865583e-02 5.16986706e-04]\n",
      " [1.00000000e+00 2.21565731e-04 1.31462334e-01 5.16986706e-04]\n",
      " [1.00000000e+00 2.21565731e-04 1.39586411e-01 5.16986706e-04]]\n"
     ]
    }
   ],
   "source": [
    "''' Transform input variables from dataframe to array object '''\n",
    "X = df[['bedrooms','sqft_living','grade']].values\n",
    "\n",
    "''' Add bias column to input vector '''\n",
    "X = np.concatenate((np.ones((len(X), 1)), X), axis=1)\n",
    "\n",
    "''' Feature Scaling for Full Set '''\n",
    "min_x = np.min(X[:, 1:])\n",
    "max_x = np.max(X[:, 1:])\n",
    "X[:, 1:] = (X[:, 1:] - min_x)/(max_x - min_x)\n",
    "print(X.shape, X[:10, :])"
   ]
  },
  {
   "cell_type": "code",
   "execution_count": 6,
   "metadata": {},
   "outputs": [
    {
     "data": {
      "text/plain": [
       "array([0.01926557, 0.06072131, 0.01377049, 0.06937705, 0.05704918,\n",
       "       0.15081967, 0.02393443, 0.02843934, 0.0202623 , 0.03252459])"
      ]
     },
     "execution_count": 6,
     "metadata": {},
     "output_type": "execute_result"
    }
   ],
   "source": [
    "''' Transform output variable from dataframe to array object '''\n",
    "y = df['price'].values.reshape(-1,1)\n",
    "m = len(y)\n",
    "\n",
    "''' Feature Scaling for Output variable'''\n",
    "max_y = np.max(y)\n",
    "min_y = np.min(y)\n",
    "y_normal = (y - min_y)/(max_y - min_y) \n",
    "y_normal[:10, 0]"
   ]
  },
  {
   "cell_type": "code",
   "execution_count": 7,
   "metadata": {},
   "outputs": [
    {
     "data": {
      "image/png": "[encoded data removed]",
      "text/plain": [
       "<Figure size 432x288 with 1 Axes>"
      ]
     },
     "metadata": {
      "needs_background": "light"
     },
     "output_type": "display_data"
    }
   ],
   "source": [
    "# Initial estimate of parameters\n",
    "theta0 = np.zeros((X.shape[1],1))+0.4\n",
    "#theta0 = np.array([[0],[0.5],[2],[0.5]])\n",
    "\n",
    "ypred = X.dot(theta0)\n",
    "\n",
    "index_sort = np.argsort(y_normal[:, 0]) # sort the values for better visualization\n",
    "plt.plot(y_normal[index_sort, 0], 'o')\n",
    "plt.plot(ypred[index_sort, 0], '--')\n",
    "# plt.title()\n",
    "plt.xlabel(\"Predicted Values\")\n",
    "# plt.ylabel()\n",
    "plt.grid()\n",
    "plt.show()"
   ]
  },
  {
   "cell_type": "code",
   "execution_count": 8,
   "metadata": {},
   "outputs": [],
   "source": [
    "''' Gradient of the Cost Function Calculation '''\n",
    "def grad_cost(theta):\n",
    "    ''' dJ is the partial derivative of each mean-squared error with respect to all thetas '''\n",
    "    dJ = (2/m) * np.sum((X.dot(theta) - y_normal) * X, axis=0).reshape(-1,1)\n",
    "    return dJ"
   ]
  },
  {
   "cell_type": "code",
   "execution_count": 9,
   "metadata": {},
   "outputs": [
    {
     "data": {
      "text/plain": [
       "array([[8.01551215e-01],\n",
       "       [2.00422105e-04],\n",
       "       [1.22228531e-01],\n",
       "       [4.51298696e-04]])"
      ]
     },
     "execution_count": 9,
     "metadata": {},
     "output_type": "execute_result"
    }
   ],
   "source": [
    "grad_cost(theta0)"
   ]
  },
  {
   "cell_type": "code",
   "execution_count": 10,
   "metadata": {},
   "outputs": [],
   "source": [
    "''' MSE Cost Function for a Linear Regression Model '''\n",
    "def cost(theta):\n",
    "    ''' J is the mean squared error cost function '''\n",
    "    J = np.sum((X.dot(theta) - y_normal)**2, axis=0)[0]\n",
    "    return J"
   ]
  },
  {
   "cell_type": "code",
   "execution_count": 11,
   "metadata": {},
   "outputs": [
    {
     "data": {
      "text/plain": [
       "3497.856994392184"
      ]
     },
     "execution_count": 11,
     "metadata": {},
     "output_type": "execute_result"
    }
   ],
   "source": [
    "cost(theta0)"
   ]
  },
  {
   "cell_type": "code",
   "execution_count": 14,
   "metadata": {},
   "outputs": [],
   "source": [
    "def batch_grad(theta0, eta, n_iters, TOL=1e-7):\n",
    "    \n",
    "    theta_history = [theta0]\n",
    "    J_history = [cost(theta0)]\n",
    "    \n",
    "    theta_new = theta0 * n_iters\n",
    "    print(f'epoch \\t Cost(J) \\t')\n",
    "    \n",
    "    for epoch in range(n_iters):\n",
    "        if epoch%100 == 0:\n",
    "            print(f'{epoch:5d}\\t{J_history[-1]:7.4f}\\t')\n",
    "        dJ = grad_cost(theta0)\n",
    "        J = cost(theta0)\n",
    "        \n",
    "        theta_new = theta0 - (eta * dJ)\n",
    "        theta_history.append(theta_new)\n",
    "        J_history.append(J)\n",
    "        \n",
    "        if np.sum((theta_new - theta0)**2) < TOL:\n",
    "            print('Convergence achieved.')\n",
    "            break\n",
    "        theta0 = theta_new\n",
    "\n",
    "    return theta_new, theta_history, J_history"
   ]
  },
  {
   "cell_type": "code",
   "execution_count": 15,
   "metadata": {},
   "outputs": [
    {
     "name": "stdout",
     "output_type": "stream",
     "text": [
      "epoch \t Cost(J) \t\n",
      "    0\t3497.8570\t\n",
      "Convergence achieved.\n"
     ]
    }
   ],
   "source": [
    "theta, theta_history, J_history = batch_grad(theta0, 0.02, 1000)\n",
    "# theta, theta_history, J_history"
   ]
  },
  {
   "cell_type": "code",
   "execution_count": 16,
   "metadata": {},
   "outputs": [
    {
     "data": {
      "text/plain": [
       "Text(0, 0.5, 'Cost')"
      ]
     },
     "execution_count": 16,
     "metadata": {},
     "output_type": "execute_result"
    },
    {
     "data": {
      "image/png": "[encoded data removed]",
      "text/plain": [
       "<Figure size 432x288 with 1 Axes>"
      ]
     },
     "metadata": {
      "needs_background": "light"
     },
     "output_type": "display_data"
    }
   ],
   "source": [
    "plt.plot(J_history)\n",
    "plt.title(\"$\\eta={0.02}$\")\n",
    "plt.xlabel(\"No. of Iterations\")\n",
    "plt.ylabel(\"Cost\")"
   ]
  },
  {
   "cell_type": "code",
   "execution_count": 17,
   "metadata": {},
   "outputs": [
    {
     "data": {
      "text/plain": [
       "[<matplotlib.lines.Line2D at 0x1fef4502278>]"
      ]
     },
     "execution_count": 17,
     "metadata": {},
     "output_type": "execute_result"
    },
    {
     "data": {
      "image/png": "[encoded data removed]",
      "text/plain": [
       "<Figure size 432x288 with 1 Axes>"
      ]
     },
     "metadata": {
      "needs_background": "light"
     },
     "output_type": "display_data"
    }
   ],
   "source": [
    "y_predict = X.dot(theta)\n",
    "\n",
    "ypred = y_predict * (max_y - min_y) + min_y\n",
    "plt.plot(y[index_sort, 0], 'o')\n",
    "plt.plot(ypred[index_sort, 0], '--')"
   ]
  },
  {
   "cell_type": "code",
   "execution_count": 18,
   "metadata": {},
   "outputs": [
    {
     "name": "stdout",
     "output_type": "stream",
     "text": [
      "epoch \t Cost(J) \t\n",
      "    0\t3497.8570\t\n",
      "  100\t480.2473\t\n",
      "  200\t85.6211\t\n",
      "Convergence achieved.\n",
      "epoch \t Cost(J) \t\n",
      "    0\t3497.8570\t\n",
      "  100\t85.5865\t\n",
      "Convergence achieved.\n",
      "epoch \t Cost(J) \t\n",
      "    0\t3497.8570\t\n",
      "Convergence achieved.\n",
      "epoch \t Cost(J) \t\n",
      "    0\t3497.8570\t\n",
      "Convergence achieved.\n",
      "epoch \t Cost(J) \t\n",
      "    0\t3497.8570\t\n",
      "Convergence achieved.\n",
      "epoch \t Cost(J) \t\n",
      "    0\t3497.8570\t\n",
      "Convergence achieved.\n"
     ]
    },
    {
     "data": {
      "image/png": "[encoded data removed]",
      "text/plain": [
       "<Figure size 432x288 with 1 Axes>"
      ]
     },
     "metadata": {
      "needs_background": "light"
     },
     "output_type": "display_data"
    }
   ],
   "source": [
    "''' Plot Learning Rates '''\n",
    "n_iters = 1000\n",
    "theta = np.zeros(X.shape[1])\n",
    "\n",
    "eta = 0.005;\n",
    "theta_1, theta_history_1, J_history_1 = batch_grad(theta0, eta, n_iters)\n",
    "\n",
    "eta = 0.01;\n",
    "theta_2, theta_history_2, J_history_2 = batch_grad(theta0, eta, n_iters)\n",
    "\n",
    "eta = 0.02;\n",
    "theta_3, theta_history_3, J_history_3 = batch_grad(theta0, eta, n_iters)\n",
    "\n",
    "eta = 0.05;\n",
    "theta_4, theta_history_4, J_history_4 = batch_grad(theta0, eta, n_iters)\n",
    "\n",
    "eta = 0.10;\n",
    "theta_5, theta_history_5, J_history_5 = batch_grad(theta0, eta, n_iters)\n",
    "\n",
    "eta = 0.15;\n",
    "theta_6, theta_history_6, J_history_6 = batch_grad(theta0, eta, n_iters)\n",
    "\n",
    "plt.plot(J_history_1, color ='purple', label = '$\\eta = {0.005}$')\n",
    "plt.plot(J_history_2, color ='red', label = '$\\eta = {0.01}$')\n",
    "plt.plot(J_history_3, color ='green', label = '$\\eta = {0.02}$')\n",
    "plt.plot(J_history_4, color ='yellow', label = '$\\eta = {0.05}$')\n",
    "plt.plot(J_history_5, color ='blue', label = '$\\eta = {0.10}$')\n",
    "plt.plot(J_history_6, color ='orange', label = '$\\eta = {0.15}$')\n",
    "\n",
    "plt.rcParams[\"figure.figsize\"] = (12,7)\n",
    "plt.grid()\n",
    "plt.xlabel(\"Number of iterations\")\n",
    "plt.ylabel(\"Cost (J)\")\n",
    "plt.title(\"Effect of Learning Rate On Convergence of Gradient Descent\")\n",
    "plt.legend()\n",
    "plt.savefig('./Visualizations/BGD_LearningRates.png')"
   ]
  },
  {
   "cell_type": "code",
   "execution_count": 19,
   "metadata": {},
   "outputs": [],
   "source": [
    "''' Calculation to Predict Housing Values '''\n",
    "def predict(x, theta):\n",
    "    x_normal = (x - min_x)/(max_x - min_x)\n",
    "    y_predict = x_normal.dot(theta)\n",
    "    ypred = y_predict * (max_y - min_y) + min_y\n",
    "    return ypred"
   ]
  },
  {
   "cell_type": "code",
   "execution_count": 20,
   "metadata": {},
   "outputs": [],
   "source": [
    "''' Inputs for Prediction Function '''\n",
    "x1 = np.array([1, 1, 900, 7])\n",
    "x2 = np.array([1, 2, 1400, 7])\n",
    "x3 = np.array([1, 3, 1850, 7])\n",
    "x4 = np.array([1, 4, 2400, 7])"
   ]
  },
  {
   "cell_type": "code",
   "execution_count": 50,
   "metadata": {},
   "outputs": [
    {
     "name": "stdout",
     "output_type": "stream",
     "text": [
      "Predicted Housing Prices for Kings County, WA\n",
      " 1 Bedroom, 900 Sqft: $250,985.93\n",
      " 2 Bedroom, 1400 Sqft: $347,977.84\n",
      " 3 Bedroom, 1850 Sqft: $435,293.07\n",
      " 4 Bedroom, 2400 Sqft: $541,961.64\n"
     ]
    }
   ],
   "source": [
    "''' Provides Predicted Housing Price for a Learning Rate Value of 0.15 '''\n",
    "inputs = [x1, x2, x3, x4]\n",
    "price_pred = []\n",
    "\n",
    "for input in inputs:\n",
    "    prices = predict(input, theta_6).tolist()\n",
    "    for price in prices:\n",
    "        price_fin = price_pred.append('${:,.2f}'.format(price))\n",
    "#         print(price_fin)\n",
    "    \n",
    "print(f\"Predicted Housing Prices for Kings County, WA\")\n",
    "print(f\" 1 Bedroom, 900 Sqft: {price_pred[0]}\")\n",
    "print(f\" 2 Bedroom, 1400 Sqft: {price_pred[1]}\")\n",
    "print(f\" 3 Bedroom, 1850 Sqft: {price_pred[2]}\")\n",
    "print(f\" 4 Bedroom, 2400 Sqft: {price_pred[3]}\")"
   ]
  },
  {
   "cell_type": "code",
   "execution_count": 22,
   "metadata": {},
   "outputs": [
    {
     "name": "stdout",
     "output_type": "stream",
     "text": [
      "R2, P-Value: (0.7021231478439303, 0.0)\n"
     ]
    }
   ],
   "source": [
    "from scipy.stats import pearsonr\n",
    "\n",
    "pearson_coef = pearsonr(ypred.reshape(-1),y.reshape(-1))\n",
    "print(f\"R2, P-Value: {pearson_coef}\")"
   ]
  },
  {
   "cell_type": "code",
   "execution_count": 130,
   "metadata": {},
   "outputs": [],
   "source": [
    "''' Find the mean of inputs values per zipcode'''\n",
    "X_means = round(df.groupby('zipcode')[['bedrooms','sqft_living','grade']].mean(), 0).values\n",
    "# X_mean_df = X_means\n",
    "X_means = np.concatenate((np.ones((len(X_means), 1)), X_means), axis=1)\n",
    "# X_means"
   ]
  },
  {
   "cell_type": "code",
   "execution_count": 124,
   "metadata": {},
   "outputs": [],
   "source": [
    "''' Predicted Housing Price for each Zipcode in Kings County, WA '''\n",
    "for zip_avs in X_means:\n",
    "    price_preds = predict(X_means, theta_6).tolist()\n",
    "# print(price_preds)"
   ]
  },
  {
   "cell_type": "code",
   "execution_count": 125,
   "metadata": {},
   "outputs": [],
   "source": [
    "''' Flatten Price Predictions into List of Elements '''\n",
    "price_pred_fin = [round(price, 2) for sublist in price_preds for price in sublist]\n",
    "# price_pred_fin"
   ]
  },
  {
   "cell_type": "code",
   "execution_count": 135,
   "metadata": {},
   "outputs": [
    {
     "data": {
      "text/html": [
       "<div>\n",
       "<style scoped>\n",
       "    .dataframe tbody tr th:only-of-type {\n",
       "        vertical-align: middle;\n",
       "    }\n",
       "\n",
       "    .dataframe tbody tr th {\n",
       "        vertical-align: top;\n",
       "    }\n",
       "\n",
       "    .dataframe thead th {\n",
       "        text-align: right;\n",
       "    }\n",
       "</style>\n",
       "<table border=\"1\" class=\"dataframe\">\n",
       "  <thead>\n",
       "    <tr style=\"text-align: right;\">\n",
       "      <th></th>\n",
       "      <th>lat</th>\n",
       "      <th>long</th>\n",
       "    </tr>\n",
       "    <tr>\n",
       "      <th>zipcode</th>\n",
       "      <th></th>\n",
       "      <th></th>\n",
       "    </tr>\n",
       "  </thead>\n",
       "  <tbody>\n",
       "    <tr>\n",
       "      <th>98001</th>\n",
       "      <td>47.309020</td>\n",
       "      <td>-122.270646</td>\n",
       "    </tr>\n",
       "    <tr>\n",
       "      <th>98002</th>\n",
       "      <td>47.308780</td>\n",
       "      <td>-122.213357</td>\n",
       "    </tr>\n",
       "    <tr>\n",
       "      <th>98003</th>\n",
       "      <td>47.315741</td>\n",
       "      <td>-122.310054</td>\n",
       "    </tr>\n",
       "    <tr>\n",
       "      <th>98004</th>\n",
       "      <td>47.616183</td>\n",
       "      <td>-122.205189</td>\n",
       "    </tr>\n",
       "    <tr>\n",
       "      <th>98005</th>\n",
       "      <td>47.611532</td>\n",
       "      <td>-122.167268</td>\n",
       "    </tr>\n",
       "  </tbody>\n",
       "</table>\n",
       "</div>"
      ],
      "text/plain": [
       "               lat        long\n",
       "zipcode                       \n",
       "98001    47.309020 -122.270646\n",
       "98002    47.308780 -122.213357\n",
       "98003    47.315741 -122.310054\n",
       "98004    47.616183 -122.205189\n",
       "98005    47.611532 -122.167268"
      ]
     },
     "execution_count": 135,
     "metadata": {},
     "output_type": "execute_result"
    }
   ],
   "source": [
    "lat_longs = df.groupby('zipcode')[['lat','long']].mean()\n",
    "lat_longs.head()"
   ]
  },
  {
   "cell_type": "code",
   "execution_count": 136,
   "metadata": {},
   "outputs": [
    {
     "data": {
      "text/html": [
       "<div>\n",
       "<style scoped>\n",
       "    .dataframe tbody tr th:only-of-type {\n",
       "        vertical-align: middle;\n",
       "    }\n",
       "\n",
       "    .dataframe tbody tr th {\n",
       "        vertical-align: top;\n",
       "    }\n",
       "\n",
       "    .dataframe thead th {\n",
       "        text-align: right;\n",
       "    }\n",
       "</style>\n",
       "<table border=\"1\" class=\"dataframe\">\n",
       "  <thead>\n",
       "    <tr style=\"text-align: right;\">\n",
       "      <th></th>\n",
       "      <th>zipcode</th>\n",
       "      <th>lat</th>\n",
       "      <th>long</th>\n",
       "      <th>price_predictions</th>\n",
       "    </tr>\n",
       "    <tr>\n",
       "      <th>zipcode</th>\n",
       "      <th></th>\n",
       "      <th></th>\n",
       "      <th></th>\n",
       "      <th></th>\n",
       "    </tr>\n",
       "  </thead>\n",
       "  <tbody>\n",
       "    <tr>\n",
       "      <th>98001</th>\n",
       "      <td>98001</td>\n",
       "      <td>47.309020</td>\n",
       "      <td>-122.270646</td>\n",
       "      <td>445163.27</td>\n",
       "    </tr>\n",
       "    <tr>\n",
       "      <th>98002</th>\n",
       "      <td>98002</td>\n",
       "      <td>47.308780</td>\n",
       "      <td>-122.213357</td>\n",
       "      <td>392328.66</td>\n",
       "    </tr>\n",
       "    <tr>\n",
       "      <th>98003</th>\n",
       "      <td>98003</td>\n",
       "      <td>47.315741</td>\n",
       "      <td>-122.310054</td>\n",
       "      <td>450807.35</td>\n",
       "    </tr>\n",
       "    <tr>\n",
       "      <th>98004</th>\n",
       "      <td>98004</td>\n",
       "      <td>47.616183</td>\n",
       "      <td>-122.205189</td>\n",
       "      <td>640920.42</td>\n",
       "    </tr>\n",
       "    <tr>\n",
       "      <th>98005</th>\n",
       "      <td>98005</td>\n",
       "      <td>47.611532</td>\n",
       "      <td>-122.167268</td>\n",
       "      <td>591924.86</td>\n",
       "    </tr>\n",
       "    <tr>\n",
       "      <th>98006</th>\n",
       "      <td>98006</td>\n",
       "      <td>47.558022</td>\n",
       "      <td>-122.146839</td>\n",
       "      <td>636856.22</td>\n",
       "    </tr>\n",
       "    <tr>\n",
       "      <th>98007</th>\n",
       "      <td>98007</td>\n",
       "      <td>47.610522</td>\n",
       "      <td>-122.142078</td>\n",
       "      <td>499996.50</td>\n",
       "    </tr>\n",
       "    <tr>\n",
       "      <th>98008</th>\n",
       "      <td>98008</td>\n",
       "      <td>47.613312</td>\n",
       "      <td>-122.115834</td>\n",
       "      <td>490513.36</td>\n",
       "    </tr>\n",
       "    <tr>\n",
       "      <th>98010</th>\n",
       "      <td>98010</td>\n",
       "      <td>47.333210</td>\n",
       "      <td>-121.999470</td>\n",
       "      <td>491030.69</td>\n",
       "    </tr>\n",
       "    <tr>\n",
       "      <th>98011</th>\n",
       "      <td>98011</td>\n",
       "      <td>47.755192</td>\n",
       "      <td>-122.201174</td>\n",
       "      <td>513737.37</td>\n",
       "    </tr>\n",
       "  </tbody>\n",
       "</table>\n",
       "</div>"
      ],
      "text/plain": [
       "         zipcode        lat        long  price_predictions\n",
       "zipcode                                                   \n",
       "98001      98001  47.309020 -122.270646          445163.27\n",
       "98002      98002  47.308780 -122.213357          392328.66\n",
       "98003      98003  47.315741 -122.310054          450807.35\n",
       "98004      98004  47.616183 -122.205189          640920.42\n",
       "98005      98005  47.611532 -122.167268          591924.86\n",
       "98006      98006  47.558022 -122.146839          636856.22\n",
       "98007      98007  47.610522 -122.142078          499996.50\n",
       "98008      98008  47.613312 -122.115834          490513.36\n",
       "98010      98010  47.333210 -121.999470          491030.69\n",
       "98011      98011  47.755192 -122.201174          513737.37"
      ]
     },
     "execution_count": 136,
     "metadata": {},
     "output_type": "execute_result"
    }
   ],
   "source": [
    "''' DataFrame of Price Predictions per Zipcode '''\n",
    "price_pred_df = pd.DataFrame({'zipcode': sorted(df['zipcode'].unique()),\n",
    "                              'lat': lat_longs['lat'],\n",
    "                              'long': lat_longs['long'],\n",
    "                              'price_predictions': price_pred_fin})\n",
    "price_pred_df.head(10)"
   ]
  },
  {
   "cell_type": "code",
   "execution_count": 137,
   "metadata": {},
   "outputs": [
    {
     "data": {
      "image/png": "[encoded data removed]",
      "text/plain": [
       "<Figure size 576x432 with 1 Axes>"
      ]
     },
     "metadata": {
      "needs_background": "light"
     },
     "output_type": "display_data"
    }
   ],
   "source": [
    "#Scatterplot of the Living area and Price.\n",
    "Size=plt.figure()\n",
    "Size.set_figwidth(8)\n",
    "Size.set_figheight(6)\n",
    "sns.set_style(\"white\")\n",
    "\n",
    "lat = lat_longs['lat']\n",
    "long = lat_longs['long']\n",
    "sns.scatterplot(data=price_pred_df, x=lat, y=long, hue=\"price_predictions\")\n",
    "\n",
    "plt.title('Price Predictions by Zipcode for King County, WA: May 2014 thru May 2015')\n",
    "plt.xlabel('Latitude')\n",
    "plt.ylabel('Longitude')\n",
    "plt.savefig('PricePredictions_by_Zipcode.png')\n",
    "plt.show()"
   ]
  },
  {
   "cell_type": "code",
   "execution_count": null,
   "metadata": {},
   "outputs": [],
   "source": []
  }
 ],
 "metadata": {
  "kernelspec": {
   "display_name": "Python 3.7.3 64-bit ('base': conda)",
   "language": "python",
   "name": "python37364bitbaseconda8b8387ecfd4547b0b305075350132ee9"
  },
  "language_info": {
   "codemirror_mode": {
    "name": "ipython",
    "version": 3
   },
   "file_extension": ".py",
   "mimetype": "text/x-python",
   "name": "python",
   "nbconvert_exporter": "python",
   "pygments_lexer": "ipython3",
   "version": "3.7.3"
  }
 },
 "nbformat": 4,
 "nbformat_minor": 4
}
