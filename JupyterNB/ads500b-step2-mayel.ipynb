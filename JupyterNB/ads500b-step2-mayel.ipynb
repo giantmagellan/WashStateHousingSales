{
 "cells": [
  {
   "cell_type": "code",
   "execution_count": 2,
   "metadata": {},
   "outputs": [],
   "source": [
    "import pandas as pd"
   ]
  },
  {
   "cell_type": "markdown",
   "metadata": {},
   "source": [
    "# Step 2\n",
    "- Read the file processed in ads500b-step1-mayel. The file name is house_sales_step1_mayel.csv\n",
    "- Double check to make sure there are no more bedrooms or batroom data missing for any observation."
   ]
  },
  {
   "cell_type": "code",
   "execution_count": 3,
   "metadata": {},
   "outputs": [],
   "source": [
    "house_sales_df = pd.read_csv(\"house_sales_step1_mayel.csv\",encoding='utf-8')"
   ]
  },
  {
   "cell_type": "code",
   "execution_count": null,
   "metadata": {},
   "outputs": [],
   "source": [
    "house_sales_df.head()"
   ]
  },
  {
   "cell_type": "code",
   "execution_count": 59,
   "metadata": {},
   "outputs": [
    {
     "data": {
      "text/html": [
       "<div>\n",
       "<style scoped>\n",
       "    .dataframe tbody tr th:only-of-type {\n",
       "        vertical-align: middle;\n",
       "    }\n",
       "\n",
       "    .dataframe tbody tr th {\n",
       "        vertical-align: top;\n",
       "    }\n",
       "\n",
       "    .dataframe thead th {\n",
       "        text-align: right;\n",
       "    }\n",
       "</style>\n",
       "<table border=\"1\" class=\"dataframe\">\n",
       "  <thead>\n",
       "    <tr style=\"text-align: right;\">\n",
       "      <th></th>\n",
       "      <th>id</th>\n",
       "      <th>date</th>\n",
       "      <th>price</th>\n",
       "      <th>bedrooms</th>\n",
       "      <th>bathrooms</th>\n",
       "      <th>sqft_living</th>\n",
       "      <th>sqft_lot</th>\n",
       "      <th>floors</th>\n",
       "      <th>waterfront</th>\n",
       "      <th>view</th>\n",
       "      <th>...</th>\n",
       "      <th>yr_renovated</th>\n",
       "      <th>zipcode</th>\n",
       "      <th>lat</th>\n",
       "      <th>long</th>\n",
       "      <th>sqft_living15</th>\n",
       "      <th>sqft_lot15</th>\n",
       "      <th>total_sqf</th>\n",
       "      <th>predict_bedrooms</th>\n",
       "      <th>predict_bathrooms</th>\n",
       "      <th>delta_bathrooms</th>\n",
       "    </tr>\n",
       "  </thead>\n",
       "  <tbody>\n",
       "  </tbody>\n",
       "</table>\n",
       "<p>0 rows × 25 columns</p>\n",
       "</div>"
      ],
      "text/plain": [
       "Empty DataFrame\n",
       "Columns: [id, date, price, bedrooms, bathrooms, sqft_living, sqft_lot, floors, waterfront, view, condition, grade, sqft_above, sqft_basement, yr_built, yr_renovated, zipcode, lat, long, sqft_living15, sqft_lot15, total_sqf, predict_bedrooms, predict_bathrooms, delta_bathrooms]\n",
       "Index: []\n",
       "\n",
       "[0 rows x 25 columns]"
      ]
     },
     "execution_count": 59,
     "metadata": {},
     "output_type": "execute_result"
    }
   ],
   "source": [
    "house_sales_df[house_sales_df['bathrooms'] == 0]"
   ]
  },
  {
   "cell_type": "code",
   "execution_count": 60,
   "metadata": {},
   "outputs": [
    {
     "data": {
      "text/html": [
       "<div>\n",
       "<style scoped>\n",
       "    .dataframe tbody tr th:only-of-type {\n",
       "        vertical-align: middle;\n",
       "    }\n",
       "\n",
       "    .dataframe tbody tr th {\n",
       "        vertical-align: top;\n",
       "    }\n",
       "\n",
       "    .dataframe thead th {\n",
       "        text-align: right;\n",
       "    }\n",
       "</style>\n",
       "<table border=\"1\" class=\"dataframe\">\n",
       "  <thead>\n",
       "    <tr style=\"text-align: right;\">\n",
       "      <th></th>\n",
       "      <th>id</th>\n",
       "      <th>date</th>\n",
       "      <th>price</th>\n",
       "      <th>bedrooms</th>\n",
       "      <th>bathrooms</th>\n",
       "      <th>sqft_living</th>\n",
       "      <th>sqft_lot</th>\n",
       "      <th>floors</th>\n",
       "      <th>waterfront</th>\n",
       "      <th>view</th>\n",
       "      <th>...</th>\n",
       "      <th>yr_renovated</th>\n",
       "      <th>zipcode</th>\n",
       "      <th>lat</th>\n",
       "      <th>long</th>\n",
       "      <th>sqft_living15</th>\n",
       "      <th>sqft_lot15</th>\n",
       "      <th>total_sqf</th>\n",
       "      <th>predict_bedrooms</th>\n",
       "      <th>predict_bathrooms</th>\n",
       "      <th>delta_bathrooms</th>\n",
       "    </tr>\n",
       "  </thead>\n",
       "  <tbody>\n",
       "  </tbody>\n",
       "</table>\n",
       "<p>0 rows × 25 columns</p>\n",
       "</div>"
      ],
      "text/plain": [
       "Empty DataFrame\n",
       "Columns: [id, date, price, bedrooms, bathrooms, sqft_living, sqft_lot, floors, waterfront, view, condition, grade, sqft_above, sqft_basement, yr_built, yr_renovated, zipcode, lat, long, sqft_living15, sqft_lot15, total_sqf, predict_bedrooms, predict_bathrooms, delta_bathrooms]\n",
       "Index: []\n",
       "\n",
       "[0 rows x 25 columns]"
      ]
     },
     "execution_count": 60,
     "metadata": {},
     "output_type": "execute_result"
    }
   ],
   "source": [
    "house_sales_df[house_sales_df['bedrooms'] == 0]"
   ]
  },
  {
   "cell_type": "markdown",
   "metadata": {},
   "source": [
    "## Remove extraneous fields\n",
    "- id\n",
    "- date\n",
    "- delta_bathrooms"
   ]
  },
  {
   "cell_type": "code",
   "execution_count": 5,
   "metadata": {},
   "outputs": [],
   "source": [
    "hs_df = house_sales_df.drop(['id','date','delta_bathrooms'], 1)"
   ]
  },
  {
   "cell_type": "code",
   "execution_count": 6,
   "metadata": {},
   "outputs": [
    {
     "data": {
      "text/html": [
       "<div>\n",
       "<style scoped>\n",
       "    .dataframe tbody tr th:only-of-type {\n",
       "        vertical-align: middle;\n",
       "    }\n",
       "\n",
       "    .dataframe tbody tr th {\n",
       "        vertical-align: top;\n",
       "    }\n",
       "\n",
       "    .dataframe thead th {\n",
       "        text-align: right;\n",
       "    }\n",
       "</style>\n",
       "<table border=\"1\" class=\"dataframe\">\n",
       "  <thead>\n",
       "    <tr style=\"text-align: right;\">\n",
       "      <th></th>\n",
       "      <th>price</th>\n",
       "      <th>bedrooms</th>\n",
       "      <th>bathrooms</th>\n",
       "      <th>sqft_living</th>\n",
       "      <th>sqft_lot</th>\n",
       "      <th>floors</th>\n",
       "      <th>waterfront</th>\n",
       "      <th>view</th>\n",
       "      <th>condition</th>\n",
       "      <th>grade</th>\n",
       "      <th>...</th>\n",
       "      <th>yr_built</th>\n",
       "      <th>yr_renovated</th>\n",
       "      <th>zipcode</th>\n",
       "      <th>lat</th>\n",
       "      <th>long</th>\n",
       "      <th>sqft_living15</th>\n",
       "      <th>sqft_lot15</th>\n",
       "      <th>total_sqf</th>\n",
       "      <th>predict_bedrooms</th>\n",
       "      <th>predict_bathrooms</th>\n",
       "    </tr>\n",
       "  </thead>\n",
       "  <tbody>\n",
       "    <tr>\n",
       "      <th>0</th>\n",
       "      <td>221900.0</td>\n",
       "      <td>3.0</td>\n",
       "      <td>1.00</td>\n",
       "      <td>1180.0</td>\n",
       "      <td>5650.0</td>\n",
       "      <td>1.0</td>\n",
       "      <td>0</td>\n",
       "      <td>0</td>\n",
       "      <td>3</td>\n",
       "      <td>7</td>\n",
       "      <td>...</td>\n",
       "      <td>1955</td>\n",
       "      <td>0</td>\n",
       "      <td>98178</td>\n",
       "      <td>47.5112</td>\n",
       "      <td>-122.257</td>\n",
       "      <td>1340</td>\n",
       "      <td>5650</td>\n",
       "      <td>1180</td>\n",
       "      <td>3.0</td>\n",
       "      <td>1.5</td>\n",
       "    </tr>\n",
       "    <tr>\n",
       "      <th>1</th>\n",
       "      <td>538000.0</td>\n",
       "      <td>3.0</td>\n",
       "      <td>2.25</td>\n",
       "      <td>2570.0</td>\n",
       "      <td>7242.0</td>\n",
       "      <td>2.0</td>\n",
       "      <td>0</td>\n",
       "      <td>0</td>\n",
       "      <td>3</td>\n",
       "      <td>7</td>\n",
       "      <td>...</td>\n",
       "      <td>1951</td>\n",
       "      <td>1991</td>\n",
       "      <td>98125</td>\n",
       "      <td>47.7210</td>\n",
       "      <td>-122.319</td>\n",
       "      <td>1690</td>\n",
       "      <td>7639</td>\n",
       "      <td>2570</td>\n",
       "      <td>3.0</td>\n",
       "      <td>2.0</td>\n",
       "    </tr>\n",
       "    <tr>\n",
       "      <th>2</th>\n",
       "      <td>180000.0</td>\n",
       "      <td>2.0</td>\n",
       "      <td>1.00</td>\n",
       "      <td>770.0</td>\n",
       "      <td>10000.0</td>\n",
       "      <td>1.0</td>\n",
       "      <td>0</td>\n",
       "      <td>0</td>\n",
       "      <td>3</td>\n",
       "      <td>6</td>\n",
       "      <td>...</td>\n",
       "      <td>1933</td>\n",
       "      <td>0</td>\n",
       "      <td>98028</td>\n",
       "      <td>47.7379</td>\n",
       "      <td>-122.233</td>\n",
       "      <td>2720</td>\n",
       "      <td>8062</td>\n",
       "      <td>770</td>\n",
       "      <td>2.0</td>\n",
       "      <td>1.0</td>\n",
       "    </tr>\n",
       "    <tr>\n",
       "      <th>3</th>\n",
       "      <td>604000.0</td>\n",
       "      <td>4.0</td>\n",
       "      <td>3.00</td>\n",
       "      <td>1960.0</td>\n",
       "      <td>5000.0</td>\n",
       "      <td>1.0</td>\n",
       "      <td>0</td>\n",
       "      <td>0</td>\n",
       "      <td>5</td>\n",
       "      <td>7</td>\n",
       "      <td>...</td>\n",
       "      <td>1965</td>\n",
       "      <td>0</td>\n",
       "      <td>98136</td>\n",
       "      <td>47.5208</td>\n",
       "      <td>-122.393</td>\n",
       "      <td>1360</td>\n",
       "      <td>5000</td>\n",
       "      <td>1960</td>\n",
       "      <td>3.0</td>\n",
       "      <td>2.0</td>\n",
       "    </tr>\n",
       "    <tr>\n",
       "      <th>4</th>\n",
       "      <td>510000.0</td>\n",
       "      <td>3.0</td>\n",
       "      <td>2.00</td>\n",
       "      <td>1680.0</td>\n",
       "      <td>8080.0</td>\n",
       "      <td>1.0</td>\n",
       "      <td>0</td>\n",
       "      <td>0</td>\n",
       "      <td>3</td>\n",
       "      <td>8</td>\n",
       "      <td>...</td>\n",
       "      <td>1987</td>\n",
       "      <td>0</td>\n",
       "      <td>98074</td>\n",
       "      <td>47.6168</td>\n",
       "      <td>-122.045</td>\n",
       "      <td>1800</td>\n",
       "      <td>7503</td>\n",
       "      <td>1680</td>\n",
       "      <td>3.0</td>\n",
       "      <td>2.0</td>\n",
       "    </tr>\n",
       "  </tbody>\n",
       "</table>\n",
       "<p>5 rows × 22 columns</p>\n",
       "</div>"
      ],
      "text/plain": [
       "      price  bedrooms  bathrooms  sqft_living  sqft_lot  floors  waterfront  \\\n",
       "0  221900.0       3.0       1.00       1180.0    5650.0     1.0           0   \n",
       "1  538000.0       3.0       2.25       2570.0    7242.0     2.0           0   \n",
       "2  180000.0       2.0       1.00        770.0   10000.0     1.0           0   \n",
       "3  604000.0       4.0       3.00       1960.0    5000.0     1.0           0   \n",
       "4  510000.0       3.0       2.00       1680.0    8080.0     1.0           0   \n",
       "\n",
       "   view  condition  grade  ...  yr_built  yr_renovated  zipcode      lat  \\\n",
       "0     0          3      7  ...      1955             0    98178  47.5112   \n",
       "1     0          3      7  ...      1951          1991    98125  47.7210   \n",
       "2     0          3      6  ...      1933             0    98028  47.7379   \n",
       "3     0          5      7  ...      1965             0    98136  47.5208   \n",
       "4     0          3      8  ...      1987             0    98074  47.6168   \n",
       "\n",
       "      long  sqft_living15  sqft_lot15  total_sqf  predict_bedrooms  \\\n",
       "0 -122.257           1340        5650       1180               3.0   \n",
       "1 -122.319           1690        7639       2570               3.0   \n",
       "2 -122.233           2720        8062        770               2.0   \n",
       "3 -122.393           1360        5000       1960               3.0   \n",
       "4 -122.045           1800        7503       1680               3.0   \n",
       "\n",
       "   predict_bathrooms  \n",
       "0                1.5  \n",
       "1                2.0  \n",
       "2                1.0  \n",
       "3                2.0  \n",
       "4                2.0  \n",
       "\n",
       "[5 rows x 22 columns]"
      ]
     },
     "execution_count": 6,
     "metadata": {},
     "output_type": "execute_result"
    }
   ],
   "source": [
    "hs_df.head()"
   ]
  },
  {
   "cell_type": "markdown",
   "metadata": {},
   "source": [
    "# 2.2 Measures of Centrality and Distributions of Visualization"
   ]
  },
  {
   "cell_type": "markdown",
   "metadata": {},
   "source": [
    "## For all variables in the sample"
   ]
  },
  {
   "cell_type": "code",
   "execution_count": 117,
   "metadata": {},
   "outputs": [
    {
     "data": {
      "text/html": [
       "<div>\n",
       "<style scoped>\n",
       "    .dataframe tbody tr th:only-of-type {\n",
       "        vertical-align: middle;\n",
       "    }\n",
       "\n",
       "    .dataframe tbody tr th {\n",
       "        vertical-align: top;\n",
       "    }\n",
       "\n",
       "    .dataframe thead th {\n",
       "        text-align: right;\n",
       "    }\n",
       "</style>\n",
       "<table border=\"1\" class=\"dataframe\">\n",
       "  <thead>\n",
       "    <tr style=\"text-align: right;\">\n",
       "      <th></th>\n",
       "      <th>price</th>\n",
       "      <th>bedrooms</th>\n",
       "      <th>bathrooms</th>\n",
       "      <th>sqft_living</th>\n",
       "      <th>sqft_lot</th>\n",
       "      <th>floors</th>\n",
       "      <th>waterfront</th>\n",
       "      <th>view</th>\n",
       "      <th>condition</th>\n",
       "      <th>grade</th>\n",
       "      <th>...</th>\n",
       "      <th>yr_built</th>\n",
       "      <th>yr_renovated</th>\n",
       "      <th>zipcode</th>\n",
       "      <th>lat</th>\n",
       "      <th>long</th>\n",
       "      <th>sqft_living15</th>\n",
       "      <th>sqft_lot15</th>\n",
       "      <th>total_sqf</th>\n",
       "      <th>predict_bedrooms</th>\n",
       "      <th>predict_bathrooms</th>\n",
       "    </tr>\n",
       "  </thead>\n",
       "  <tbody>\n",
       "    <tr>\n",
       "      <th>count</th>\n",
       "      <td>2.161300e+04</td>\n",
       "      <td>21552.000000</td>\n",
       "      <td>21552.000000</td>\n",
       "      <td>20503.000000</td>\n",
       "      <td>2.056900e+04</td>\n",
       "      <td>21613.000000</td>\n",
       "      <td>21613.000000</td>\n",
       "      <td>21613.000000</td>\n",
       "      <td>21613.000000</td>\n",
       "      <td>21613.000000</td>\n",
       "      <td>...</td>\n",
       "      <td>21613.000000</td>\n",
       "      <td>21613.000000</td>\n",
       "      <td>21613.000000</td>\n",
       "      <td>21613.000000</td>\n",
       "      <td>21613.000000</td>\n",
       "      <td>21613.000000</td>\n",
       "      <td>21613.000000</td>\n",
       "      <td>21613.000000</td>\n",
       "      <td>20545.000000</td>\n",
       "      <td>21552.000000</td>\n",
       "    </tr>\n",
       "    <tr>\n",
       "      <th>mean</th>\n",
       "      <td>5.400881e+05</td>\n",
       "      <td>3.365859</td>\n",
       "      <td>2.110639</td>\n",
       "      <td>2081.073697</td>\n",
       "      <td>1.517982e+04</td>\n",
       "      <td>1.494309</td>\n",
       "      <td>0.007542</td>\n",
       "      <td>0.234303</td>\n",
       "      <td>3.409430</td>\n",
       "      <td>7.656873</td>\n",
       "      <td>...</td>\n",
       "      <td>1971.005136</td>\n",
       "      <td>84.402258</td>\n",
       "      <td>98077.939805</td>\n",
       "      <td>47.560053</td>\n",
       "      <td>-122.213896</td>\n",
       "      <td>1986.552492</td>\n",
       "      <td>12768.455652</td>\n",
       "      <td>2079.899736</td>\n",
       "      <td>3.200827</td>\n",
       "      <td>2.029417</td>\n",
       "    </tr>\n",
       "    <tr>\n",
       "      <th>std</th>\n",
       "      <td>3.671272e+05</td>\n",
       "      <td>0.913710</td>\n",
       "      <td>0.761569</td>\n",
       "      <td>915.043176</td>\n",
       "      <td>4.148617e+04</td>\n",
       "      <td>0.539989</td>\n",
       "      <td>0.086517</td>\n",
       "      <td>0.766318</td>\n",
       "      <td>0.650743</td>\n",
       "      <td>1.175459</td>\n",
       "      <td>...</td>\n",
       "      <td>29.373411</td>\n",
       "      <td>401.679240</td>\n",
       "      <td>53.505026</td>\n",
       "      <td>0.138564</td>\n",
       "      <td>0.140828</td>\n",
       "      <td>685.391304</td>\n",
       "      <td>27304.179631</td>\n",
       "      <td>918.440897</td>\n",
       "      <td>0.575805</td>\n",
       "      <td>0.607398</td>\n",
       "    </tr>\n",
       "    <tr>\n",
       "      <th>min</th>\n",
       "      <td>7.500000e+04</td>\n",
       "      <td>1.000000</td>\n",
       "      <td>0.500000</td>\n",
       "      <td>290.000000</td>\n",
       "      <td>5.200000e+02</td>\n",
       "      <td>1.000000</td>\n",
       "      <td>0.000000</td>\n",
       "      <td>0.000000</td>\n",
       "      <td>1.000000</td>\n",
       "      <td>1.000000</td>\n",
       "      <td>...</td>\n",
       "      <td>1900.000000</td>\n",
       "      <td>0.000000</td>\n",
       "      <td>98001.000000</td>\n",
       "      <td>47.155900</td>\n",
       "      <td>-122.519000</td>\n",
       "      <td>399.000000</td>\n",
       "      <td>651.000000</td>\n",
       "      <td>290.000000</td>\n",
       "      <td>2.000000</td>\n",
       "      <td>1.000000</td>\n",
       "    </tr>\n",
       "    <tr>\n",
       "      <th>25%</th>\n",
       "      <td>3.219500e+05</td>\n",
       "      <td>3.000000</td>\n",
       "      <td>1.750000</td>\n",
       "      <td>1430.000000</td>\n",
       "      <td>5.040000e+03</td>\n",
       "      <td>1.000000</td>\n",
       "      <td>0.000000</td>\n",
       "      <td>0.000000</td>\n",
       "      <td>3.000000</td>\n",
       "      <td>7.000000</td>\n",
       "      <td>...</td>\n",
       "      <td>1951.000000</td>\n",
       "      <td>0.000000</td>\n",
       "      <td>98033.000000</td>\n",
       "      <td>47.471000</td>\n",
       "      <td>-122.328000</td>\n",
       "      <td>1490.000000</td>\n",
       "      <td>5100.000000</td>\n",
       "      <td>1427.000000</td>\n",
       "      <td>3.000000</td>\n",
       "      <td>2.000000</td>\n",
       "    </tr>\n",
       "    <tr>\n",
       "      <th>50%</th>\n",
       "      <td>4.500000e+05</td>\n",
       "      <td>3.000000</td>\n",
       "      <td>2.250000</td>\n",
       "      <td>1920.000000</td>\n",
       "      <td>7.620000e+03</td>\n",
       "      <td>1.500000</td>\n",
       "      <td>0.000000</td>\n",
       "      <td>0.000000</td>\n",
       "      <td>3.000000</td>\n",
       "      <td>7.000000</td>\n",
       "      <td>...</td>\n",
       "      <td>1975.000000</td>\n",
       "      <td>0.000000</td>\n",
       "      <td>98065.000000</td>\n",
       "      <td>47.571800</td>\n",
       "      <td>-122.230000</td>\n",
       "      <td>1840.000000</td>\n",
       "      <td>7620.000000</td>\n",
       "      <td>1910.000000</td>\n",
       "      <td>3.000000</td>\n",
       "      <td>2.000000</td>\n",
       "    </tr>\n",
       "    <tr>\n",
       "      <th>75%</th>\n",
       "      <td>6.450000e+05</td>\n",
       "      <td>4.000000</td>\n",
       "      <td>2.500000</td>\n",
       "      <td>2550.000000</td>\n",
       "      <td>1.070800e+04</td>\n",
       "      <td>2.000000</td>\n",
       "      <td>0.000000</td>\n",
       "      <td>0.000000</td>\n",
       "      <td>4.000000</td>\n",
       "      <td>8.000000</td>\n",
       "      <td>...</td>\n",
       "      <td>1997.000000</td>\n",
       "      <td>0.000000</td>\n",
       "      <td>98118.000000</td>\n",
       "      <td>47.678000</td>\n",
       "      <td>-122.125000</td>\n",
       "      <td>2360.000000</td>\n",
       "      <td>10083.000000</td>\n",
       "      <td>2550.000000</td>\n",
       "      <td>3.000000</td>\n",
       "      <td>2.000000</td>\n",
       "    </tr>\n",
       "    <tr>\n",
       "      <th>max</th>\n",
       "      <td>7.700000e+06</td>\n",
       "      <td>33.000000</td>\n",
       "      <td>8.000000</td>\n",
       "      <td>12050.000000</td>\n",
       "      <td>1.651359e+06</td>\n",
       "      <td>3.500000</td>\n",
       "      <td>1.000000</td>\n",
       "      <td>4.000000</td>\n",
       "      <td>5.000000</td>\n",
       "      <td>13.000000</td>\n",
       "      <td>...</td>\n",
       "      <td>2015.000000</td>\n",
       "      <td>2015.000000</td>\n",
       "      <td>98199.000000</td>\n",
       "      <td>47.777600</td>\n",
       "      <td>-121.315000</td>\n",
       "      <td>6210.000000</td>\n",
       "      <td>871200.000000</td>\n",
       "      <td>13540.000000</td>\n",
       "      <td>9.000000</td>\n",
       "      <td>9.000000</td>\n",
       "    </tr>\n",
       "  </tbody>\n",
       "</table>\n",
       "<p>8 rows × 22 columns</p>\n",
       "</div>"
      ],
      "text/plain": [
       "              price      bedrooms     bathrooms   sqft_living      sqft_lot  \\\n",
       "count  2.161300e+04  21552.000000  21552.000000  20503.000000  2.056900e+04   \n",
       "mean   5.400881e+05      3.365859      2.110639   2081.073697  1.517982e+04   \n",
       "std    3.671272e+05      0.913710      0.761569    915.043176  4.148617e+04   \n",
       "min    7.500000e+04      1.000000      0.500000    290.000000  5.200000e+02   \n",
       "25%    3.219500e+05      3.000000      1.750000   1430.000000  5.040000e+03   \n",
       "50%    4.500000e+05      3.000000      2.250000   1920.000000  7.620000e+03   \n",
       "75%    6.450000e+05      4.000000      2.500000   2550.000000  1.070800e+04   \n",
       "max    7.700000e+06     33.000000      8.000000  12050.000000  1.651359e+06   \n",
       "\n",
       "             floors    waterfront          view     condition         grade  \\\n",
       "count  21613.000000  21613.000000  21613.000000  21613.000000  21613.000000   \n",
       "mean       1.494309      0.007542      0.234303      3.409430      7.656873   \n",
       "std        0.539989      0.086517      0.766318      0.650743      1.175459   \n",
       "min        1.000000      0.000000      0.000000      1.000000      1.000000   \n",
       "25%        1.000000      0.000000      0.000000      3.000000      7.000000   \n",
       "50%        1.500000      0.000000      0.000000      3.000000      7.000000   \n",
       "75%        2.000000      0.000000      0.000000      4.000000      8.000000   \n",
       "max        3.500000      1.000000      4.000000      5.000000     13.000000   \n",
       "\n",
       "       ...      yr_built  yr_renovated       zipcode           lat  \\\n",
       "count  ...  21613.000000  21613.000000  21613.000000  21613.000000   \n",
       "mean   ...   1971.005136     84.402258  98077.939805     47.560053   \n",
       "std    ...     29.373411    401.679240     53.505026      0.138564   \n",
       "min    ...   1900.000000      0.000000  98001.000000     47.155900   \n",
       "25%    ...   1951.000000      0.000000  98033.000000     47.471000   \n",
       "50%    ...   1975.000000      0.000000  98065.000000     47.571800   \n",
       "75%    ...   1997.000000      0.000000  98118.000000     47.678000   \n",
       "max    ...   2015.000000   2015.000000  98199.000000     47.777600   \n",
       "\n",
       "               long  sqft_living15     sqft_lot15     total_sqf  \\\n",
       "count  21613.000000   21613.000000   21613.000000  21613.000000   \n",
       "mean    -122.213896    1986.552492   12768.455652   2079.899736   \n",
       "std        0.140828     685.391304   27304.179631    918.440897   \n",
       "min     -122.519000     399.000000     651.000000    290.000000   \n",
       "25%     -122.328000    1490.000000    5100.000000   1427.000000   \n",
       "50%     -122.230000    1840.000000    7620.000000   1910.000000   \n",
       "75%     -122.125000    2360.000000   10083.000000   2550.000000   \n",
       "max     -121.315000    6210.000000  871200.000000  13540.000000   \n",
       "\n",
       "       predict_bedrooms  predict_bathrooms  \n",
       "count      20545.000000       21552.000000  \n",
       "mean           3.200827           2.029417  \n",
       "std            0.575805           0.607398  \n",
       "min            2.000000           1.000000  \n",
       "25%            3.000000           2.000000  \n",
       "50%            3.000000           2.000000  \n",
       "75%            3.000000           2.000000  \n",
       "max            9.000000           9.000000  \n",
       "\n",
       "[8 rows x 22 columns]"
      ]
     },
     "execution_count": 117,
     "metadata": {},
     "output_type": "execute_result"
    }
   ],
   "source": [
    "hs_df.describe()"
   ]
  },
  {
   "cell_type": "code",
   "execution_count": 64,
   "metadata": {},
   "outputs": [
    {
     "data": {
      "text/plain": [
       "price                540088.141767\n",
       "bedrooms                  3.365859\n",
       "bathrooms                 2.110639\n",
       "sqft_living            2081.073697\n",
       "sqft_lot              15179.820507\n",
       "floors                    1.494309\n",
       "waterfront                0.007542\n",
       "view                      0.234303\n",
       "condition                 3.409430\n",
       "grade                     7.656873\n",
       "sqft_above             1788.390691\n",
       "sqft_basement           291.509045\n",
       "yr_built               1971.005136\n",
       "yr_renovated             84.402258\n",
       "zipcode               98077.939805\n",
       "lat                      47.560053\n",
       "long                   -122.213896\n",
       "sqft_living15          1986.552492\n",
       "sqft_lot15            12768.455652\n",
       "total_sqf              2079.899736\n",
       "predict_bedrooms          3.200827\n",
       "predict_bathrooms         2.029417\n",
       "dtype: float64"
      ]
     },
     "execution_count": 64,
     "metadata": {},
     "output_type": "execute_result"
    }
   ],
   "source": [
    "hs_df.mean()"
   ]
  },
  {
   "cell_type": "code",
   "execution_count": 65,
   "metadata": {},
   "outputs": [
    {
     "data": {
      "text/plain": [
       "price                450000.0000\n",
       "bedrooms                  3.0000\n",
       "bathrooms                 2.2500\n",
       "sqft_living            1920.0000\n",
       "sqft_lot               7620.0000\n",
       "floors                    1.5000\n",
       "waterfront                0.0000\n",
       "view                      0.0000\n",
       "condition                 3.0000\n",
       "grade                     7.0000\n",
       "sqft_above             1560.0000\n",
       "sqft_basement             0.0000\n",
       "yr_built               1975.0000\n",
       "yr_renovated              0.0000\n",
       "zipcode               98065.0000\n",
       "lat                      47.5718\n",
       "long                   -122.2300\n",
       "sqft_living15          1840.0000\n",
       "sqft_lot15             7620.0000\n",
       "total_sqf              1910.0000\n",
       "predict_bedrooms          3.0000\n",
       "predict_bathrooms         2.0000\n",
       "dtype: float64"
      ]
     },
     "execution_count": 65,
     "metadata": {},
     "output_type": "execute_result"
    }
   ],
   "source": [
    "hs_df.median()"
   ]
  },
  {
   "cell_type": "code",
   "execution_count": 66,
   "metadata": {},
   "outputs": [
    {
     "data": {
      "text/html": [
       "<div>\n",
       "<style scoped>\n",
       "    .dataframe tbody tr th:only-of-type {\n",
       "        vertical-align: middle;\n",
       "    }\n",
       "\n",
       "    .dataframe tbody tr th {\n",
       "        vertical-align: top;\n",
       "    }\n",
       "\n",
       "    .dataframe thead th {\n",
       "        text-align: right;\n",
       "    }\n",
       "</style>\n",
       "<table border=\"1\" class=\"dataframe\">\n",
       "  <thead>\n",
       "    <tr style=\"text-align: right;\">\n",
       "      <th></th>\n",
       "      <th>price</th>\n",
       "      <th>bedrooms</th>\n",
       "      <th>bathrooms</th>\n",
       "      <th>sqft_living</th>\n",
       "      <th>sqft_lot</th>\n",
       "      <th>floors</th>\n",
       "      <th>waterfront</th>\n",
       "      <th>view</th>\n",
       "      <th>condition</th>\n",
       "      <th>grade</th>\n",
       "      <th>...</th>\n",
       "      <th>yr_built</th>\n",
       "      <th>yr_renovated</th>\n",
       "      <th>zipcode</th>\n",
       "      <th>lat</th>\n",
       "      <th>long</th>\n",
       "      <th>sqft_living15</th>\n",
       "      <th>sqft_lot15</th>\n",
       "      <th>total_sqf</th>\n",
       "      <th>predict_bedrooms</th>\n",
       "      <th>predict_bathrooms</th>\n",
       "    </tr>\n",
       "  </thead>\n",
       "  <tbody>\n",
       "    <tr>\n",
       "      <th>0</th>\n",
       "      <td>350000.0</td>\n",
       "      <td>3.0</td>\n",
       "      <td>2.5</td>\n",
       "      <td>1300.0</td>\n",
       "      <td>5000.0</td>\n",
       "      <td>1.0</td>\n",
       "      <td>0.0</td>\n",
       "      <td>0.0</td>\n",
       "      <td>3.0</td>\n",
       "      <td>7.0</td>\n",
       "      <td>...</td>\n",
       "      <td>2014.0</td>\n",
       "      <td>0.0</td>\n",
       "      <td>98103.0</td>\n",
       "      <td>47.5322</td>\n",
       "      <td>-122.29</td>\n",
       "      <td>1540.0</td>\n",
       "      <td>5000.0</td>\n",
       "      <td>1300.0</td>\n",
       "      <td>3.0</td>\n",
       "      <td>2.0</td>\n",
       "    </tr>\n",
       "    <tr>\n",
       "      <th>1</th>\n",
       "      <td>450000.0</td>\n",
       "      <td>NaN</td>\n",
       "      <td>NaN</td>\n",
       "      <td>NaN</td>\n",
       "      <td>NaN</td>\n",
       "      <td>NaN</td>\n",
       "      <td>NaN</td>\n",
       "      <td>NaN</td>\n",
       "      <td>NaN</td>\n",
       "      <td>NaN</td>\n",
       "      <td>...</td>\n",
       "      <td>NaN</td>\n",
       "      <td>NaN</td>\n",
       "      <td>NaN</td>\n",
       "      <td>47.5491</td>\n",
       "      <td>NaN</td>\n",
       "      <td>NaN</td>\n",
       "      <td>NaN</td>\n",
       "      <td>NaN</td>\n",
       "      <td>NaN</td>\n",
       "      <td>NaN</td>\n",
       "    </tr>\n",
       "    <tr>\n",
       "      <th>2</th>\n",
       "      <td>NaN</td>\n",
       "      <td>NaN</td>\n",
       "      <td>NaN</td>\n",
       "      <td>NaN</td>\n",
       "      <td>NaN</td>\n",
       "      <td>NaN</td>\n",
       "      <td>NaN</td>\n",
       "      <td>NaN</td>\n",
       "      <td>NaN</td>\n",
       "      <td>NaN</td>\n",
       "      <td>...</td>\n",
       "      <td>NaN</td>\n",
       "      <td>NaN</td>\n",
       "      <td>NaN</td>\n",
       "      <td>47.6624</td>\n",
       "      <td>NaN</td>\n",
       "      <td>NaN</td>\n",
       "      <td>NaN</td>\n",
       "      <td>NaN</td>\n",
       "      <td>NaN</td>\n",
       "      <td>NaN</td>\n",
       "    </tr>\n",
       "    <tr>\n",
       "      <th>3</th>\n",
       "      <td>NaN</td>\n",
       "      <td>NaN</td>\n",
       "      <td>NaN</td>\n",
       "      <td>NaN</td>\n",
       "      <td>NaN</td>\n",
       "      <td>NaN</td>\n",
       "      <td>NaN</td>\n",
       "      <td>NaN</td>\n",
       "      <td>NaN</td>\n",
       "      <td>NaN</td>\n",
       "      <td>...</td>\n",
       "      <td>NaN</td>\n",
       "      <td>NaN</td>\n",
       "      <td>NaN</td>\n",
       "      <td>47.6846</td>\n",
       "      <td>NaN</td>\n",
       "      <td>NaN</td>\n",
       "      <td>NaN</td>\n",
       "      <td>NaN</td>\n",
       "      <td>NaN</td>\n",
       "      <td>NaN</td>\n",
       "    </tr>\n",
       "  </tbody>\n",
       "</table>\n",
       "<p>4 rows × 22 columns</p>\n",
       "</div>"
      ],
      "text/plain": [
       "      price  bedrooms  bathrooms  sqft_living  sqft_lot  floors  waterfront  \\\n",
       "0  350000.0       3.0        2.5       1300.0    5000.0     1.0         0.0   \n",
       "1  450000.0       NaN        NaN          NaN       NaN     NaN         NaN   \n",
       "2       NaN       NaN        NaN          NaN       NaN     NaN         NaN   \n",
       "3       NaN       NaN        NaN          NaN       NaN     NaN         NaN   \n",
       "\n",
       "   view  condition  grade  ...  yr_built  yr_renovated  zipcode      lat  \\\n",
       "0   0.0        3.0    7.0  ...    2014.0           0.0  98103.0  47.5322   \n",
       "1   NaN        NaN    NaN  ...       NaN           NaN      NaN  47.5491   \n",
       "2   NaN        NaN    NaN  ...       NaN           NaN      NaN  47.6624   \n",
       "3   NaN        NaN    NaN  ...       NaN           NaN      NaN  47.6846   \n",
       "\n",
       "     long  sqft_living15  sqft_lot15  total_sqf  predict_bedrooms  \\\n",
       "0 -122.29         1540.0      5000.0     1300.0               3.0   \n",
       "1     NaN            NaN         NaN        NaN               NaN   \n",
       "2     NaN            NaN         NaN        NaN               NaN   \n",
       "3     NaN            NaN         NaN        NaN               NaN   \n",
       "\n",
       "   predict_bathrooms  \n",
       "0                2.0  \n",
       "1                NaN  \n",
       "2                NaN  \n",
       "3                NaN  \n",
       "\n",
       "[4 rows x 22 columns]"
      ]
     },
     "execution_count": 66,
     "metadata": {},
     "output_type": "execute_result"
    }
   ],
   "source": [
    "hs_df.mode()"
   ]
  },
  {
   "cell_type": "markdown",
   "metadata": {},
   "source": [
    "## For Bedrooms, Bathrooms and Total Sqf"
   ]
  },
  {
   "cell_type": "code",
   "execution_count": 67,
   "metadata": {},
   "outputs": [
    {
     "name": "stdout",
     "output_type": "stream",
     "text": [
      "Measures of centrality for Bedrooms\n",
      "Mean  : 3.37 \n",
      "Median: 3.00 \n",
      "Mode: "
     ]
    },
    {
     "data": {
      "text/plain": [
       "0    3.0\n",
       "dtype: float64"
      ]
     },
     "execution_count": 67,
     "metadata": {},
     "output_type": "execute_result"
    }
   ],
   "source": [
    "print(\"Measures of centrality for Bedrooms\")\n",
    "print(\"Mean  : {:.2f} \".format(house_sales_df.bedrooms.mean()))\n",
    "print(\"Median: {:.2f} \".format(house_sales_df.bedrooms.median()))\n",
    "print(\"Mode:\", end=\" \")\n",
    "house_sales_df.bedrooms.mode()"
   ]
  },
  {
   "cell_type": "code",
   "execution_count": 68,
   "metadata": {},
   "outputs": [
    {
     "name": "stdout",
     "output_type": "stream",
     "text": [
      "Measures of centrality for Bathrooms\n",
      "Mean  : 2.11 \n",
      "Median: 2.25 \n",
      "Mode: "
     ]
    },
    {
     "data": {
      "text/plain": [
       "0    2.5\n",
       "dtype: float64"
      ]
     },
     "execution_count": 68,
     "metadata": {},
     "output_type": "execute_result"
    }
   ],
   "source": [
    "print(\"Measures of centrality for Bathrooms\")\n",
    "print(\"Mean  : {:.2f} \".format(house_sales_df.bathrooms.mean()))\n",
    "print(\"Median: {:.2f} \".format(house_sales_df.bathrooms.median()))\n",
    "print(\"Mode:\", end=\" \")\n",
    "house_sales_df.bathrooms.mode()"
   ]
  },
  {
   "cell_type": "code",
   "execution_count": 131,
   "metadata": {},
   "outputs": [
    {
     "name": "stdout",
     "output_type": "stream",
     "text": [
      "Measures of centrality for Square feet living.\n",
      "Mean  : 2081.07 \n",
      "Median: 1920.00 \n",
      "Mode: "
     ]
    },
    {
     "data": {
      "text/plain": [
       "0    1300.0\n",
       "dtype: float64"
      ]
     },
     "execution_count": 131,
     "metadata": {},
     "output_type": "execute_result"
    }
   ],
   "source": [
    "print(\"Measures of centrality for Total square feet.\")\n",
    "print(\"Mean  : {:.2f} \".format(house_sales_df.total_sqf.mean()))\n",
    "print(\"Median: {:.2f} \".format(house_sales_df.total_sqf.median()))\n",
    "print(\"Mode:\", end=\" \")\n",
    "house_sales_df.total_sqf.mode()"
   ]
  },
  {
   "cell_type": "code",
   "execution_count": 132,
   "metadata": {},
   "outputs": [
    {
     "name": "stdout",
     "output_type": "stream",
     "text": [
      "Measures of centrality for Square feet living.\n",
      "Mean  : 2081.07 \n",
      "Median: 1920.00 \n",
      "Mode: "
     ]
    },
    {
     "data": {
      "text/plain": [
       "0    1300.0\n",
       "dtype: float64"
      ]
     },
     "execution_count": 132,
     "metadata": {},
     "output_type": "execute_result"
    }
   ],
   "source": [
    "print(\"Measures of centrality for Square feet living.\")\n",
    "print(\"Mean  : {:.2f} \".format(house_sales_df.sqft_living.mean()))\n",
    "print(\"Median: {:.2f} \".format(house_sales_df.sqft_living.median()))\n",
    "print(\"Mode:\", end=\" \")\n",
    "house_sales_df.sqft_living.mode()"
   ]
  },
  {
   "cell_type": "markdown",
   "metadata": {},
   "source": [
    "# 2.3 Focus on three variables with highest correlations to pricing"
   ]
  },
  {
   "cell_type": "code",
   "execution_count": 71,
   "metadata": {},
   "outputs": [
    {
     "data": {
      "text/html": [
       "<style  type=\"text/css\" >\n",
       "#T_b3d62a18_9803_11eb_bb73_acde48001122row0_col0,#T_b3d62a18_9803_11eb_bb73_acde48001122row1_col1,#T_b3d62a18_9803_11eb_bb73_acde48001122row2_col2,#T_b3d62a18_9803_11eb_bb73_acde48001122row3_col3,#T_b3d62a18_9803_11eb_bb73_acde48001122row3_col19,#T_b3d62a18_9803_11eb_bb73_acde48001122row4_col4,#T_b3d62a18_9803_11eb_bb73_acde48001122row5_col5,#T_b3d62a18_9803_11eb_bb73_acde48001122row6_col6,#T_b3d62a18_9803_11eb_bb73_acde48001122row7_col7,#T_b3d62a18_9803_11eb_bb73_acde48001122row8_col8,#T_b3d62a18_9803_11eb_bb73_acde48001122row9_col9,#T_b3d62a18_9803_11eb_bb73_acde48001122row10_col10,#T_b3d62a18_9803_11eb_bb73_acde48001122row11_col11,#T_b3d62a18_9803_11eb_bb73_acde48001122row12_col12,#T_b3d62a18_9803_11eb_bb73_acde48001122row13_col13,#T_b3d62a18_9803_11eb_bb73_acde48001122row14_col14,#T_b3d62a18_9803_11eb_bb73_acde48001122row15_col15,#T_b3d62a18_9803_11eb_bb73_acde48001122row16_col16,#T_b3d62a18_9803_11eb_bb73_acde48001122row17_col17,#T_b3d62a18_9803_11eb_bb73_acde48001122row18_col18,#T_b3d62a18_9803_11eb_bb73_acde48001122row19_col3,#T_b3d62a18_9803_11eb_bb73_acde48001122row19_col19,#T_b3d62a18_9803_11eb_bb73_acde48001122row20_col20,#T_b3d62a18_9803_11eb_bb73_acde48001122row21_col21{\n",
       "            background-color:  #b40426;\n",
       "            color:  #f1f1f1;\n",
       "        }#T_b3d62a18_9803_11eb_bb73_acde48001122row0_col1,#T_b3d62a18_9803_11eb_bb73_acde48001122row0_col5{\n",
       "            background-color:  #c4d5f3;\n",
       "            color:  #000000;\n",
       "        }#T_b3d62a18_9803_11eb_bb73_acde48001122row0_col2,#T_b3d62a18_9803_11eb_bb73_acde48001122row17_col0{\n",
       "            background-color:  #f2c9b4;\n",
       "            color:  #000000;\n",
       "        }#T_b3d62a18_9803_11eb_bb73_acde48001122row0_col3,#T_b3d62a18_9803_11eb_bb73_acde48001122row0_col19{\n",
       "            background-color:  #f4987a;\n",
       "            color:  #000000;\n",
       "        }#T_b3d62a18_9803_11eb_bb73_acde48001122row0_col4,#T_b3d62a18_9803_11eb_bb73_acde48001122row2_col4,#T_b3d62a18_9803_11eb_bb73_acde48001122row7_col18,#T_b3d62a18_9803_11eb_bb73_acde48001122row10_col14,#T_b3d62a18_9803_11eb_bb73_acde48001122row13_col20,#T_b3d62a18_9803_11eb_bb73_acde48001122row15_col2{\n",
       "            background-color:  #799cf8;\n",
       "            color:  #000000;\n",
       "        }#T_b3d62a18_9803_11eb_bb73_acde48001122row0_col6,#T_b3d62a18_9803_11eb_bb73_acde48001122row5_col0{\n",
       "            background-color:  #9dbdff;\n",
       "            color:  #000000;\n",
       "        }#T_b3d62a18_9803_11eb_bb73_acde48001122row0_col7,#T_b3d62a18_9803_11eb_bb73_acde48001122row1_col11,#T_b3d62a18_9803_11eb_bb73_acde48001122row5_col16,#T_b3d62a18_9803_11eb_bb73_acde48001122row11_col20{\n",
       "            background-color:  #ccd9ed;\n",
       "            color:  #000000;\n",
       "        }#T_b3d62a18_9803_11eb_bb73_acde48001122row0_col8,#T_b3d62a18_9803_11eb_bb73_acde48001122row5_col1,#T_b3d62a18_9803_11eb_bb73_acde48001122row8_col16,#T_b3d62a18_9803_11eb_bb73_acde48001122row18_col21,#T_b3d62a18_9803_11eb_bb73_acde48001122row21_col7{\n",
       "            background-color:  #9bbcff;\n",
       "            color:  #000000;\n",
       "        }#T_b3d62a18_9803_11eb_bb73_acde48001122row0_col9{\n",
       "            background-color:  #f6a586;\n",
       "            color:  #000000;\n",
       "        }#T_b3d62a18_9803_11eb_bb73_acde48001122row0_col10,#T_b3d62a18_9803_11eb_bb73_acde48001122row9_col0,#T_b3d62a18_9803_11eb_bb73_acde48001122row21_col1{\n",
       "            background-color:  #f7b194;\n",
       "            color:  #000000;\n",
       "        }#T_b3d62a18_9803_11eb_bb73_acde48001122row0_col11{\n",
       "            background-color:  #d2dbe8;\n",
       "            color:  #000000;\n",
       "        }#T_b3d62a18_9803_11eb_bb73_acde48001122row0_col12,#T_b3d62a18_9803_11eb_bb73_acde48001122row4_col3,#T_b3d62a18_9803_11eb_bb73_acde48001122row9_col7,#T_b3d62a18_9803_11eb_bb73_acde48001122row16_col5{\n",
       "            background-color:  #a1c0ff;\n",
       "            color:  #000000;\n",
       "        }#T_b3d62a18_9803_11eb_bb73_acde48001122row0_col13,#T_b3d62a18_9803_11eb_bb73_acde48001122row3_col18,#T_b3d62a18_9803_11eb_bb73_acde48001122row6_col17,#T_b3d62a18_9803_11eb_bb73_acde48001122row15_col11,#T_b3d62a18_9803_11eb_bb73_acde48001122row17_col18,#T_b3d62a18_9803_11eb_bb73_acde48001122row19_col18{\n",
       "            background-color:  #9abbff;\n",
       "            color:  #000000;\n",
       "        }#T_b3d62a18_9803_11eb_bb73_acde48001122row0_col14,#T_b3d62a18_9803_11eb_bb73_acde48001122row7_col2,#T_b3d62a18_9803_11eb_bb73_acde48001122row16_col20{\n",
       "            background-color:  #a7c5fe;\n",
       "            color:  #000000;\n",
       "        }#T_b3d62a18_9803_11eb_bb73_acde48001122row0_col15,#T_b3d62a18_9803_11eb_bb73_acde48001122row11_col1{\n",
       "            background-color:  #bfd3f6;\n",
       "            color:  #000000;\n",
       "        }#T_b3d62a18_9803_11eb_bb73_acde48001122row0_col16,#T_b3d62a18_9803_11eb_bb73_acde48001122row11_col17{\n",
       "            background-color:  #b7cff9;\n",
       "            color:  #000000;\n",
       "        }#T_b3d62a18_9803_11eb_bb73_acde48001122row0_col17,#T_b3d62a18_9803_11eb_bb73_acde48001122row0_col20,#T_b3d62a18_9803_11eb_bb73_acde48001122row0_col21{\n",
       "            background-color:  #f7b497;\n",
       "            color:  #000000;\n",
       "        }#T_b3d62a18_9803_11eb_bb73_acde48001122row0_col18,#T_b3d62a18_9803_11eb_bb73_acde48001122row1_col13,#T_b3d62a18_9803_11eb_bb73_acde48001122row10_col13,#T_b3d62a18_9803_11eb_bb73_acde48001122row18_col5{\n",
       "            background-color:  #7b9ff9;\n",
       "            color:  #000000;\n",
       "        }#T_b3d62a18_9803_11eb_bb73_acde48001122row1_col0,#T_b3d62a18_9803_11eb_bb73_acde48001122row1_col5,#T_b3d62a18_9803_11eb_bb73_acde48001122row16_col21{\n",
       "            background-color:  #b1cbfc;\n",
       "            color:  #000000;\n",
       "        }#T_b3d62a18_9803_11eb_bb73_acde48001122row1_col2{\n",
       "            background-color:  #f2cab5;\n",
       "            color:  #000000;\n",
       "        }#T_b3d62a18_9803_11eb_bb73_acde48001122row1_col3,#T_b3d62a18_9803_11eb_bb73_acde48001122row1_col19{\n",
       "            background-color:  #f7bca1;\n",
       "            color:  #000000;\n",
       "        }#T_b3d62a18_9803_11eb_bb73_acde48001122row1_col4,#T_b3d62a18_9803_11eb_bb73_acde48001122row8_col17{\n",
       "            background-color:  #688aef;\n",
       "            color:  #000000;\n",
       "        }#T_b3d62a18_9803_11eb_bb73_acde48001122row1_col6,#T_b3d62a18_9803_11eb_bb73_acde48001122row15_col4{\n",
       "            background-color:  #455cce;\n",
       "            color:  #f1f1f1;\n",
       "        }#T_b3d62a18_9803_11eb_bb73_acde48001122row1_col7,#T_b3d62a18_9803_11eb_bb73_acde48001122row1_col18,#T_b3d62a18_9803_11eb_bb73_acde48001122row6_col18,#T_b3d62a18_9803_11eb_bb73_acde48001122row8_col1,#T_b3d62a18_9803_11eb_bb73_acde48001122row10_col11,#T_b3d62a18_9803_11eb_bb73_acde48001122row13_col15{\n",
       "            background-color:  #6b8df0;\n",
       "            color:  #000000;\n",
       "        }#T_b3d62a18_9803_11eb_bb73_acde48001122row1_col8,#T_b3d62a18_9803_11eb_bb73_acde48001122row4_col21{\n",
       "            background-color:  #98b9ff;\n",
       "            color:  #000000;\n",
       "        }#T_b3d62a18_9803_11eb_bb73_acde48001122row1_col9{\n",
       "            background-color:  #d4dbe6;\n",
       "            color:  #000000;\n",
       "        }#T_b3d62a18_9803_11eb_bb73_acde48001122row1_col10,#T_b3d62a18_9803_11eb_bb73_acde48001122row20_col1{\n",
       "            background-color:  #f1cdba;\n",
       "            color:  #000000;\n",
       "        }#T_b3d62a18_9803_11eb_bb73_acde48001122row1_col12{\n",
       "            background-color:  #bbd1f8;\n",
       "            color:  #000000;\n",
       "        }#T_b3d62a18_9803_11eb_bb73_acde48001122row1_col14,#T_b3d62a18_9803_11eb_bb73_acde48001122row4_col8,#T_b3d62a18_9803_11eb_bb73_acde48001122row6_col13,#T_b3d62a18_9803_11eb_bb73_acde48001122row21_col18{\n",
       "            background-color:  #90b2fe;\n",
       "            color:  #000000;\n",
       "        }#T_b3d62a18_9803_11eb_bb73_acde48001122row1_col15,#T_b3d62a18_9803_11eb_bb73_acde48001122row13_col4,#T_b3d62a18_9803_11eb_bb73_acde48001122row17_col6{\n",
       "            background-color:  #6180e9;\n",
       "            color:  #000000;\n",
       "        }#T_b3d62a18_9803_11eb_bb73_acde48001122row1_col16,#T_b3d62a18_9803_11eb_bb73_acde48001122row5_col20,#T_b3d62a18_9803_11eb_bb73_acde48001122row6_col7{\n",
       "            background-color:  #cedaeb;\n",
       "            color:  #000000;\n",
       "        }#T_b3d62a18_9803_11eb_bb73_acde48001122row1_col17,#T_b3d62a18_9803_11eb_bb73_acde48001122row11_col19{\n",
       "            background-color:  #e4d9d2;\n",
       "            color:  #000000;\n",
       "        }#T_b3d62a18_9803_11eb_bb73_acde48001122row1_col20,#T_b3d62a18_9803_11eb_bb73_acde48001122row2_col5{\n",
       "            background-color:  #f2cbb7;\n",
       "            color:  #000000;\n",
       "        }#T_b3d62a18_9803_11eb_bb73_acde48001122row1_col21{\n",
       "            background-color:  #f7ad90;\n",
       "            color:  #000000;\n",
       "        }#T_b3d62a18_9803_11eb_bb73_acde48001122row2_col0{\n",
       "            background-color:  #ead5c9;\n",
       "            color:  #000000;\n",
       "        }#T_b3d62a18_9803_11eb_bb73_acde48001122row2_col1{\n",
       "            background-color:  #f0cdbb;\n",
       "            color:  #000000;\n",
       "        }#T_b3d62a18_9803_11eb_bb73_acde48001122row2_col3,#T_b3d62a18_9803_11eb_bb73_acde48001122row2_col19,#T_b3d62a18_9803_11eb_bb73_acde48001122row3_col9,#T_b3d62a18_9803_11eb_bb73_acde48001122row17_col3,#T_b3d62a18_9803_11eb_bb73_acde48001122row17_col19,#T_b3d62a18_9803_11eb_bb73_acde48001122row19_col9{\n",
       "            background-color:  #ee8468;\n",
       "            color:  #000000;\n",
       "        }#T_b3d62a18_9803_11eb_bb73_acde48001122row2_col6,#T_b3d62a18_9803_11eb_bb73_acde48001122row12_col0{\n",
       "            background-color:  #5a78e4;\n",
       "            color:  #000000;\n",
       "        }#T_b3d62a18_9803_11eb_bb73_acde48001122row2_col7,#T_b3d62a18_9803_11eb_bb73_acde48001122row6_col12,#T_b3d62a18_9803_11eb_bb73_acde48001122row15_col5,#T_b3d62a18_9803_11eb_bb73_acde48001122row16_col1,#T_b3d62a18_9803_11eb_bb73_acde48001122row20_col14{\n",
       "            background-color:  #8caffe;\n",
       "            color:  #000000;\n",
       "        }#T_b3d62a18_9803_11eb_bb73_acde48001122row2_col8,#T_b3d62a18_9803_11eb_bb73_acde48001122row3_col15,#T_b3d62a18_9803_11eb_bb73_acde48001122row5_col15,#T_b3d62a18_9803_11eb_bb73_acde48001122row19_col15{\n",
       "            background-color:  #7295f4;\n",
       "            color:  #000000;\n",
       "        }#T_b3d62a18_9803_11eb_bb73_acde48001122row2_col9,#T_b3d62a18_9803_11eb_bb73_acde48001122row3_col0,#T_b3d62a18_9803_11eb_bb73_acde48001122row19_col0{\n",
       "            background-color:  #f7a688;\n",
       "            color:  #000000;\n",
       "        }#T_b3d62a18_9803_11eb_bb73_acde48001122row2_col10,#T_b3d62a18_9803_11eb_bb73_acde48001122row20_col2{\n",
       "            background-color:  #f39778;\n",
       "            color:  #000000;\n",
       "        }#T_b3d62a18_9803_11eb_bb73_acde48001122row2_col11,#T_b3d62a18_9803_11eb_bb73_acde48001122row7_col0,#T_b3d62a18_9803_11eb_bb73_acde48001122row7_col6{\n",
       "            background-color:  #c9d7f0;\n",
       "            color:  #000000;\n",
       "        }#T_b3d62a18_9803_11eb_bb73_acde48001122row2_col12{\n",
       "            background-color:  #f5c2aa;\n",
       "            color:  #000000;\n",
       "        }#T_b3d62a18_9803_11eb_bb73_acde48001122row2_col13,#T_b3d62a18_9803_11eb_bb73_acde48001122row6_col2,#T_b3d62a18_9803_11eb_bb73_acde48001122row6_col9,#T_b3d62a18_9803_11eb_bb73_acde48001122row7_col12,#T_b3d62a18_9803_11eb_bb73_acde48001122row11_col15,#T_b3d62a18_9803_11eb_bb73_acde48001122row13_col10{\n",
       "            background-color:  #84a7fc;\n",
       "            color:  #000000;\n",
       "        }#T_b3d62a18_9803_11eb_bb73_acde48001122row2_col14,#T_b3d62a18_9803_11eb_bb73_acde48001122row3_col13,#T_b3d62a18_9803_11eb_bb73_acde48001122row6_col5,#T_b3d62a18_9803_11eb_bb73_acde48001122row9_col15,#T_b3d62a18_9803_11eb_bb73_acde48001122row10_col7,#T_b3d62a18_9803_11eb_bb73_acde48001122row19_col13,#T_b3d62a18_9803_11eb_bb73_acde48001122row20_col13{\n",
       "            background-color:  #85a8fc;\n",
       "            color:  #000000;\n",
       "        }#T_b3d62a18_9803_11eb_bb73_acde48001122row2_col15,#T_b3d62a18_9803_11eb_bb73_acde48001122row10_col8,#T_b3d62a18_9803_11eb_bb73_acde48001122row13_col1,#T_b3d62a18_9803_11eb_bb73_acde48001122row14_col7{\n",
       "            background-color:  #6a8bef;\n",
       "            color:  #000000;\n",
       "        }#T_b3d62a18_9803_11eb_bb73_acde48001122row2_col16,#T_b3d62a18_9803_11eb_bb73_acde48001122row4_col16,#T_b3d62a18_9803_11eb_bb73_acde48001122row17_col12,#T_b3d62a18_9803_11eb_bb73_acde48001122row21_col16{\n",
       "            background-color:  #dedcdb;\n",
       "            color:  #000000;\n",
       "        }#T_b3d62a18_9803_11eb_bb73_acde48001122row2_col17{\n",
       "            background-color:  #f7b89c;\n",
       "            color:  #000000;\n",
       "        }#T_b3d62a18_9803_11eb_bb73_acde48001122row2_col18,#T_b3d62a18_9803_11eb_bb73_acde48001122row4_col11,#T_b3d62a18_9803_11eb_bb73_acde48001122row7_col1,#T_b3d62a18_9803_11eb_bb73_acde48001122row15_col3,#T_b3d62a18_9803_11eb_bb73_acde48001122row15_col13,#T_b3d62a18_9803_11eb_bb73_acde48001122row15_col19{\n",
       "            background-color:  #7ea1fa;\n",
       "            color:  #000000;\n",
       "        }#T_b3d62a18_9803_11eb_bb73_acde48001122row2_col20{\n",
       "            background-color:  #f49a7b;\n",
       "            color:  #000000;\n",
       "        }#T_b3d62a18_9803_11eb_bb73_acde48001122row2_col21,#T_b3d62a18_9803_11eb_bb73_acde48001122row21_col2{\n",
       "            background-color:  #f29072;\n",
       "            color:  #000000;\n",
       "        }#T_b3d62a18_9803_11eb_bb73_acde48001122row3_col1{\n",
       "            background-color:  #f5c0a7;\n",
       "            color:  #000000;\n",
       "        }#T_b3d62a18_9803_11eb_bb73_acde48001122row3_col2,#T_b3d62a18_9803_11eb_bb73_acde48001122row9_col3,#T_b3d62a18_9803_11eb_bb73_acde48001122row9_col19,#T_b3d62a18_9803_11eb_bb73_acde48001122row19_col2{\n",
       "            background-color:  #ed8366;\n",
       "            color:  #000000;\n",
       "        }#T_b3d62a18_9803_11eb_bb73_acde48001122row3_col4,#T_b3d62a18_9803_11eb_bb73_acde48001122row4_col20,#T_b3d62a18_9803_11eb_bb73_acde48001122row6_col10,#T_b3d62a18_9803_11eb_bb73_acde48001122row6_col11,#T_b3d62a18_9803_11eb_bb73_acde48001122row18_col8{\n",
       "            background-color:  #92b4fe;\n",
       "            color:  #000000;\n",
       "        }#T_b3d62a18_9803_11eb_bb73_acde48001122row3_col5,#T_b3d62a18_9803_11eb_bb73_acde48001122row11_col21,#T_b3d62a18_9803_11eb_bb73_acde48001122row19_col5{\n",
       "            background-color:  #dadce0;\n",
       "            color:  #000000;\n",
       "        }#T_b3d62a18_9803_11eb_bb73_acde48001122row3_col6,#T_b3d62a18_9803_11eb_bb73_acde48001122row4_col7,#T_b3d62a18_9803_11eb_bb73_acde48001122row11_col18{\n",
       "            background-color:  #6788ee;\n",
       "            color:  #000000;\n",
       "        }#T_b3d62a18_9803_11eb_bb73_acde48001122row3_col7,#T_b3d62a18_9803_11eb_bb73_acde48001122row8_col11,#T_b3d62a18_9803_11eb_bb73_acde48001122row19_col7{\n",
       "            background-color:  #abc8fd;\n",
       "            color:  #000000;\n",
       "        }#T_b3d62a18_9803_11eb_bb73_acde48001122row3_col8,#T_b3d62a18_9803_11eb_bb73_acde48001122row13_col8,#T_b3d62a18_9803_11eb_bb73_acde48001122row19_col8,#T_b3d62a18_9803_11eb_bb73_acde48001122row21_col13{\n",
       "            background-color:  #82a6fb;\n",
       "            color:  #000000;\n",
       "        }#T_b3d62a18_9803_11eb_bb73_acde48001122row3_col10,#T_b3d62a18_9803_11eb_bb73_acde48001122row19_col10{\n",
       "            background-color:  #d65244;\n",
       "            color:  #000000;\n",
       "        }#T_b3d62a18_9803_11eb_bb73_acde48001122row3_col11,#T_b3d62a18_9803_11eb_bb73_acde48001122row12_col10,#T_b3d62a18_9803_11eb_bb73_acde48001122row19_col11{\n",
       "            background-color:  #e8d6cc;\n",
       "            color:  #000000;\n",
       "        }#T_b3d62a18_9803_11eb_bb73_acde48001122row3_col12{\n",
       "            background-color:  #dddcdc;\n",
       "            color:  #000000;\n",
       "        }#T_b3d62a18_9803_11eb_bb73_acde48001122row3_col14,#T_b3d62a18_9803_11eb_bb73_acde48001122row6_col20,#T_b3d62a18_9803_11eb_bb73_acde48001122row7_col5,#T_b3d62a18_9803_11eb_bb73_acde48001122row9_col18,#T_b3d62a18_9803_11eb_bb73_acde48001122row19_col14,#T_b3d62a18_9803_11eb_bb73_acde48001122row21_col8,#T_b3d62a18_9803_11eb_bb73_acde48001122row21_col14{\n",
       "            background-color:  #86a9fc;\n",
       "            color:  #000000;\n",
       "        }#T_b3d62a18_9803_11eb_bb73_acde48001122row3_col16,#T_b3d62a18_9803_11eb_bb73_acde48001122row19_col16{\n",
       "            background-color:  #e0dbd8;\n",
       "            color:  #000000;\n",
       "        }#T_b3d62a18_9803_11eb_bb73_acde48001122row3_col17,#T_b3d62a18_9803_11eb_bb73_acde48001122row19_col17{\n",
       "            background-color:  #ec7f63;\n",
       "            color:  #000000;\n",
       "        }#T_b3d62a18_9803_11eb_bb73_acde48001122row3_col20,#T_b3d62a18_9803_11eb_bb73_acde48001122row19_col20{\n",
       "            background-color:  #dc5d4a;\n",
       "            color:  #000000;\n",
       "        }#T_b3d62a18_9803_11eb_bb73_acde48001122row3_col21,#T_b3d62a18_9803_11eb_bb73_acde48001122row19_col21,#T_b3d62a18_9803_11eb_bb73_acde48001122row21_col3,#T_b3d62a18_9803_11eb_bb73_acde48001122row21_col19{\n",
       "            background-color:  #d1493f;\n",
       "            color:  #f1f1f1;\n",
       "        }#T_b3d62a18_9803_11eb_bb73_acde48001122row4_col0,#T_b3d62a18_9803_11eb_bb73_acde48001122row6_col4,#T_b3d62a18_9803_11eb_bb73_acde48001122row7_col15,#T_b3d62a18_9803_11eb_bb73_acde48001122row8_col13,#T_b3d62a18_9803_11eb_bb73_acde48001122row13_col18,#T_b3d62a18_9803_11eb_bb73_acde48001122row20_col6{\n",
       "            background-color:  #6485ec;\n",
       "            color:  #000000;\n",
       "        }#T_b3d62a18_9803_11eb_bb73_acde48001122row4_col1,#T_b3d62a18_9803_11eb_bb73_acde48001122row12_col4,#T_b3d62a18_9803_11eb_bb73_acde48001122row14_col5,#T_b3d62a18_9803_11eb_bb73_acde48001122row18_col1,#T_b3d62a18_9803_11eb_bb73_acde48001122row21_col15{\n",
       "            background-color:  #6e90f2;\n",
       "            color:  #000000;\n",
       "        }#T_b3d62a18_9803_11eb_bb73_acde48001122row4_col2,#T_b3d62a18_9803_11eb_bb73_acde48001122row9_col14,#T_b3d62a18_9803_11eb_bb73_acde48001122row17_col4,#T_b3d62a18_9803_11eb_bb73_acde48001122row18_col2{\n",
       "            background-color:  #8badfd;\n",
       "            color:  #000000;\n",
       "        }#T_b3d62a18_9803_11eb_bb73_acde48001122row4_col5,#T_b3d62a18_9803_11eb_bb73_acde48001122row13_col21,#T_b3d62a18_9803_11eb_bb73_acde48001122row15_col10{\n",
       "            background-color:  #7da0f9;\n",
       "            color:  #000000;\n",
       "        }#T_b3d62a18_9803_11eb_bb73_acde48001122row4_col6{\n",
       "            background-color:  #4c66d6;\n",
       "            color:  #000000;\n",
       "        }#T_b3d62a18_9803_11eb_bb73_acde48001122row4_col9,#T_b3d62a18_9803_11eb_bb73_acde48001122row6_col19,#T_b3d62a18_9803_11eb_bb73_acde48001122row15_col9{\n",
       "            background-color:  #8db0fe;\n",
       "            color:  #000000;\n",
       "        }#T_b3d62a18_9803_11eb_bb73_acde48001122row4_col10,#T_b3d62a18_9803_11eb_bb73_acde48001122row16_col18{\n",
       "            background-color:  #afcafc;\n",
       "            color:  #000000;\n",
       "        }#T_b3d62a18_9803_11eb_bb73_acde48001122row4_col12,#T_b3d62a18_9803_11eb_bb73_acde48001122row6_col0{\n",
       "            background-color:  #9fbfff;\n",
       "            color:  #000000;\n",
       "        }#T_b3d62a18_9803_11eb_bb73_acde48001122row4_col13,#T_b3d62a18_9803_11eb_bb73_acde48001122row5_col13,#T_b3d62a18_9803_11eb_bb73_acde48001122row12_col18,#T_b3d62a18_9803_11eb_bb73_acde48001122row18_col13{\n",
       "            background-color:  #779af7;\n",
       "            color:  #000000;\n",
       "        }#T_b3d62a18_9803_11eb_bb73_acde48001122row4_col14,#T_b3d62a18_9803_11eb_bb73_acde48001122row10_col4,#T_b3d62a18_9803_11eb_bb73_acde48001122row12_col1,#T_b3d62a18_9803_11eb_bb73_acde48001122row15_col16,#T_b3d62a18_9803_11eb_bb73_acde48001122row18_col20{\n",
       "            background-color:  #96b7ff;\n",
       "            color:  #000000;\n",
       "        }#T_b3d62a18_9803_11eb_bb73_acde48001122row4_col15,#T_b3d62a18_9803_11eb_bb73_acde48001122row15_col18,#T_b3d62a18_9803_11eb_bb73_acde48001122row18_col15{\n",
       "            background-color:  #4a63d3;\n",
       "            color:  #f1f1f1;\n",
       "        }#T_b3d62a18_9803_11eb_bb73_acde48001122row4_col17,#T_b3d62a18_9803_11eb_bb73_acde48001122row11_col7{\n",
       "            background-color:  #a9c6fd;\n",
       "            color:  #000000;\n",
       "        }#T_b3d62a18_9803_11eb_bb73_acde48001122row4_col18{\n",
       "            background-color:  #f39475;\n",
       "            color:  #000000;\n",
       "        }#T_b3d62a18_9803_11eb_bb73_acde48001122row4_col19,#T_b3d62a18_9803_11eb_bb73_acde48001122row7_col16{\n",
       "            background-color:  #a2c1ff;\n",
       "            color:  #000000;\n",
       "        }#T_b3d62a18_9803_11eb_bb73_acde48001122row5_col2,#T_b3d62a18_9803_11eb_bb73_acde48001122row10_col16{\n",
       "            background-color:  #efcfbf;\n",
       "            color:  #000000;\n",
       "        }#T_b3d62a18_9803_11eb_bb73_acde48001122row5_col3,#T_b3d62a18_9803_11eb_bb73_acde48001122row5_col19{\n",
       "            background-color:  #d3dbe7;\n",
       "            color:  #000000;\n",
       "        }#T_b3d62a18_9803_11eb_bb73_acde48001122row5_col4,#T_b3d62a18_9803_11eb_bb73_acde48001122row10_col6{\n",
       "            background-color:  #5d7ce6;\n",
       "            color:  #000000;\n",
       "        }#T_b3d62a18_9803_11eb_bb73_acde48001122row5_col6{\n",
       "            background-color:  #4e68d8;\n",
       "            color:  #000000;\n",
       "        }#T_b3d62a18_9803_11eb_bb73_acde48001122row5_col7,#T_b3d62a18_9803_11eb_bb73_acde48001122row13_col12{\n",
       "            background-color:  #5977e3;\n",
       "            color:  #000000;\n",
       "        }#T_b3d62a18_9803_11eb_bb73_acde48001122row5_col8,#T_b3d62a18_9803_11eb_bb73_acde48001122row16_col0{\n",
       "            background-color:  #506bda;\n",
       "            color:  #000000;\n",
       "        }#T_b3d62a18_9803_11eb_bb73_acde48001122row5_col9{\n",
       "            background-color:  #e7d7ce;\n",
       "            color:  #000000;\n",
       "        }#T_b3d62a18_9803_11eb_bb73_acde48001122row5_col10,#T_b3d62a18_9803_11eb_bb73_acde48001122row5_col12,#T_b3d62a18_9803_11eb_bb73_acde48001122row10_col5,#T_b3d62a18_9803_11eb_bb73_acde48001122row12_col16{\n",
       "            background-color:  #f4c5ad;\n",
       "            color:  #000000;\n",
       "        }#T_b3d62a18_9803_11eb_bb73_acde48001122row5_col11,#T_b3d62a18_9803_11eb_bb73_acde48001122row8_col5,#T_b3d62a18_9803_11eb_bb73_acde48001122row8_col12,#T_b3d62a18_9803_11eb_bb73_acde48001122row12_col8,#T_b3d62a18_9803_11eb_bb73_acde48001122row12_col13,#T_b3d62a18_9803_11eb_bb73_acde48001122row12_col15,#T_b3d62a18_9803_11eb_bb73_acde48001122row14_col0,#T_b3d62a18_9803_11eb_bb73_acde48001122row14_col1,#T_b3d62a18_9803_11eb_bb73_acde48001122row14_col2,#T_b3d62a18_9803_11eb_bb73_acde48001122row14_col3,#T_b3d62a18_9803_11eb_bb73_acde48001122row14_col4,#T_b3d62a18_9803_11eb_bb73_acde48001122row14_col9,#T_b3d62a18_9803_11eb_bb73_acde48001122row14_col10,#T_b3d62a18_9803_11eb_bb73_acde48001122row14_col16,#T_b3d62a18_9803_11eb_bb73_acde48001122row14_col17,#T_b3d62a18_9803_11eb_bb73_acde48001122row14_col18,#T_b3d62a18_9803_11eb_bb73_acde48001122row14_col19,#T_b3d62a18_9803_11eb_bb73_acde48001122row14_col20,#T_b3d62a18_9803_11eb_bb73_acde48001122row14_col21,#T_b3d62a18_9803_11eb_bb73_acde48001122row16_col6,#T_b3d62a18_9803_11eb_bb73_acde48001122row16_col7,#T_b3d62a18_9803_11eb_bb73_acde48001122row16_col14{\n",
       "            background-color:  #3b4cc0;\n",
       "            color:  #f1f1f1;\n",
       "        }#T_b3d62a18_9803_11eb_bb73_acde48001122row5_col14,#T_b3d62a18_9803_11eb_bb73_acde48001122row16_col9{\n",
       "            background-color:  #a6c4fe;\n",
       "            color:  #000000;\n",
       "        }#T_b3d62a18_9803_11eb_bb73_acde48001122row5_col17,#T_b3d62a18_9803_11eb_bb73_acde48001122row7_col17{\n",
       "            background-color:  #cbd8ee;\n",
       "            color:  #000000;\n",
       "        }#T_b3d62a18_9803_11eb_bb73_acde48001122row5_col18,#T_b3d62a18_9803_11eb_bb73_acde48001122row8_col19,#T_b3d62a18_9803_11eb_bb73_acde48001122row9_col6,#T_b3d62a18_9803_11eb_bb73_acde48001122row11_col6,#T_b3d62a18_9803_11eb_bb73_acde48001122row21_col6{\n",
       "            background-color:  #5f7fe8;\n",
       "            color:  #000000;\n",
       "        }#T_b3d62a18_9803_11eb_bb73_acde48001122row5_col21{\n",
       "            background-color:  #cdd9ec;\n",
       "            color:  #000000;\n",
       "        }#T_b3d62a18_9803_11eb_bb73_acde48001122row6_col1,#T_b3d62a18_9803_11eb_bb73_acde48001122row11_col4,#T_b3d62a18_9803_11eb_bb73_acde48001122row13_col6{\n",
       "            background-color:  #6384eb;\n",
       "            color:  #000000;\n",
       "        }#T_b3d62a18_9803_11eb_bb73_acde48001122row6_col3,#T_b3d62a18_9803_11eb_bb73_acde48001122row13_col11,#T_b3d62a18_9803_11eb_bb73_acde48001122row14_col11,#T_b3d62a18_9803_11eb_bb73_acde48001122row15_col8,#T_b3d62a18_9803_11eb_bb73_acde48001122row15_col17,#T_b3d62a18_9803_11eb_bb73_acde48001122row18_col9,#T_b3d62a18_9803_11eb_bb73_acde48001122row20_col18{\n",
       "            background-color:  #8fb1fe;\n",
       "            color:  #000000;\n",
       "        }#T_b3d62a18_9803_11eb_bb73_acde48001122row6_col8{\n",
       "            background-color:  #97b8ff;\n",
       "            color:  #000000;\n",
       "        }#T_b3d62a18_9803_11eb_bb73_acde48001122row6_col14{\n",
       "            background-color:  #bad0f8;\n",
       "            color:  #000000;\n",
       "        }#T_b3d62a18_9803_11eb_bb73_acde48001122row6_col15,#T_b3d62a18_9803_11eb_bb73_acde48001122row8_col3,#T_b3d62a18_9803_11eb_bb73_acde48001122row8_col7,#T_b3d62a18_9803_11eb_bb73_acde48001122row8_col15{\n",
       "            background-color:  #5e7de7;\n",
       "            color:  #000000;\n",
       "        }#T_b3d62a18_9803_11eb_bb73_acde48001122row6_col16,#T_b3d62a18_9803_11eb_bb73_acde48001122row9_col11,#T_b3d62a18_9803_11eb_bb73_acde48001122row17_col7{\n",
       "            background-color:  #aac7fd;\n",
       "            color:  #000000;\n",
       "        }#T_b3d62a18_9803_11eb_bb73_acde48001122row6_col21,#T_b3d62a18_9803_11eb_bb73_acde48001122row14_col13,#T_b3d62a18_9803_11eb_bb73_acde48001122row20_col4{\n",
       "            background-color:  #88abfd;\n",
       "            color:  #000000;\n",
       "        }#T_b3d62a18_9803_11eb_bb73_acde48001122row7_col3,#T_b3d62a18_9803_11eb_bb73_acde48001122row7_col19{\n",
       "            background-color:  #c1d4f4;\n",
       "            color:  #000000;\n",
       "        }#T_b3d62a18_9803_11eb_bb73_acde48001122row7_col4,#T_b3d62a18_9803_11eb_bb73_acde48001122row17_col13,#T_b3d62a18_9803_11eb_bb73_acde48001122row17_col14,#T_b3d62a18_9803_11eb_bb73_acde48001122row20_col15{\n",
       "            background-color:  #7597f6;\n",
       "            color:  #000000;\n",
       "        }#T_b3d62a18_9803_11eb_bb73_acde48001122row7_col8,#T_b3d62a18_9803_11eb_bb73_acde48001122row10_col18,#T_b3d62a18_9803_11eb_bb73_acde48001122row11_col9,#T_b3d62a18_9803_11eb_bb73_acde48001122row20_col7{\n",
       "            background-color:  #9ebeff;\n",
       "            color:  #000000;\n",
       "        }#T_b3d62a18_9803_11eb_bb73_acde48001122row7_col9{\n",
       "            background-color:  #b6cefa;\n",
       "            color:  #000000;\n",
       "        }#T_b3d62a18_9803_11eb_bb73_acde48001122row7_col10,#T_b3d62a18_9803_11eb_bb73_acde48001122row15_col0{\n",
       "            background-color:  #adc9fd;\n",
       "            color:  #000000;\n",
       "        }#T_b3d62a18_9803_11eb_bb73_acde48001122row7_col11,#T_b3d62a18_9803_11eb_bb73_acde48001122row12_col20{\n",
       "            background-color:  #c6d6f1;\n",
       "            color:  #000000;\n",
       "        }#T_b3d62a18_9803_11eb_bb73_acde48001122row7_col13,#T_b3d62a18_9803_11eb_bb73_acde48001122row11_col16,#T_b3d62a18_9803_11eb_bb73_acde48001122row14_col8,#T_b3d62a18_9803_11eb_bb73_acde48001122row18_col14,#T_b3d62a18_9803_11eb_bb73_acde48001122row19_col4{\n",
       "            background-color:  #93b5fe;\n",
       "            color:  #000000;\n",
       "        }#T_b3d62a18_9803_11eb_bb73_acde48001122row7_col14{\n",
       "            background-color:  #c5d6f2;\n",
       "            color:  #000000;\n",
       "        }#T_b3d62a18_9803_11eb_bb73_acde48001122row7_col20,#T_b3d62a18_9803_11eb_bb73_acde48001122row11_col0,#T_b3d62a18_9803_11eb_bb73_acde48001122row16_col2,#T_b3d62a18_9803_11eb_bb73_acde48001122row17_col11{\n",
       "            background-color:  #b2ccfb;\n",
       "            color:  #000000;\n",
       "        }#T_b3d62a18_9803_11eb_bb73_acde48001122row7_col21,#T_b3d62a18_9803_11eb_bb73_acde48001122row8_col14,#T_b3d62a18_9803_11eb_bb73_acde48001122row14_col15,#T_b3d62a18_9803_11eb_bb73_acde48001122row18_col10,#T_b3d62a18_9803_11eb_bb73_acde48001122row18_col17{\n",
       "            background-color:  #b3cdfb;\n",
       "            color:  #000000;\n",
       "        }#T_b3d62a18_9803_11eb_bb73_acde48001122row8_col0{\n",
       "            background-color:  #5470de;\n",
       "            color:  #000000;\n",
       "        }#T_b3d62a18_9803_11eb_bb73_acde48001122row8_col2,#T_b3d62a18_9803_11eb_bb73_acde48001122row14_col6,#T_b3d62a18_9803_11eb_bb73_acde48001122row18_col6{\n",
       "            background-color:  #4f69d9;\n",
       "            color:  #000000;\n",
       "        }#T_b3d62a18_9803_11eb_bb73_acde48001122row8_col4{\n",
       "            background-color:  #5b7ae5;\n",
       "            color:  #000000;\n",
       "        }#T_b3d62a18_9803_11eb_bb73_acde48001122row8_col6{\n",
       "            background-color:  #4b64d5;\n",
       "            color:  #f1f1f1;\n",
       "        }#T_b3d62a18_9803_11eb_bb73_acde48001122row8_col9{\n",
       "            background-color:  #445acc;\n",
       "            color:  #f1f1f1;\n",
       "        }#T_b3d62a18_9803_11eb_bb73_acde48001122row8_col10,#T_b3d62a18_9803_11eb_bb73_acde48001122row15_col7,#T_b3d62a18_9803_11eb_bb73_acde48001122row16_col11{\n",
       "            background-color:  #536edd;\n",
       "            color:  #000000;\n",
       "        }#T_b3d62a18_9803_11eb_bb73_acde48001122row8_col18,#T_b3d62a18_9803_11eb_bb73_acde48001122row8_col21,#T_b3d62a18_9803_11eb_bb73_acde48001122row10_col15,#T_b3d62a18_9803_11eb_bb73_acde48001122row15_col1,#T_b3d62a18_9803_11eb_bb73_acde48001122row16_col13,#T_b3d62a18_9803_11eb_bb73_acde48001122row18_col0{\n",
       "            background-color:  #6282ea;\n",
       "            color:  #000000;\n",
       "        }#T_b3d62a18_9803_11eb_bb73_acde48001122row8_col20,#T_b3d62a18_9803_11eb_bb73_acde48001122row12_col11{\n",
       "            background-color:  #5673e0;\n",
       "            color:  #000000;\n",
       "        }#T_b3d62a18_9803_11eb_bb73_acde48001122row9_col1{\n",
       "            background-color:  #cfdaea;\n",
       "            color:  #000000;\n",
       "        }#T_b3d62a18_9803_11eb_bb73_acde48001122row9_col2,#T_b3d62a18_9803_11eb_bb73_acde48001122row17_col21{\n",
       "            background-color:  #f6a385;\n",
       "            color:  #000000;\n",
       "        }#T_b3d62a18_9803_11eb_bb73_acde48001122row9_col4,#T_b3d62a18_9803_11eb_bb73_acde48001122row13_col2,#T_b3d62a18_9803_11eb_bb73_acde48001122row13_col3,#T_b3d62a18_9803_11eb_bb73_acde48001122row13_col5,#T_b3d62a18_9803_11eb_bb73_acde48001122row13_col19,#T_b3d62a18_9803_11eb_bb73_acde48001122row18_col11{\n",
       "            background-color:  #80a3fa;\n",
       "            color:  #000000;\n",
       "        }#T_b3d62a18_9803_11eb_bb73_acde48001122row9_col5{\n",
       "            background-color:  #edd1c2;\n",
       "            color:  #000000;\n",
       "        }#T_b3d62a18_9803_11eb_bb73_acde48001122row9_col8,#T_b3d62a18_9803_11eb_bb73_acde48001122row15_col12{\n",
       "            background-color:  #6c8ff1;\n",
       "            color:  #000000;\n",
       "        }#T_b3d62a18_9803_11eb_bb73_acde48001122row9_col10,#T_b3d62a18_9803_11eb_bb73_acde48001122row10_col20{\n",
       "            background-color:  #ec8165;\n",
       "            color:  #000000;\n",
       "        }#T_b3d62a18_9803_11eb_bb73_acde48001122row9_col12,#T_b3d62a18_9803_11eb_bb73_acde48001122row12_col5{\n",
       "            background-color:  #f1ccb8;\n",
       "            color:  #000000;\n",
       "        }#T_b3d62a18_9803_11eb_bb73_acde48001122row9_col13,#T_b3d62a18_9803_11eb_bb73_acde48001122row15_col20,#T_b3d62a18_9803_11eb_bb73_acde48001122row15_col21,#T_b3d62a18_9803_11eb_bb73_acde48001122row17_col8{\n",
       "            background-color:  #7a9df8;\n",
       "            color:  #000000;\n",
       "        }#T_b3d62a18_9803_11eb_bb73_acde48001122row9_col16,#T_b3d62a18_9803_11eb_bb73_acde48001122row20_col5{\n",
       "            background-color:  #d9dce1;\n",
       "            color:  #000000;\n",
       "        }#T_b3d62a18_9803_11eb_bb73_acde48001122row9_col17{\n",
       "            background-color:  #f18f71;\n",
       "            color:  #000000;\n",
       "        }#T_b3d62a18_9803_11eb_bb73_acde48001122row9_col20,#T_b3d62a18_9803_11eb_bb73_acde48001122row9_col21{\n",
       "            background-color:  #f59f80;\n",
       "            color:  #000000;\n",
       "        }#T_b3d62a18_9803_11eb_bb73_acde48001122row10_col0{\n",
       "            background-color:  #f5c4ac;\n",
       "            color:  #000000;\n",
       "        }#T_b3d62a18_9803_11eb_bb73_acde48001122row10_col1{\n",
       "            background-color:  #ead4c8;\n",
       "            color:  #000000;\n",
       "        }#T_b3d62a18_9803_11eb_bb73_acde48001122row10_col2{\n",
       "            background-color:  #f59c7d;\n",
       "            color:  #000000;\n",
       "        }#T_b3d62a18_9803_11eb_bb73_acde48001122row10_col3,#T_b3d62a18_9803_11eb_bb73_acde48001122row10_col19{\n",
       "            background-color:  #d75445;\n",
       "            color:  #000000;\n",
       "        }#T_b3d62a18_9803_11eb_bb73_acde48001122row10_col9{\n",
       "            background-color:  #ee8669;\n",
       "            color:  #000000;\n",
       "        }#T_b3d62a18_9803_11eb_bb73_acde48001122row10_col12,#T_b3d62a18_9803_11eb_bb73_acde48001122row17_col16{\n",
       "            background-color:  #eed0c0;\n",
       "            color:  #000000;\n",
       "        }#T_b3d62a18_9803_11eb_bb73_acde48001122row10_col17{\n",
       "            background-color:  #ef886b;\n",
       "            color:  #000000;\n",
       "        }#T_b3d62a18_9803_11eb_bb73_acde48001122row10_col21{\n",
       "            background-color:  #e9785d;\n",
       "            color:  #000000;\n",
       "        }#T_b3d62a18_9803_11eb_bb73_acde48001122row11_col2,#T_b3d62a18_9803_11eb_bb73_acde48001122row11_col14{\n",
       "            background-color:  #c3d5f4;\n",
       "            color:  #000000;\n",
       "        }#T_b3d62a18_9803_11eb_bb73_acde48001122row11_col3{\n",
       "            background-color:  #e3d9d3;\n",
       "            color:  #000000;\n",
       "        }#T_b3d62a18_9803_11eb_bb73_acde48001122row11_col5,#T_b3d62a18_9803_11eb_bb73_acde48001122row12_col6{\n",
       "            background-color:  #3e51c5;\n",
       "            color:  #f1f1f1;\n",
       "        }#T_b3d62a18_9803_11eb_bb73_acde48001122row11_col8{\n",
       "            background-color:  #bed2f6;\n",
       "            color:  #000000;\n",
       "        }#T_b3d62a18_9803_11eb_bb73_acde48001122row11_col10,#T_b3d62a18_9803_11eb_bb73_acde48001122row11_col12{\n",
       "            background-color:  #6f92f3;\n",
       "            color:  #000000;\n",
       "        }#T_b3d62a18_9803_11eb_bb73_acde48001122row11_col13,#T_b3d62a18_9803_11eb_bb73_acde48001122row21_col4{\n",
       "            background-color:  #89acfd;\n",
       "            color:  #000000;\n",
       "        }#T_b3d62a18_9803_11eb_bb73_acde48001122row12_col2{\n",
       "            background-color:  #efcebd;\n",
       "            color:  #000000;\n",
       "        }#T_b3d62a18_9803_11eb_bb73_acde48001122row12_col3,#T_b3d62a18_9803_11eb_bb73_acde48001122row12_col19,#T_b3d62a18_9803_11eb_bb73_acde48001122row17_col5{\n",
       "            background-color:  #cad8ef;\n",
       "            color:  #000000;\n",
       "        }#T_b3d62a18_9803_11eb_bb73_acde48001122row12_col7{\n",
       "            background-color:  #4055c8;\n",
       "            color:  #f1f1f1;\n",
       "        }#T_b3d62a18_9803_11eb_bb73_acde48001122row12_col9,#T_b3d62a18_9803_11eb_bb73_acde48001122row15_col14{\n",
       "            background-color:  #e5d8d1;\n",
       "            color:  #000000;\n",
       "        }#T_b3d62a18_9803_11eb_bb73_acde48001122row12_col14,#T_b3d62a18_9803_11eb_bb73_acde48001122row18_col7,#T_b3d62a18_9803_11eb_bb73_acde48001122row19_col6{\n",
       "            background-color:  #6687ed;\n",
       "            color:  #000000;\n",
       "        }#T_b3d62a18_9803_11eb_bb73_acde48001122row12_col17{\n",
       "            background-color:  #d6dce4;\n",
       "            color:  #000000;\n",
       "        }#T_b3d62a18_9803_11eb_bb73_acde48001122row12_col21{\n",
       "            background-color:  #c7d7f0;\n",
       "            color:  #000000;\n",
       "        }#T_b3d62a18_9803_11eb_bb73_acde48001122row13_col0,#T_b3d62a18_9803_11eb_bb73_acde48001122row13_col7,#T_b3d62a18_9803_11eb_bb73_acde48001122row13_col9,#T_b3d62a18_9803_11eb_bb73_acde48001122row17_col15{\n",
       "            background-color:  #7093f3;\n",
       "            color:  #000000;\n",
       "        }#T_b3d62a18_9803_11eb_bb73_acde48001122row13_col14{\n",
       "            background-color:  #c0d4f5;\n",
       "            color:  #000000;\n",
       "        }#T_b3d62a18_9803_11eb_bb73_acde48001122row13_col16,#T_b3d62a18_9803_11eb_bb73_acde48001122row16_col4,#T_b3d62a18_9803_11eb_bb73_acde48001122row18_col3,#T_b3d62a18_9803_11eb_bb73_acde48001122row18_col12,#T_b3d62a18_9803_11eb_bb73_acde48001122row18_col19{\n",
       "            background-color:  #a5c3fe;\n",
       "            color:  #000000;\n",
       "        }#T_b3d62a18_9803_11eb_bb73_acde48001122row13_col17,#T_b3d62a18_9803_11eb_bb73_acde48001122row20_col8{\n",
       "            background-color:  #81a4fb;\n",
       "            color:  #000000;\n",
       "        }#T_b3d62a18_9803_11eb_bb73_acde48001122row14_col12,#T_b3d62a18_9803_11eb_bb73_acde48001122row16_col15{\n",
       "            background-color:  #3d50c3;\n",
       "            color:  #f1f1f1;\n",
       "        }#T_b3d62a18_9803_11eb_bb73_acde48001122row15_col6{\n",
       "            background-color:  #4257c9;\n",
       "            color:  #f1f1f1;\n",
       "        }#T_b3d62a18_9803_11eb_bb73_acde48001122row16_col3,#T_b3d62a18_9803_11eb_bb73_acde48001122row16_col19{\n",
       "            background-color:  #b5cdfa;\n",
       "            color:  #000000;\n",
       "        }#T_b3d62a18_9803_11eb_bb73_acde48001122row16_col8{\n",
       "            background-color:  #7699f6;\n",
       "            color:  #000000;\n",
       "        }#T_b3d62a18_9803_11eb_bb73_acde48001122row16_col10,#T_b3d62a18_9803_11eb_bb73_acde48001122row16_col17,#T_b3d62a18_9803_11eb_bb73_acde48001122row17_col1{\n",
       "            background-color:  #d7dce3;\n",
       "            color:  #000000;\n",
       "        }#T_b3d62a18_9803_11eb_bb73_acde48001122row16_col12{\n",
       "            background-color:  #ecd3c5;\n",
       "            color:  #000000;\n",
       "        }#T_b3d62a18_9803_11eb_bb73_acde48001122row17_col2{\n",
       "            background-color:  #f6bea4;\n",
       "            color:  #000000;\n",
       "        }#T_b3d62a18_9803_11eb_bb73_acde48001122row17_col9,#T_b3d62a18_9803_11eb_bb73_acde48001122row18_col4{\n",
       "            background-color:  #f39577;\n",
       "            color:  #000000;\n",
       "        }#T_b3d62a18_9803_11eb_bb73_acde48001122row17_col10{\n",
       "            background-color:  #f08a6c;\n",
       "            color:  #000000;\n",
       "        }#T_b3d62a18_9803_11eb_bb73_acde48001122row17_col20{\n",
       "            background-color:  #f7ac8e;\n",
       "            color:  #000000;\n",
       "        }#T_b3d62a18_9803_11eb_bb73_acde48001122row18_col16{\n",
       "            background-color:  #e2dad5;\n",
       "            color:  #000000;\n",
       "        }#T_b3d62a18_9803_11eb_bb73_acde48001122row19_col1,#T_b3d62a18_9803_11eb_bb73_acde48001122row20_col0{\n",
       "            background-color:  #f6bfa6;\n",
       "            color:  #000000;\n",
       "        }#T_b3d62a18_9803_11eb_bb73_acde48001122row19_col12,#T_b3d62a18_9803_11eb_bb73_acde48001122row20_col12{\n",
       "            background-color:  #dcdddd;\n",
       "            color:  #000000;\n",
       "        }#T_b3d62a18_9803_11eb_bb73_acde48001122row20_col3,#T_b3d62a18_9803_11eb_bb73_acde48001122row20_col19{\n",
       "            background-color:  #da5a49;\n",
       "            color:  #000000;\n",
       "        }#T_b3d62a18_9803_11eb_bb73_acde48001122row20_col9,#T_b3d62a18_9803_11eb_bb73_acde48001122row21_col17{\n",
       "            background-color:  #f59d7e;\n",
       "            color:  #000000;\n",
       "        }#T_b3d62a18_9803_11eb_bb73_acde48001122row20_col10{\n",
       "            background-color:  #e97a5f;\n",
       "            color:  #000000;\n",
       "        }#T_b3d62a18_9803_11eb_bb73_acde48001122row20_col11,#T_b3d62a18_9803_11eb_bb73_acde48001122row21_col5{\n",
       "            background-color:  #d5dbe5;\n",
       "            color:  #000000;\n",
       "        }#T_b3d62a18_9803_11eb_bb73_acde48001122row20_col16,#T_b3d62a18_9803_11eb_bb73_acde48001122row21_col12{\n",
       "            background-color:  #dbdcde;\n",
       "            color:  #000000;\n",
       "        }#T_b3d62a18_9803_11eb_bb73_acde48001122row20_col17{\n",
       "            background-color:  #f6a283;\n",
       "            color:  #000000;\n",
       "        }#T_b3d62a18_9803_11eb_bb73_acde48001122row20_col21{\n",
       "            background-color:  #e36b54;\n",
       "            color:  #000000;\n",
       "        }#T_b3d62a18_9803_11eb_bb73_acde48001122row21_col0{\n",
       "            background-color:  #f5c1a9;\n",
       "            color:  #000000;\n",
       "        }#T_b3d62a18_9803_11eb_bb73_acde48001122row21_col9{\n",
       "            background-color:  #f5a081;\n",
       "            color:  #000000;\n",
       "        }#T_b3d62a18_9803_11eb_bb73_acde48001122row21_col10{\n",
       "            background-color:  #e7745b;\n",
       "            color:  #000000;\n",
       "        }#T_b3d62a18_9803_11eb_bb73_acde48001122row21_col11{\n",
       "            background-color:  #dfdbd9;\n",
       "            color:  #000000;\n",
       "        }#T_b3d62a18_9803_11eb_bb73_acde48001122row21_col20{\n",
       "            background-color:  #e36c55;\n",
       "            color:  #000000;\n",
       "        }</style><table id=\"T_b3d62a18_9803_11eb_bb73_acde48001122\" ><thead>    <tr>        <th class=\"blank level0\" ></th>        <th class=\"col_heading level0 col0\" >price</th>        <th class=\"col_heading level0 col1\" >bedrooms</th>        <th class=\"col_heading level0 col2\" >bathrooms</th>        <th class=\"col_heading level0 col3\" >sqft_living</th>        <th class=\"col_heading level0 col4\" >sqft_lot</th>        <th class=\"col_heading level0 col5\" >floors</th>        <th class=\"col_heading level0 col6\" >waterfront</th>        <th class=\"col_heading level0 col7\" >view</th>        <th class=\"col_heading level0 col8\" >condition</th>        <th class=\"col_heading level0 col9\" >grade</th>        <th class=\"col_heading level0 col10\" >sqft_above</th>        <th class=\"col_heading level0 col11\" >sqft_basement</th>        <th class=\"col_heading level0 col12\" >yr_built</th>        <th class=\"col_heading level0 col13\" >yr_renovated</th>        <th class=\"col_heading level0 col14\" >zipcode</th>        <th class=\"col_heading level0 col15\" >lat</th>        <th class=\"col_heading level0 col16\" >long</th>        <th class=\"col_heading level0 col17\" >sqft_living15</th>        <th class=\"col_heading level0 col18\" >sqft_lot15</th>        <th class=\"col_heading level0 col19\" >total_sqf</th>        <th class=\"col_heading level0 col20\" >predict_bedrooms</th>        <th class=\"col_heading level0 col21\" >predict_bathrooms</th>    </tr></thead><tbody>\n",
       "                <tr>\n",
       "                        <th id=\"T_b3d62a18_9803_11eb_bb73_acde48001122level0_row0\" class=\"row_heading level0 row0\" >price</th>\n",
       "                        <td id=\"T_b3d62a18_9803_11eb_bb73_acde48001122row0_col0\" class=\"data row0 col0\" >1.00</td>\n",
       "                        <td id=\"T_b3d62a18_9803_11eb_bb73_acde48001122row0_col1\" class=\"data row0 col1\" >0.32</td>\n",
       "                        <td id=\"T_b3d62a18_9803_11eb_bb73_acde48001122row0_col2\" class=\"data row0 col2\" >0.53</td>\n",
       "                        <td id=\"T_b3d62a18_9803_11eb_bb73_acde48001122row0_col3\" class=\"data row0 col3\" >0.70</td>\n",
       "                        <td id=\"T_b3d62a18_9803_11eb_bb73_acde48001122row0_col4\" class=\"data row0 col4\" >0.09</td>\n",
       "                        <td id=\"T_b3d62a18_9803_11eb_bb73_acde48001122row0_col5\" class=\"data row0 col5\" >0.26</td>\n",
       "                        <td id=\"T_b3d62a18_9803_11eb_bb73_acde48001122row0_col6\" class=\"data row0 col6\" >0.27</td>\n",
       "                        <td id=\"T_b3d62a18_9803_11eb_bb73_acde48001122row0_col7\" class=\"data row0 col7\" >0.40</td>\n",
       "                        <td id=\"T_b3d62a18_9803_11eb_bb73_acde48001122row0_col8\" class=\"data row0 col8\" >0.04</td>\n",
       "                        <td id=\"T_b3d62a18_9803_11eb_bb73_acde48001122row0_col9\" class=\"data row0 col9\" >0.67</td>\n",
       "                        <td id=\"T_b3d62a18_9803_11eb_bb73_acde48001122row0_col10\" class=\"data row0 col10\" >0.61</td>\n",
       "                        <td id=\"T_b3d62a18_9803_11eb_bb73_acde48001122row0_col11\" class=\"data row0 col11\" >0.32</td>\n",
       "                        <td id=\"T_b3d62a18_9803_11eb_bb73_acde48001122row0_col12\" class=\"data row0 col12\" >0.05</td>\n",
       "                        <td id=\"T_b3d62a18_9803_11eb_bb73_acde48001122row0_col13\" class=\"data row0 col13\" >0.13</td>\n",
       "                        <td id=\"T_b3d62a18_9803_11eb_bb73_acde48001122row0_col14\" class=\"data row0 col14\" >-0.05</td>\n",
       "                        <td id=\"T_b3d62a18_9803_11eb_bb73_acde48001122row0_col15\" class=\"data row0 col15\" >0.31</td>\n",
       "                        <td id=\"T_b3d62a18_9803_11eb_bb73_acde48001122row0_col16\" class=\"data row0 col16\" >0.02</td>\n",
       "                        <td id=\"T_b3d62a18_9803_11eb_bb73_acde48001122row0_col17\" class=\"data row0 col17\" >0.59</td>\n",
       "                        <td id=\"T_b3d62a18_9803_11eb_bb73_acde48001122row0_col18\" class=\"data row0 col18\" >0.08</td>\n",
       "                        <td id=\"T_b3d62a18_9803_11eb_bb73_acde48001122row0_col19\" class=\"data row0 col19\" >0.70</td>\n",
       "                        <td id=\"T_b3d62a18_9803_11eb_bb73_acde48001122row0_col20\" class=\"data row0 col20\" >0.62</td>\n",
       "                        <td id=\"T_b3d62a18_9803_11eb_bb73_acde48001122row0_col21\" class=\"data row0 col21\" >0.61</td>\n",
       "            </tr>\n",
       "            <tr>\n",
       "                        <th id=\"T_b3d62a18_9803_11eb_bb73_acde48001122level0_row1\" class=\"row_heading level0 row1\" >bedrooms</th>\n",
       "                        <td id=\"T_b3d62a18_9803_11eb_bb73_acde48001122row1_col0\" class=\"data row1 col0\" >0.32</td>\n",
       "                        <td id=\"T_b3d62a18_9803_11eb_bb73_acde48001122row1_col1\" class=\"data row1 col1\" >1.00</td>\n",
       "                        <td id=\"T_b3d62a18_9803_11eb_bb73_acde48001122row1_col2\" class=\"data row1 col2\" >0.52</td>\n",
       "                        <td id=\"T_b3d62a18_9803_11eb_bb73_acde48001122row1_col3\" class=\"data row1 col3\" >0.58</td>\n",
       "                        <td id=\"T_b3d62a18_9803_11eb_bb73_acde48001122row1_col4\" class=\"data row1 col4\" >0.03</td>\n",
       "                        <td id=\"T_b3d62a18_9803_11eb_bb73_acde48001122row1_col5\" class=\"data row1 col5\" >0.18</td>\n",
       "                        <td id=\"T_b3d62a18_9803_11eb_bb73_acde48001122row1_col6\" class=\"data row1 col6\" >-0.00</td>\n",
       "                        <td id=\"T_b3d62a18_9803_11eb_bb73_acde48001122row1_col7\" class=\"data row1 col7\" >0.09</td>\n",
       "                        <td id=\"T_b3d62a18_9803_11eb_bb73_acde48001122row1_col8\" class=\"data row1 col8\" >0.02</td>\n",
       "                        <td id=\"T_b3d62a18_9803_11eb_bb73_acde48001122row1_col9\" class=\"data row1 col9\" >0.37</td>\n",
       "                        <td id=\"T_b3d62a18_9803_11eb_bb73_acde48001122row1_col10\" class=\"data row1 col10\" >0.49</td>\n",
       "                        <td id=\"T_b3d62a18_9803_11eb_bb73_acde48001122row1_col11\" class=\"data row1 col11\" >0.30</td>\n",
       "                        <td id=\"T_b3d62a18_9803_11eb_bb73_acde48001122row1_col12\" class=\"data row1 col12\" >0.16</td>\n",
       "                        <td id=\"T_b3d62a18_9803_11eb_bb73_acde48001122row1_col13\" class=\"data row1 col13\" >0.02</td>\n",
       "                        <td id=\"T_b3d62a18_9803_11eb_bb73_acde48001122row1_col14\" class=\"data row1 col14\" >-0.15</td>\n",
       "                        <td id=\"T_b3d62a18_9803_11eb_bb73_acde48001122row1_col15\" class=\"data row1 col15\" >-0.01</td>\n",
       "                        <td id=\"T_b3d62a18_9803_11eb_bb73_acde48001122row1_col16\" class=\"data row1 col16\" >0.13</td>\n",
       "                        <td id=\"T_b3d62a18_9803_11eb_bb73_acde48001122row1_col17\" class=\"data row1 col17\" >0.40</td>\n",
       "                        <td id=\"T_b3d62a18_9803_11eb_bb73_acde48001122row1_col18\" class=\"data row1 col18\" >0.03</td>\n",
       "                        <td id=\"T_b3d62a18_9803_11eb_bb73_acde48001122row1_col19\" class=\"data row1 col19\" >0.58</td>\n",
       "                        <td id=\"T_b3d62a18_9803_11eb_bb73_acde48001122row1_col20\" class=\"data row1 col20\" >0.53</td>\n",
       "                        <td id=\"T_b3d62a18_9803_11eb_bb73_acde48001122row1_col21\" class=\"data row1 col21\" >0.63</td>\n",
       "            </tr>\n",
       "            <tr>\n",
       "                        <th id=\"T_b3d62a18_9803_11eb_bb73_acde48001122level0_row2\" class=\"row_heading level0 row2\" >bathrooms</th>\n",
       "                        <td id=\"T_b3d62a18_9803_11eb_bb73_acde48001122row2_col0\" class=\"data row2 col0\" >0.53</td>\n",
       "                        <td id=\"T_b3d62a18_9803_11eb_bb73_acde48001122row2_col1\" class=\"data row2 col1\" >0.52</td>\n",
       "                        <td id=\"T_b3d62a18_9803_11eb_bb73_acde48001122row2_col2\" class=\"data row2 col2\" >1.00</td>\n",
       "                        <td id=\"T_b3d62a18_9803_11eb_bb73_acde48001122row2_col3\" class=\"data row2 col3\" >0.76</td>\n",
       "                        <td id=\"T_b3d62a18_9803_11eb_bb73_acde48001122row2_col4\" class=\"data row2 col4\" >0.09</td>\n",
       "                        <td id=\"T_b3d62a18_9803_11eb_bb73_acde48001122row2_col5\" class=\"data row2 col5\" >0.50</td>\n",
       "                        <td id=\"T_b3d62a18_9803_11eb_bb73_acde48001122row2_col6\" class=\"data row2 col6\" >0.07</td>\n",
       "                        <td id=\"T_b3d62a18_9803_11eb_bb73_acde48001122row2_col7\" class=\"data row2 col7\" >0.19</td>\n",
       "                        <td id=\"T_b3d62a18_9803_11eb_bb73_acde48001122row2_col8\" class=\"data row2 col8\" >-0.12</td>\n",
       "                        <td id=\"T_b3d62a18_9803_11eb_bb73_acde48001122row2_col9\" class=\"data row2 col9\" >0.67</td>\n",
       "                        <td id=\"T_b3d62a18_9803_11eb_bb73_acde48001122row2_col10\" class=\"data row2 col10\" >0.69</td>\n",
       "                        <td id=\"T_b3d62a18_9803_11eb_bb73_acde48001122row2_col11\" class=\"data row2 col11\" >0.29</td>\n",
       "                        <td id=\"T_b3d62a18_9803_11eb_bb73_acde48001122row2_col12\" class=\"data row2 col12\" >0.50</td>\n",
       "                        <td id=\"T_b3d62a18_9803_11eb_bb73_acde48001122row2_col13\" class=\"data row2 col13\" >0.05</td>\n",
       "                        <td id=\"T_b3d62a18_9803_11eb_bb73_acde48001122row2_col14\" class=\"data row2 col14\" >-0.21</td>\n",
       "                        <td id=\"T_b3d62a18_9803_11eb_bb73_acde48001122row2_col15\" class=\"data row2 col15\" >0.03</td>\n",
       "                        <td id=\"T_b3d62a18_9803_11eb_bb73_acde48001122row2_col16\" class=\"data row2 col16\" >0.22</td>\n",
       "                        <td id=\"T_b3d62a18_9803_11eb_bb73_acde48001122row2_col17\" class=\"data row2 col17\" >0.57</td>\n",
       "                        <td id=\"T_b3d62a18_9803_11eb_bb73_acde48001122row2_col18\" class=\"data row2 col18\" >0.09</td>\n",
       "                        <td id=\"T_b3d62a18_9803_11eb_bb73_acde48001122row2_col19\" class=\"data row2 col19\" >0.76</td>\n",
       "                        <td id=\"T_b3d62a18_9803_11eb_bb73_acde48001122row2_col20\" class=\"data row2 col20\" >0.70</td>\n",
       "                        <td id=\"T_b3d62a18_9803_11eb_bb73_acde48001122row2_col21\" class=\"data row2 col21\" >0.73</td>\n",
       "            </tr>\n",
       "            <tr>\n",
       "                        <th id=\"T_b3d62a18_9803_11eb_bb73_acde48001122level0_row3\" class=\"row_heading level0 row3\" >sqft_living</th>\n",
       "                        <td id=\"T_b3d62a18_9803_11eb_bb73_acde48001122row3_col0\" class=\"data row3 col0\" >0.70</td>\n",
       "                        <td id=\"T_b3d62a18_9803_11eb_bb73_acde48001122row3_col1\" class=\"data row3 col1\" >0.58</td>\n",
       "                        <td id=\"T_b3d62a18_9803_11eb_bb73_acde48001122row3_col2\" class=\"data row3 col2\" >0.76</td>\n",
       "                        <td id=\"T_b3d62a18_9803_11eb_bb73_acde48001122row3_col3\" class=\"data row3 col3\" >1.00</td>\n",
       "                        <td id=\"T_b3d62a18_9803_11eb_bb73_acde48001122row3_col4\" class=\"data row3 col4\" >0.17</td>\n",
       "                        <td id=\"T_b3d62a18_9803_11eb_bb73_acde48001122row3_col5\" class=\"data row3 col5\" >0.36</td>\n",
       "                        <td id=\"T_b3d62a18_9803_11eb_bb73_acde48001122row3_col6\" class=\"data row3 col6\" >0.11</td>\n",
       "                        <td id=\"T_b3d62a18_9803_11eb_bb73_acde48001122row3_col7\" class=\"data row3 col7\" >0.28</td>\n",
       "                        <td id=\"T_b3d62a18_9803_11eb_bb73_acde48001122row3_col8\" class=\"data row3 col8\" >-0.06</td>\n",
       "                        <td id=\"T_b3d62a18_9803_11eb_bb73_acde48001122row3_col9\" class=\"data row3 col9\" >0.76</td>\n",
       "                        <td id=\"T_b3d62a18_9803_11eb_bb73_acde48001122row3_col10\" class=\"data row3 col10\" >0.88</td>\n",
       "                        <td id=\"T_b3d62a18_9803_11eb_bb73_acde48001122row3_col11\" class=\"data row3 col11\" >0.43</td>\n",
       "                        <td id=\"T_b3d62a18_9803_11eb_bb73_acde48001122row3_col12\" class=\"data row3 col12\" >0.32</td>\n",
       "                        <td id=\"T_b3d62a18_9803_11eb_bb73_acde48001122row3_col13\" class=\"data row3 col13\" >0.06</td>\n",
       "                        <td id=\"T_b3d62a18_9803_11eb_bb73_acde48001122row3_col14\" class=\"data row3 col14\" >-0.20</td>\n",
       "                        <td id=\"T_b3d62a18_9803_11eb_bb73_acde48001122row3_col15\" class=\"data row3 col15\" >0.05</td>\n",
       "                        <td id=\"T_b3d62a18_9803_11eb_bb73_acde48001122row3_col16\" class=\"data row3 col16\" >0.24</td>\n",
       "                        <td id=\"T_b3d62a18_9803_11eb_bb73_acde48001122row3_col17\" class=\"data row3 col17\" >0.76</td>\n",
       "                        <td id=\"T_b3d62a18_9803_11eb_bb73_acde48001122row3_col18\" class=\"data row3 col18\" >0.18</td>\n",
       "                        <td id=\"T_b3d62a18_9803_11eb_bb73_acde48001122row3_col19\" class=\"data row3 col19\" >1.00</td>\n",
       "                        <td id=\"T_b3d62a18_9803_11eb_bb73_acde48001122row3_col20\" class=\"data row3 col20\" >0.86</td>\n",
       "                        <td id=\"T_b3d62a18_9803_11eb_bb73_acde48001122row3_col21\" class=\"data row3 col21\" >0.90</td>\n",
       "            </tr>\n",
       "            <tr>\n",
       "                        <th id=\"T_b3d62a18_9803_11eb_bb73_acde48001122level0_row4\" class=\"row_heading level0 row4\" >sqft_lot</th>\n",
       "                        <td id=\"T_b3d62a18_9803_11eb_bb73_acde48001122row4_col0\" class=\"data row4 col0\" >0.09</td>\n",
       "                        <td id=\"T_b3d62a18_9803_11eb_bb73_acde48001122row4_col1\" class=\"data row4 col1\" >0.03</td>\n",
       "                        <td id=\"T_b3d62a18_9803_11eb_bb73_acde48001122row4_col2\" class=\"data row4 col2\" >0.09</td>\n",
       "                        <td id=\"T_b3d62a18_9803_11eb_bb73_acde48001122row4_col3\" class=\"data row4 col3\" >0.17</td>\n",
       "                        <td id=\"T_b3d62a18_9803_11eb_bb73_acde48001122row4_col4\" class=\"data row4 col4\" >1.00</td>\n",
       "                        <td id=\"T_b3d62a18_9803_11eb_bb73_acde48001122row4_col5\" class=\"data row4 col5\" >-0.01</td>\n",
       "                        <td id=\"T_b3d62a18_9803_11eb_bb73_acde48001122row4_col6\" class=\"data row4 col6\" >0.02</td>\n",
       "                        <td id=\"T_b3d62a18_9803_11eb_bb73_acde48001122row4_col7\" class=\"data row4 col7\" >0.07</td>\n",
       "                        <td id=\"T_b3d62a18_9803_11eb_bb73_acde48001122row4_col8\" class=\"data row4 col8\" >-0.01</td>\n",
       "                        <td id=\"T_b3d62a18_9803_11eb_bb73_acde48001122row4_col9\" class=\"data row4 col9\" >0.11</td>\n",
       "                        <td id=\"T_b3d62a18_9803_11eb_bb73_acde48001122row4_col10\" class=\"data row4 col10\" >0.18</td>\n",
       "                        <td id=\"T_b3d62a18_9803_11eb_bb73_acde48001122row4_col11\" class=\"data row4 col11\" >0.02</td>\n",
       "                        <td id=\"T_b3d62a18_9803_11eb_bb73_acde48001122row4_col12\" class=\"data row4 col12\" >0.05</td>\n",
       "                        <td id=\"T_b3d62a18_9803_11eb_bb73_acde48001122row4_col13\" class=\"data row4 col13\" >0.01</td>\n",
       "                        <td id=\"T_b3d62a18_9803_11eb_bb73_acde48001122row4_col14\" class=\"data row4 col14\" >-0.13</td>\n",
       "                        <td id=\"T_b3d62a18_9803_11eb_bb73_acde48001122row4_col15\" class=\"data row4 col15\" >-0.09</td>\n",
       "                        <td id=\"T_b3d62a18_9803_11eb_bb73_acde48001122row4_col16\" class=\"data row4 col16\" >0.23</td>\n",
       "                        <td id=\"T_b3d62a18_9803_11eb_bb73_acde48001122row4_col17\" class=\"data row4 col17\" >0.15</td>\n",
       "                        <td id=\"T_b3d62a18_9803_11eb_bb73_acde48001122row4_col18\" class=\"data row4 col18\" >0.73</td>\n",
       "                        <td id=\"T_b3d62a18_9803_11eb_bb73_acde48001122row4_col19\" class=\"data row4 col19\" >0.17</td>\n",
       "                        <td id=\"T_b3d62a18_9803_11eb_bb73_acde48001122row4_col20\" class=\"data row4 col20\" >0.14</td>\n",
       "                        <td id=\"T_b3d62a18_9803_11eb_bb73_acde48001122row4_col21\" class=\"data row4 col21\" >0.14</td>\n",
       "            </tr>\n",
       "            <tr>\n",
       "                        <th id=\"T_b3d62a18_9803_11eb_bb73_acde48001122level0_row5\" class=\"row_heading level0 row5\" >floors</th>\n",
       "                        <td id=\"T_b3d62a18_9803_11eb_bb73_acde48001122row5_col0\" class=\"data row5 col0\" >0.26</td>\n",
       "                        <td id=\"T_b3d62a18_9803_11eb_bb73_acde48001122row5_col1\" class=\"data row5 col1\" >0.18</td>\n",
       "                        <td id=\"T_b3d62a18_9803_11eb_bb73_acde48001122row5_col2\" class=\"data row5 col2\" >0.50</td>\n",
       "                        <td id=\"T_b3d62a18_9803_11eb_bb73_acde48001122row5_col3\" class=\"data row5 col3\" >0.36</td>\n",
       "                        <td id=\"T_b3d62a18_9803_11eb_bb73_acde48001122row5_col4\" class=\"data row5 col4\" >-0.01</td>\n",
       "                        <td id=\"T_b3d62a18_9803_11eb_bb73_acde48001122row5_col5\" class=\"data row5 col5\" >1.00</td>\n",
       "                        <td id=\"T_b3d62a18_9803_11eb_bb73_acde48001122row5_col6\" class=\"data row5 col6\" >0.02</td>\n",
       "                        <td id=\"T_b3d62a18_9803_11eb_bb73_acde48001122row5_col7\" class=\"data row5 col7\" >0.03</td>\n",
       "                        <td id=\"T_b3d62a18_9803_11eb_bb73_acde48001122row5_col8\" class=\"data row5 col8\" >-0.26</td>\n",
       "                        <td id=\"T_b3d62a18_9803_11eb_bb73_acde48001122row5_col9\" class=\"data row5 col9\" >0.46</td>\n",
       "                        <td id=\"T_b3d62a18_9803_11eb_bb73_acde48001122row5_col10\" class=\"data row5 col10\" >0.52</td>\n",
       "                        <td id=\"T_b3d62a18_9803_11eb_bb73_acde48001122row5_col11\" class=\"data row5 col11\" >-0.25</td>\n",
       "                        <td id=\"T_b3d62a18_9803_11eb_bb73_acde48001122row5_col12\" class=\"data row5 col12\" >0.49</td>\n",
       "                        <td id=\"T_b3d62a18_9803_11eb_bb73_acde48001122row5_col13\" class=\"data row5 col13\" >0.01</td>\n",
       "                        <td id=\"T_b3d62a18_9803_11eb_bb73_acde48001122row5_col14\" class=\"data row5 col14\" >-0.06</td>\n",
       "                        <td id=\"T_b3d62a18_9803_11eb_bb73_acde48001122row5_col15\" class=\"data row5 col15\" >0.05</td>\n",
       "                        <td id=\"T_b3d62a18_9803_11eb_bb73_acde48001122row5_col16\" class=\"data row5 col16\" >0.13</td>\n",
       "                        <td id=\"T_b3d62a18_9803_11eb_bb73_acde48001122row5_col17\" class=\"data row5 col17\" >0.28</td>\n",
       "                        <td id=\"T_b3d62a18_9803_11eb_bb73_acde48001122row5_col18\" class=\"data row5 col18\" >-0.01</td>\n",
       "                        <td id=\"T_b3d62a18_9803_11eb_bb73_acde48001122row5_col19\" class=\"data row5 col19\" >0.35</td>\n",
       "                        <td id=\"T_b3d62a18_9803_11eb_bb73_acde48001122row5_col20\" class=\"data row5 col20\" >0.35</td>\n",
       "                        <td id=\"T_b3d62a18_9803_11eb_bb73_acde48001122row5_col21\" class=\"data row5 col21\" >0.33</td>\n",
       "            </tr>\n",
       "            <tr>\n",
       "                        <th id=\"T_b3d62a18_9803_11eb_bb73_acde48001122level0_row6\" class=\"row_heading level0 row6\" >waterfront</th>\n",
       "                        <td id=\"T_b3d62a18_9803_11eb_bb73_acde48001122row6_col0\" class=\"data row6 col0\" >0.27</td>\n",
       "                        <td id=\"T_b3d62a18_9803_11eb_bb73_acde48001122row6_col1\" class=\"data row6 col1\" >-0.00</td>\n",
       "                        <td id=\"T_b3d62a18_9803_11eb_bb73_acde48001122row6_col2\" class=\"data row6 col2\" >0.07</td>\n",
       "                        <td id=\"T_b3d62a18_9803_11eb_bb73_acde48001122row6_col3\" class=\"data row6 col3\" >0.11</td>\n",
       "                        <td id=\"T_b3d62a18_9803_11eb_bb73_acde48001122row6_col4\" class=\"data row6 col4\" >0.02</td>\n",
       "                        <td id=\"T_b3d62a18_9803_11eb_bb73_acde48001122row6_col5\" class=\"data row6 col5\" >0.02</td>\n",
       "                        <td id=\"T_b3d62a18_9803_11eb_bb73_acde48001122row6_col6\" class=\"data row6 col6\" >1.00</td>\n",
       "                        <td id=\"T_b3d62a18_9803_11eb_bb73_acde48001122row6_col7\" class=\"data row6 col7\" >0.40</td>\n",
       "                        <td id=\"T_b3d62a18_9803_11eb_bb73_acde48001122row6_col8\" class=\"data row6 col8\" >0.02</td>\n",
       "                        <td id=\"T_b3d62a18_9803_11eb_bb73_acde48001122row6_col9\" class=\"data row6 col9\" >0.08</td>\n",
       "                        <td id=\"T_b3d62a18_9803_11eb_bb73_acde48001122row6_col10\" class=\"data row6 col10\" >0.07</td>\n",
       "                        <td id=\"T_b3d62a18_9803_11eb_bb73_acde48001122row6_col11\" class=\"data row6 col11\" >0.08</td>\n",
       "                        <td id=\"T_b3d62a18_9803_11eb_bb73_acde48001122row6_col12\" class=\"data row6 col12\" >-0.03</td>\n",
       "                        <td id=\"T_b3d62a18_9803_11eb_bb73_acde48001122row6_col13\" class=\"data row6 col13\" >0.09</td>\n",
       "                        <td id=\"T_b3d62a18_9803_11eb_bb73_acde48001122row6_col14\" class=\"data row6 col14\" >0.03</td>\n",
       "                        <td id=\"T_b3d62a18_9803_11eb_bb73_acde48001122row6_col15\" class=\"data row6 col15\" >-0.01</td>\n",
       "                        <td id=\"T_b3d62a18_9803_11eb_bb73_acde48001122row6_col16\" class=\"data row6 col16\" >-0.04</td>\n",
       "                        <td id=\"T_b3d62a18_9803_11eb_bb73_acde48001122row6_col17\" class=\"data row6 col17\" >0.09</td>\n",
       "                        <td id=\"T_b3d62a18_9803_11eb_bb73_acde48001122row6_col18\" class=\"data row6 col18\" >0.03</td>\n",
       "                        <td id=\"T_b3d62a18_9803_11eb_bb73_acde48001122row6_col19\" class=\"data row6 col19\" >0.10</td>\n",
       "                        <td id=\"T_b3d62a18_9803_11eb_bb73_acde48001122row6_col20\" class=\"data row6 col20\" >0.10</td>\n",
       "                        <td id=\"T_b3d62a18_9803_11eb_bb73_acde48001122row6_col21\" class=\"data row6 col21\" >0.08</td>\n",
       "            </tr>\n",
       "            <tr>\n",
       "                        <th id=\"T_b3d62a18_9803_11eb_bb73_acde48001122level0_row7\" class=\"row_heading level0 row7\" >view</th>\n",
       "                        <td id=\"T_b3d62a18_9803_11eb_bb73_acde48001122row7_col0\" class=\"data row7 col0\" >0.40</td>\n",
       "                        <td id=\"T_b3d62a18_9803_11eb_bb73_acde48001122row7_col1\" class=\"data row7 col1\" >0.09</td>\n",
       "                        <td id=\"T_b3d62a18_9803_11eb_bb73_acde48001122row7_col2\" class=\"data row7 col2\" >0.19</td>\n",
       "                        <td id=\"T_b3d62a18_9803_11eb_bb73_acde48001122row7_col3\" class=\"data row7 col3\" >0.28</td>\n",
       "                        <td id=\"T_b3d62a18_9803_11eb_bb73_acde48001122row7_col4\" class=\"data row7 col4\" >0.07</td>\n",
       "                        <td id=\"T_b3d62a18_9803_11eb_bb73_acde48001122row7_col5\" class=\"data row7 col5\" >0.03</td>\n",
       "                        <td id=\"T_b3d62a18_9803_11eb_bb73_acde48001122row7_col6\" class=\"data row7 col6\" >0.40</td>\n",
       "                        <td id=\"T_b3d62a18_9803_11eb_bb73_acde48001122row7_col7\" class=\"data row7 col7\" >1.00</td>\n",
       "                        <td id=\"T_b3d62a18_9803_11eb_bb73_acde48001122row7_col8\" class=\"data row7 col8\" >0.05</td>\n",
       "                        <td id=\"T_b3d62a18_9803_11eb_bb73_acde48001122row7_col9\" class=\"data row7 col9\" >0.25</td>\n",
       "                        <td id=\"T_b3d62a18_9803_11eb_bb73_acde48001122row7_col10\" class=\"data row7 col10\" >0.17</td>\n",
       "                        <td id=\"T_b3d62a18_9803_11eb_bb73_acde48001122row7_col11\" class=\"data row7 col11\" >0.28</td>\n",
       "                        <td id=\"T_b3d62a18_9803_11eb_bb73_acde48001122row7_col12\" class=\"data row7 col12\" >-0.05</td>\n",
       "                        <td id=\"T_b3d62a18_9803_11eb_bb73_acde48001122row7_col13\" class=\"data row7 col13\" >0.10</td>\n",
       "                        <td id=\"T_b3d62a18_9803_11eb_bb73_acde48001122row7_col14\" class=\"data row7 col14\" >0.08</td>\n",
       "                        <td id=\"T_b3d62a18_9803_11eb_bb73_acde48001122row7_col15\" class=\"data row7 col15\" >0.01</td>\n",
       "                        <td id=\"T_b3d62a18_9803_11eb_bb73_acde48001122row7_col16\" class=\"data row7 col16\" >-0.08</td>\n",
       "                        <td id=\"T_b3d62a18_9803_11eb_bb73_acde48001122row7_col17\" class=\"data row7 col17\" >0.28</td>\n",
       "                        <td id=\"T_b3d62a18_9803_11eb_bb73_acde48001122row7_col18\" class=\"data row7 col18\" >0.07</td>\n",
       "                        <td id=\"T_b3d62a18_9803_11eb_bb73_acde48001122row7_col19\" class=\"data row7 col19\" >0.28</td>\n",
       "                        <td id=\"T_b3d62a18_9803_11eb_bb73_acde48001122row7_col20\" class=\"data row7 col20\" >0.25</td>\n",
       "                        <td id=\"T_b3d62a18_9803_11eb_bb73_acde48001122row7_col21\" class=\"data row7 col21\" >0.23</td>\n",
       "            </tr>\n",
       "            <tr>\n",
       "                        <th id=\"T_b3d62a18_9803_11eb_bb73_acde48001122level0_row8\" class=\"row_heading level0 row8\" >condition</th>\n",
       "                        <td id=\"T_b3d62a18_9803_11eb_bb73_acde48001122row8_col0\" class=\"data row8 col0\" >0.04</td>\n",
       "                        <td id=\"T_b3d62a18_9803_11eb_bb73_acde48001122row8_col1\" class=\"data row8 col1\" >0.02</td>\n",
       "                        <td id=\"T_b3d62a18_9803_11eb_bb73_acde48001122row8_col2\" class=\"data row8 col2\" >-0.12</td>\n",
       "                        <td id=\"T_b3d62a18_9803_11eb_bb73_acde48001122row8_col3\" class=\"data row8 col3\" >-0.06</td>\n",
       "                        <td id=\"T_b3d62a18_9803_11eb_bb73_acde48001122row8_col4\" class=\"data row8 col4\" >-0.01</td>\n",
       "                        <td id=\"T_b3d62a18_9803_11eb_bb73_acde48001122row8_col5\" class=\"data row8 col5\" >-0.26</td>\n",
       "                        <td id=\"T_b3d62a18_9803_11eb_bb73_acde48001122row8_col6\" class=\"data row8 col6\" >0.02</td>\n",
       "                        <td id=\"T_b3d62a18_9803_11eb_bb73_acde48001122row8_col7\" class=\"data row8 col7\" >0.05</td>\n",
       "                        <td id=\"T_b3d62a18_9803_11eb_bb73_acde48001122row8_col8\" class=\"data row8 col8\" >1.00</td>\n",
       "                        <td id=\"T_b3d62a18_9803_11eb_bb73_acde48001122row8_col9\" class=\"data row8 col9\" >-0.14</td>\n",
       "                        <td id=\"T_b3d62a18_9803_11eb_bb73_acde48001122row8_col10\" class=\"data row8 col10\" >-0.16</td>\n",
       "                        <td id=\"T_b3d62a18_9803_11eb_bb73_acde48001122row8_col11\" class=\"data row8 col11\" >0.17</td>\n",
       "                        <td id=\"T_b3d62a18_9803_11eb_bb73_acde48001122row8_col12\" class=\"data row8 col12\" >-0.36</td>\n",
       "                        <td id=\"T_b3d62a18_9803_11eb_bb73_acde48001122row8_col13\" class=\"data row8 col13\" >-0.06</td>\n",
       "                        <td id=\"T_b3d62a18_9803_11eb_bb73_acde48001122row8_col14\" class=\"data row8 col14\" >0.00</td>\n",
       "                        <td id=\"T_b3d62a18_9803_11eb_bb73_acde48001122row8_col15\" class=\"data row8 col15\" >-0.01</td>\n",
       "                        <td id=\"T_b3d62a18_9803_11eb_bb73_acde48001122row8_col16\" class=\"data row8 col16\" >-0.11</td>\n",
       "                        <td id=\"T_b3d62a18_9803_11eb_bb73_acde48001122row8_col17\" class=\"data row8 col17\" >-0.09</td>\n",
       "                        <td id=\"T_b3d62a18_9803_11eb_bb73_acde48001122row8_col18\" class=\"data row8 col18\" >-0.00</td>\n",
       "                        <td id=\"T_b3d62a18_9803_11eb_bb73_acde48001122row8_col19\" class=\"data row8 col19\" >-0.06</td>\n",
       "                        <td id=\"T_b3d62a18_9803_11eb_bb73_acde48001122row8_col20\" class=\"data row8 col20\" >-0.06</td>\n",
       "                        <td id=\"T_b3d62a18_9803_11eb_bb73_acde48001122row8_col21\" class=\"data row8 col21\" >-0.05</td>\n",
       "            </tr>\n",
       "            <tr>\n",
       "                        <th id=\"T_b3d62a18_9803_11eb_bb73_acde48001122level0_row9\" class=\"row_heading level0 row9\" >grade</th>\n",
       "                        <td id=\"T_b3d62a18_9803_11eb_bb73_acde48001122row9_col0\" class=\"data row9 col0\" >0.67</td>\n",
       "                        <td id=\"T_b3d62a18_9803_11eb_bb73_acde48001122row9_col1\" class=\"data row9 col1\" >0.37</td>\n",
       "                        <td id=\"T_b3d62a18_9803_11eb_bb73_acde48001122row9_col2\" class=\"data row9 col2\" >0.67</td>\n",
       "                        <td id=\"T_b3d62a18_9803_11eb_bb73_acde48001122row9_col3\" class=\"data row9 col3\" >0.76</td>\n",
       "                        <td id=\"T_b3d62a18_9803_11eb_bb73_acde48001122row9_col4\" class=\"data row9 col4\" >0.11</td>\n",
       "                        <td id=\"T_b3d62a18_9803_11eb_bb73_acde48001122row9_col5\" class=\"data row9 col5\" >0.46</td>\n",
       "                        <td id=\"T_b3d62a18_9803_11eb_bb73_acde48001122row9_col6\" class=\"data row9 col6\" >0.08</td>\n",
       "                        <td id=\"T_b3d62a18_9803_11eb_bb73_acde48001122row9_col7\" class=\"data row9 col7\" >0.25</td>\n",
       "                        <td id=\"T_b3d62a18_9803_11eb_bb73_acde48001122row9_col8\" class=\"data row9 col8\" >-0.14</td>\n",
       "                        <td id=\"T_b3d62a18_9803_11eb_bb73_acde48001122row9_col9\" class=\"data row9 col9\" >1.00</td>\n",
       "                        <td id=\"T_b3d62a18_9803_11eb_bb73_acde48001122row9_col10\" class=\"data row9 col10\" >0.76</td>\n",
       "                        <td id=\"T_b3d62a18_9803_11eb_bb73_acde48001122row9_col11\" class=\"data row9 col11\" >0.17</td>\n",
       "                        <td id=\"T_b3d62a18_9803_11eb_bb73_acde48001122row9_col12\" class=\"data row9 col12\" >0.45</td>\n",
       "                        <td id=\"T_b3d62a18_9803_11eb_bb73_acde48001122row9_col13\" class=\"data row9 col13\" >0.01</td>\n",
       "                        <td id=\"T_b3d62a18_9803_11eb_bb73_acde48001122row9_col14\" class=\"data row9 col14\" >-0.18</td>\n",
       "                        <td id=\"T_b3d62a18_9803_11eb_bb73_acde48001122row9_col15\" class=\"data row9 col15\" >0.11</td>\n",
       "                        <td id=\"T_b3d62a18_9803_11eb_bb73_acde48001122row9_col16\" class=\"data row9 col16\" >0.20</td>\n",
       "                        <td id=\"T_b3d62a18_9803_11eb_bb73_acde48001122row9_col17\" class=\"data row9 col17\" >0.71</td>\n",
       "                        <td id=\"T_b3d62a18_9803_11eb_bb73_acde48001122row9_col18\" class=\"data row9 col18\" >0.12</td>\n",
       "                        <td id=\"T_b3d62a18_9803_11eb_bb73_acde48001122row9_col19\" class=\"data row9 col19\" >0.76</td>\n",
       "                        <td id=\"T_b3d62a18_9803_11eb_bb73_acde48001122row9_col20\" class=\"data row9 col20\" >0.69</td>\n",
       "                        <td id=\"T_b3d62a18_9803_11eb_bb73_acde48001122row9_col21\" class=\"data row9 col21\" >0.68</td>\n",
       "            </tr>\n",
       "            <tr>\n",
       "                        <th id=\"T_b3d62a18_9803_11eb_bb73_acde48001122level0_row10\" class=\"row_heading level0 row10\" >sqft_above</th>\n",
       "                        <td id=\"T_b3d62a18_9803_11eb_bb73_acde48001122row10_col0\" class=\"data row10 col0\" >0.61</td>\n",
       "                        <td id=\"T_b3d62a18_9803_11eb_bb73_acde48001122row10_col1\" class=\"data row10 col1\" >0.49</td>\n",
       "                        <td id=\"T_b3d62a18_9803_11eb_bb73_acde48001122row10_col2\" class=\"data row10 col2\" >0.69</td>\n",
       "                        <td id=\"T_b3d62a18_9803_11eb_bb73_acde48001122row10_col3\" class=\"data row10 col3\" >0.88</td>\n",
       "                        <td id=\"T_b3d62a18_9803_11eb_bb73_acde48001122row10_col4\" class=\"data row10 col4\" >0.18</td>\n",
       "                        <td id=\"T_b3d62a18_9803_11eb_bb73_acde48001122row10_col5\" class=\"data row10 col5\" >0.52</td>\n",
       "                        <td id=\"T_b3d62a18_9803_11eb_bb73_acde48001122row10_col6\" class=\"data row10 col6\" >0.07</td>\n",
       "                        <td id=\"T_b3d62a18_9803_11eb_bb73_acde48001122row10_col7\" class=\"data row10 col7\" >0.17</td>\n",
       "                        <td id=\"T_b3d62a18_9803_11eb_bb73_acde48001122row10_col8\" class=\"data row10 col8\" >-0.16</td>\n",
       "                        <td id=\"T_b3d62a18_9803_11eb_bb73_acde48001122row10_col9\" class=\"data row10 col9\" >0.76</td>\n",
       "                        <td id=\"T_b3d62a18_9803_11eb_bb73_acde48001122row10_col10\" class=\"data row10 col10\" >1.00</td>\n",
       "                        <td id=\"T_b3d62a18_9803_11eb_bb73_acde48001122row10_col11\" class=\"data row10 col11\" >-0.05</td>\n",
       "                        <td id=\"T_b3d62a18_9803_11eb_bb73_acde48001122row10_col12\" class=\"data row10 col12\" >0.42</td>\n",
       "                        <td id=\"T_b3d62a18_9803_11eb_bb73_acde48001122row10_col13\" class=\"data row10 col13\" >0.02</td>\n",
       "                        <td id=\"T_b3d62a18_9803_11eb_bb73_acde48001122row10_col14\" class=\"data row10 col14\" >-0.26</td>\n",
       "                        <td id=\"T_b3d62a18_9803_11eb_bb73_acde48001122row10_col15\" class=\"data row10 col15\" >-0.00</td>\n",
       "                        <td id=\"T_b3d62a18_9803_11eb_bb73_acde48001122row10_col16\" class=\"data row10 col16\" >0.34</td>\n",
       "                        <td id=\"T_b3d62a18_9803_11eb_bb73_acde48001122row10_col17\" class=\"data row10 col17\" >0.73</td>\n",
       "                        <td id=\"T_b3d62a18_9803_11eb_bb73_acde48001122row10_col18\" class=\"data row10 col18\" >0.19</td>\n",
       "                        <td id=\"T_b3d62a18_9803_11eb_bb73_acde48001122row10_col19\" class=\"data row10 col19\" >0.88</td>\n",
       "                        <td id=\"T_b3d62a18_9803_11eb_bb73_acde48001122row10_col20\" class=\"data row10 col20\" >0.77</td>\n",
       "                        <td id=\"T_b3d62a18_9803_11eb_bb73_acde48001122row10_col21\" class=\"data row10 col21\" >0.79</td>\n",
       "            </tr>\n",
       "            <tr>\n",
       "                        <th id=\"T_b3d62a18_9803_11eb_bb73_acde48001122level0_row11\" class=\"row_heading level0 row11\" >sqft_basement</th>\n",
       "                        <td id=\"T_b3d62a18_9803_11eb_bb73_acde48001122row11_col0\" class=\"data row11 col0\" >0.32</td>\n",
       "                        <td id=\"T_b3d62a18_9803_11eb_bb73_acde48001122row11_col1\" class=\"data row11 col1\" >0.30</td>\n",
       "                        <td id=\"T_b3d62a18_9803_11eb_bb73_acde48001122row11_col2\" class=\"data row11 col2\" >0.29</td>\n",
       "                        <td id=\"T_b3d62a18_9803_11eb_bb73_acde48001122row11_col3\" class=\"data row11 col3\" >0.43</td>\n",
       "                        <td id=\"T_b3d62a18_9803_11eb_bb73_acde48001122row11_col4\" class=\"data row11 col4\" >0.02</td>\n",
       "                        <td id=\"T_b3d62a18_9803_11eb_bb73_acde48001122row11_col5\" class=\"data row11 col5\" >-0.25</td>\n",
       "                        <td id=\"T_b3d62a18_9803_11eb_bb73_acde48001122row11_col6\" class=\"data row11 col6\" >0.08</td>\n",
       "                        <td id=\"T_b3d62a18_9803_11eb_bb73_acde48001122row11_col7\" class=\"data row11 col7\" >0.28</td>\n",
       "                        <td id=\"T_b3d62a18_9803_11eb_bb73_acde48001122row11_col8\" class=\"data row11 col8\" >0.17</td>\n",
       "                        <td id=\"T_b3d62a18_9803_11eb_bb73_acde48001122row11_col9\" class=\"data row11 col9\" >0.17</td>\n",
       "                        <td id=\"T_b3d62a18_9803_11eb_bb73_acde48001122row11_col10\" class=\"data row11 col10\" >-0.05</td>\n",
       "                        <td id=\"T_b3d62a18_9803_11eb_bb73_acde48001122row11_col11\" class=\"data row11 col11\" >1.00</td>\n",
       "                        <td id=\"T_b3d62a18_9803_11eb_bb73_acde48001122row11_col12\" class=\"data row11 col12\" >-0.13</td>\n",
       "                        <td id=\"T_b3d62a18_9803_11eb_bb73_acde48001122row11_col13\" class=\"data row11 col13\" >0.07</td>\n",
       "                        <td id=\"T_b3d62a18_9803_11eb_bb73_acde48001122row11_col14\" class=\"data row11 col14\" >0.07</td>\n",
       "                        <td id=\"T_b3d62a18_9803_11eb_bb73_acde48001122row11_col15\" class=\"data row11 col15\" >0.11</td>\n",
       "                        <td id=\"T_b3d62a18_9803_11eb_bb73_acde48001122row11_col16\" class=\"data row11 col16\" >-0.14</td>\n",
       "                        <td id=\"T_b3d62a18_9803_11eb_bb73_acde48001122row11_col17\" class=\"data row11 col17\" >0.20</td>\n",
       "                        <td id=\"T_b3d62a18_9803_11eb_bb73_acde48001122row11_col18\" class=\"data row11 col18\" >0.02</td>\n",
       "                        <td id=\"T_b3d62a18_9803_11eb_bb73_acde48001122row11_col19\" class=\"data row11 col19\" >0.44</td>\n",
       "                        <td id=\"T_b3d62a18_9803_11eb_bb73_acde48001122row11_col20\" class=\"data row11 col20\" >0.34</td>\n",
       "                        <td id=\"T_b3d62a18_9803_11eb_bb73_acde48001122row11_col21\" class=\"data row11 col21\" >0.39</td>\n",
       "            </tr>\n",
       "            <tr>\n",
       "                        <th id=\"T_b3d62a18_9803_11eb_bb73_acde48001122level0_row12\" class=\"row_heading level0 row12\" >yr_built</th>\n",
       "                        <td id=\"T_b3d62a18_9803_11eb_bb73_acde48001122row12_col0\" class=\"data row12 col0\" >0.05</td>\n",
       "                        <td id=\"T_b3d62a18_9803_11eb_bb73_acde48001122row12_col1\" class=\"data row12 col1\" >0.16</td>\n",
       "                        <td id=\"T_b3d62a18_9803_11eb_bb73_acde48001122row12_col2\" class=\"data row12 col2\" >0.50</td>\n",
       "                        <td id=\"T_b3d62a18_9803_11eb_bb73_acde48001122row12_col3\" class=\"data row12 col3\" >0.32</td>\n",
       "                        <td id=\"T_b3d62a18_9803_11eb_bb73_acde48001122row12_col4\" class=\"data row12 col4\" >0.05</td>\n",
       "                        <td id=\"T_b3d62a18_9803_11eb_bb73_acde48001122row12_col5\" class=\"data row12 col5\" >0.49</td>\n",
       "                        <td id=\"T_b3d62a18_9803_11eb_bb73_acde48001122row12_col6\" class=\"data row12 col6\" >-0.03</td>\n",
       "                        <td id=\"T_b3d62a18_9803_11eb_bb73_acde48001122row12_col7\" class=\"data row12 col7\" >-0.05</td>\n",
       "                        <td id=\"T_b3d62a18_9803_11eb_bb73_acde48001122row12_col8\" class=\"data row12 col8\" >-0.36</td>\n",
       "                        <td id=\"T_b3d62a18_9803_11eb_bb73_acde48001122row12_col9\" class=\"data row12 col9\" >0.45</td>\n",
       "                        <td id=\"T_b3d62a18_9803_11eb_bb73_acde48001122row12_col10\" class=\"data row12 col10\" >0.42</td>\n",
       "                        <td id=\"T_b3d62a18_9803_11eb_bb73_acde48001122row12_col11\" class=\"data row12 col11\" >-0.13</td>\n",
       "                        <td id=\"T_b3d62a18_9803_11eb_bb73_acde48001122row12_col12\" class=\"data row12 col12\" >1.00</td>\n",
       "                        <td id=\"T_b3d62a18_9803_11eb_bb73_acde48001122row12_col13\" class=\"data row12 col13\" >-0.22</td>\n",
       "                        <td id=\"T_b3d62a18_9803_11eb_bb73_acde48001122row12_col14\" class=\"data row12 col14\" >-0.35</td>\n",
       "                        <td id=\"T_b3d62a18_9803_11eb_bb73_acde48001122row12_col15\" class=\"data row12 col15\" >-0.15</td>\n",
       "                        <td id=\"T_b3d62a18_9803_11eb_bb73_acde48001122row12_col16\" class=\"data row12 col16\" >0.41</td>\n",
       "                        <td id=\"T_b3d62a18_9803_11eb_bb73_acde48001122row12_col17\" class=\"data row12 col17\" >0.33</td>\n",
       "                        <td id=\"T_b3d62a18_9803_11eb_bb73_acde48001122row12_col18\" class=\"data row12 col18\" >0.07</td>\n",
       "                        <td id=\"T_b3d62a18_9803_11eb_bb73_acde48001122row12_col19\" class=\"data row12 col19\" >0.32</td>\n",
       "                        <td id=\"T_b3d62a18_9803_11eb_bb73_acde48001122row12_col20\" class=\"data row12 col20\" >0.32</td>\n",
       "                        <td id=\"T_b3d62a18_9803_11eb_bb73_acde48001122row12_col21\" class=\"data row12 col21\" >0.31</td>\n",
       "            </tr>\n",
       "            <tr>\n",
       "                        <th id=\"T_b3d62a18_9803_11eb_bb73_acde48001122level0_row13\" class=\"row_heading level0 row13\" >yr_renovated</th>\n",
       "                        <td id=\"T_b3d62a18_9803_11eb_bb73_acde48001122row13_col0\" class=\"data row13 col0\" >0.13</td>\n",
       "                        <td id=\"T_b3d62a18_9803_11eb_bb73_acde48001122row13_col1\" class=\"data row13 col1\" >0.02</td>\n",
       "                        <td id=\"T_b3d62a18_9803_11eb_bb73_acde48001122row13_col2\" class=\"data row13 col2\" >0.05</td>\n",
       "                        <td id=\"T_b3d62a18_9803_11eb_bb73_acde48001122row13_col3\" class=\"data row13 col3\" >0.06</td>\n",
       "                        <td id=\"T_b3d62a18_9803_11eb_bb73_acde48001122row13_col4\" class=\"data row13 col4\" >0.01</td>\n",
       "                        <td id=\"T_b3d62a18_9803_11eb_bb73_acde48001122row13_col5\" class=\"data row13 col5\" >0.01</td>\n",
       "                        <td id=\"T_b3d62a18_9803_11eb_bb73_acde48001122row13_col6\" class=\"data row13 col6\" >0.09</td>\n",
       "                        <td id=\"T_b3d62a18_9803_11eb_bb73_acde48001122row13_col7\" class=\"data row13 col7\" >0.10</td>\n",
       "                        <td id=\"T_b3d62a18_9803_11eb_bb73_acde48001122row13_col8\" class=\"data row13 col8\" >-0.06</td>\n",
       "                        <td id=\"T_b3d62a18_9803_11eb_bb73_acde48001122row13_col9\" class=\"data row13 col9\" >0.01</td>\n",
       "                        <td id=\"T_b3d62a18_9803_11eb_bb73_acde48001122row13_col10\" class=\"data row13 col10\" >0.02</td>\n",
       "                        <td id=\"T_b3d62a18_9803_11eb_bb73_acde48001122row13_col11\" class=\"data row13 col11\" >0.07</td>\n",
       "                        <td id=\"T_b3d62a18_9803_11eb_bb73_acde48001122row13_col12\" class=\"data row13 col12\" >-0.22</td>\n",
       "                        <td id=\"T_b3d62a18_9803_11eb_bb73_acde48001122row13_col13\" class=\"data row13 col13\" >1.00</td>\n",
       "                        <td id=\"T_b3d62a18_9803_11eb_bb73_acde48001122row13_col14\" class=\"data row13 col14\" >0.06</td>\n",
       "                        <td id=\"T_b3d62a18_9803_11eb_bb73_acde48001122row13_col15\" class=\"data row13 col15\" >0.03</td>\n",
       "                        <td id=\"T_b3d62a18_9803_11eb_bb73_acde48001122row13_col16\" class=\"data row13 col16\" >-0.07</td>\n",
       "                        <td id=\"T_b3d62a18_9803_11eb_bb73_acde48001122row13_col17\" class=\"data row13 col17\" >-0.00</td>\n",
       "                        <td id=\"T_b3d62a18_9803_11eb_bb73_acde48001122row13_col18\" class=\"data row13 col18\" >0.01</td>\n",
       "                        <td id=\"T_b3d62a18_9803_11eb_bb73_acde48001122row13_col19\" class=\"data row13 col19\" >0.06</td>\n",
       "                        <td id=\"T_b3d62a18_9803_11eb_bb73_acde48001122row13_col20\" class=\"data row13 col20\" >0.05</td>\n",
       "                        <td id=\"T_b3d62a18_9803_11eb_bb73_acde48001122row13_col21\" class=\"data row13 col21\" >0.04</td>\n",
       "            </tr>\n",
       "            <tr>\n",
       "                        <th id=\"T_b3d62a18_9803_11eb_bb73_acde48001122level0_row14\" class=\"row_heading level0 row14\" >zipcode</th>\n",
       "                        <td id=\"T_b3d62a18_9803_11eb_bb73_acde48001122row14_col0\" class=\"data row14 col0\" >-0.05</td>\n",
       "                        <td id=\"T_b3d62a18_9803_11eb_bb73_acde48001122row14_col1\" class=\"data row14 col1\" >-0.15</td>\n",
       "                        <td id=\"T_b3d62a18_9803_11eb_bb73_acde48001122row14_col2\" class=\"data row14 col2\" >-0.21</td>\n",
       "                        <td id=\"T_b3d62a18_9803_11eb_bb73_acde48001122row14_col3\" class=\"data row14 col3\" >-0.20</td>\n",
       "                        <td id=\"T_b3d62a18_9803_11eb_bb73_acde48001122row14_col4\" class=\"data row14 col4\" >-0.13</td>\n",
       "                        <td id=\"T_b3d62a18_9803_11eb_bb73_acde48001122row14_col5\" class=\"data row14 col5\" >-0.06</td>\n",
       "                        <td id=\"T_b3d62a18_9803_11eb_bb73_acde48001122row14_col6\" class=\"data row14 col6\" >0.03</td>\n",
       "                        <td id=\"T_b3d62a18_9803_11eb_bb73_acde48001122row14_col7\" class=\"data row14 col7\" >0.08</td>\n",
       "                        <td id=\"T_b3d62a18_9803_11eb_bb73_acde48001122row14_col8\" class=\"data row14 col8\" >0.00</td>\n",
       "                        <td id=\"T_b3d62a18_9803_11eb_bb73_acde48001122row14_col9\" class=\"data row14 col9\" >-0.18</td>\n",
       "                        <td id=\"T_b3d62a18_9803_11eb_bb73_acde48001122row14_col10\" class=\"data row14 col10\" >-0.26</td>\n",
       "                        <td id=\"T_b3d62a18_9803_11eb_bb73_acde48001122row14_col11\" class=\"data row14 col11\" >0.07</td>\n",
       "                        <td id=\"T_b3d62a18_9803_11eb_bb73_acde48001122row14_col12\" class=\"data row14 col12\" >-0.35</td>\n",
       "                        <td id=\"T_b3d62a18_9803_11eb_bb73_acde48001122row14_col13\" class=\"data row14 col13\" >0.06</td>\n",
       "                        <td id=\"T_b3d62a18_9803_11eb_bb73_acde48001122row14_col14\" class=\"data row14 col14\" >1.00</td>\n",
       "                        <td id=\"T_b3d62a18_9803_11eb_bb73_acde48001122row14_col15\" class=\"data row14 col15\" >0.27</td>\n",
       "                        <td id=\"T_b3d62a18_9803_11eb_bb73_acde48001122row14_col16\" class=\"data row14 col16\" >-0.56</td>\n",
       "                        <td id=\"T_b3d62a18_9803_11eb_bb73_acde48001122row14_col17\" class=\"data row14 col17\" >-0.28</td>\n",
       "                        <td id=\"T_b3d62a18_9803_11eb_bb73_acde48001122row14_col18\" class=\"data row14 col18\" >-0.15</td>\n",
       "                        <td id=\"T_b3d62a18_9803_11eb_bb73_acde48001122row14_col19\" class=\"data row14 col19\" >-0.20</td>\n",
       "                        <td id=\"T_b3d62a18_9803_11eb_bb73_acde48001122row14_col20\" class=\"data row14 col20\" >-0.17</td>\n",
       "                        <td id=\"T_b3d62a18_9803_11eb_bb73_acde48001122row14_col21\" class=\"data row14 col21\" >-0.20</td>\n",
       "            </tr>\n",
       "            <tr>\n",
       "                        <th id=\"T_b3d62a18_9803_11eb_bb73_acde48001122level0_row15\" class=\"row_heading level0 row15\" >lat</th>\n",
       "                        <td id=\"T_b3d62a18_9803_11eb_bb73_acde48001122row15_col0\" class=\"data row15 col0\" >0.31</td>\n",
       "                        <td id=\"T_b3d62a18_9803_11eb_bb73_acde48001122row15_col1\" class=\"data row15 col1\" >-0.01</td>\n",
       "                        <td id=\"T_b3d62a18_9803_11eb_bb73_acde48001122row15_col2\" class=\"data row15 col2\" >0.03</td>\n",
       "                        <td id=\"T_b3d62a18_9803_11eb_bb73_acde48001122row15_col3\" class=\"data row15 col3\" >0.05</td>\n",
       "                        <td id=\"T_b3d62a18_9803_11eb_bb73_acde48001122row15_col4\" class=\"data row15 col4\" >-0.09</td>\n",
       "                        <td id=\"T_b3d62a18_9803_11eb_bb73_acde48001122row15_col5\" class=\"data row15 col5\" >0.05</td>\n",
       "                        <td id=\"T_b3d62a18_9803_11eb_bb73_acde48001122row15_col6\" class=\"data row15 col6\" >-0.01</td>\n",
       "                        <td id=\"T_b3d62a18_9803_11eb_bb73_acde48001122row15_col7\" class=\"data row15 col7\" >0.01</td>\n",
       "                        <td id=\"T_b3d62a18_9803_11eb_bb73_acde48001122row15_col8\" class=\"data row15 col8\" >-0.01</td>\n",
       "                        <td id=\"T_b3d62a18_9803_11eb_bb73_acde48001122row15_col9\" class=\"data row15 col9\" >0.11</td>\n",
       "                        <td id=\"T_b3d62a18_9803_11eb_bb73_acde48001122row15_col10\" class=\"data row15 col10\" >-0.00</td>\n",
       "                        <td id=\"T_b3d62a18_9803_11eb_bb73_acde48001122row15_col11\" class=\"data row15 col11\" >0.11</td>\n",
       "                        <td id=\"T_b3d62a18_9803_11eb_bb73_acde48001122row15_col12\" class=\"data row15 col12\" >-0.15</td>\n",
       "                        <td id=\"T_b3d62a18_9803_11eb_bb73_acde48001122row15_col13\" class=\"data row15 col13\" >0.03</td>\n",
       "                        <td id=\"T_b3d62a18_9803_11eb_bb73_acde48001122row15_col14\" class=\"data row15 col14\" >0.27</td>\n",
       "                        <td id=\"T_b3d62a18_9803_11eb_bb73_acde48001122row15_col15\" class=\"data row15 col15\" >1.00</td>\n",
       "                        <td id=\"T_b3d62a18_9803_11eb_bb73_acde48001122row15_col16\" class=\"data row15 col16\" >-0.14</td>\n",
       "                        <td id=\"T_b3d62a18_9803_11eb_bb73_acde48001122row15_col17\" class=\"data row15 col17\" >0.05</td>\n",
       "                        <td id=\"T_b3d62a18_9803_11eb_bb73_acde48001122row15_col18\" class=\"data row15 col18\" >-0.09</td>\n",
       "                        <td id=\"T_b3d62a18_9803_11eb_bb73_acde48001122row15_col19\" class=\"data row15 col19\" >0.05</td>\n",
       "                        <td id=\"T_b3d62a18_9803_11eb_bb73_acde48001122row15_col20\" class=\"data row15 col20\" >0.06</td>\n",
       "                        <td id=\"T_b3d62a18_9803_11eb_bb73_acde48001122row15_col21\" class=\"data row15 col21\" >0.04</td>\n",
       "            </tr>\n",
       "            <tr>\n",
       "                        <th id=\"T_b3d62a18_9803_11eb_bb73_acde48001122level0_row16\" class=\"row_heading level0 row16\" >long</th>\n",
       "                        <td id=\"T_b3d62a18_9803_11eb_bb73_acde48001122row16_col0\" class=\"data row16 col0\" >0.02</td>\n",
       "                        <td id=\"T_b3d62a18_9803_11eb_bb73_acde48001122row16_col1\" class=\"data row16 col1\" >0.13</td>\n",
       "                        <td id=\"T_b3d62a18_9803_11eb_bb73_acde48001122row16_col2\" class=\"data row16 col2\" >0.22</td>\n",
       "                        <td id=\"T_b3d62a18_9803_11eb_bb73_acde48001122row16_col3\" class=\"data row16 col3\" >0.24</td>\n",
       "                        <td id=\"T_b3d62a18_9803_11eb_bb73_acde48001122row16_col4\" class=\"data row16 col4\" >0.23</td>\n",
       "                        <td id=\"T_b3d62a18_9803_11eb_bb73_acde48001122row16_col5\" class=\"data row16 col5\" >0.13</td>\n",
       "                        <td id=\"T_b3d62a18_9803_11eb_bb73_acde48001122row16_col6\" class=\"data row16 col6\" >-0.04</td>\n",
       "                        <td id=\"T_b3d62a18_9803_11eb_bb73_acde48001122row16_col7\" class=\"data row16 col7\" >-0.08</td>\n",
       "                        <td id=\"T_b3d62a18_9803_11eb_bb73_acde48001122row16_col8\" class=\"data row16 col8\" >-0.11</td>\n",
       "                        <td id=\"T_b3d62a18_9803_11eb_bb73_acde48001122row16_col9\" class=\"data row16 col9\" >0.20</td>\n",
       "                        <td id=\"T_b3d62a18_9803_11eb_bb73_acde48001122row16_col10\" class=\"data row16 col10\" >0.34</td>\n",
       "                        <td id=\"T_b3d62a18_9803_11eb_bb73_acde48001122row16_col11\" class=\"data row16 col11\" >-0.14</td>\n",
       "                        <td id=\"T_b3d62a18_9803_11eb_bb73_acde48001122row16_col12\" class=\"data row16 col12\" >0.41</td>\n",
       "                        <td id=\"T_b3d62a18_9803_11eb_bb73_acde48001122row16_col13\" class=\"data row16 col13\" >-0.07</td>\n",
       "                        <td id=\"T_b3d62a18_9803_11eb_bb73_acde48001122row16_col14\" class=\"data row16 col14\" >-0.56</td>\n",
       "                        <td id=\"T_b3d62a18_9803_11eb_bb73_acde48001122row16_col15\" class=\"data row16 col15\" >-0.14</td>\n",
       "                        <td id=\"T_b3d62a18_9803_11eb_bb73_acde48001122row16_col16\" class=\"data row16 col16\" >1.00</td>\n",
       "                        <td id=\"T_b3d62a18_9803_11eb_bb73_acde48001122row16_col17\" class=\"data row16 col17\" >0.33</td>\n",
       "                        <td id=\"T_b3d62a18_9803_11eb_bb73_acde48001122row16_col18\" class=\"data row16 col18\" >0.25</td>\n",
       "                        <td id=\"T_b3d62a18_9803_11eb_bb73_acde48001122row16_col19\" class=\"data row16 col19\" >0.24</td>\n",
       "                        <td id=\"T_b3d62a18_9803_11eb_bb73_acde48001122row16_col20\" class=\"data row16 col20\" >0.21</td>\n",
       "                        <td id=\"T_b3d62a18_9803_11eb_bb73_acde48001122row16_col21\" class=\"data row16 col21\" >0.23</td>\n",
       "            </tr>\n",
       "            <tr>\n",
       "                        <th id=\"T_b3d62a18_9803_11eb_bb73_acde48001122level0_row17\" class=\"row_heading level0 row17\" >sqft_living15</th>\n",
       "                        <td id=\"T_b3d62a18_9803_11eb_bb73_acde48001122row17_col0\" class=\"data row17 col0\" >0.59</td>\n",
       "                        <td id=\"T_b3d62a18_9803_11eb_bb73_acde48001122row17_col1\" class=\"data row17 col1\" >0.40</td>\n",
       "                        <td id=\"T_b3d62a18_9803_11eb_bb73_acde48001122row17_col2\" class=\"data row17 col2\" >0.57</td>\n",
       "                        <td id=\"T_b3d62a18_9803_11eb_bb73_acde48001122row17_col3\" class=\"data row17 col3\" >0.76</td>\n",
       "                        <td id=\"T_b3d62a18_9803_11eb_bb73_acde48001122row17_col4\" class=\"data row17 col4\" >0.15</td>\n",
       "                        <td id=\"T_b3d62a18_9803_11eb_bb73_acde48001122row17_col5\" class=\"data row17 col5\" >0.28</td>\n",
       "                        <td id=\"T_b3d62a18_9803_11eb_bb73_acde48001122row17_col6\" class=\"data row17 col6\" >0.09</td>\n",
       "                        <td id=\"T_b3d62a18_9803_11eb_bb73_acde48001122row17_col7\" class=\"data row17 col7\" >0.28</td>\n",
       "                        <td id=\"T_b3d62a18_9803_11eb_bb73_acde48001122row17_col8\" class=\"data row17 col8\" >-0.09</td>\n",
       "                        <td id=\"T_b3d62a18_9803_11eb_bb73_acde48001122row17_col9\" class=\"data row17 col9\" >0.71</td>\n",
       "                        <td id=\"T_b3d62a18_9803_11eb_bb73_acde48001122row17_col10\" class=\"data row17 col10\" >0.73</td>\n",
       "                        <td id=\"T_b3d62a18_9803_11eb_bb73_acde48001122row17_col11\" class=\"data row17 col11\" >0.20</td>\n",
       "                        <td id=\"T_b3d62a18_9803_11eb_bb73_acde48001122row17_col12\" class=\"data row17 col12\" >0.33</td>\n",
       "                        <td id=\"T_b3d62a18_9803_11eb_bb73_acde48001122row17_col13\" class=\"data row17 col13\" >-0.00</td>\n",
       "                        <td id=\"T_b3d62a18_9803_11eb_bb73_acde48001122row17_col14\" class=\"data row17 col14\" >-0.28</td>\n",
       "                        <td id=\"T_b3d62a18_9803_11eb_bb73_acde48001122row17_col15\" class=\"data row17 col15\" >0.05</td>\n",
       "                        <td id=\"T_b3d62a18_9803_11eb_bb73_acde48001122row17_col16\" class=\"data row17 col16\" >0.33</td>\n",
       "                        <td id=\"T_b3d62a18_9803_11eb_bb73_acde48001122row17_col17\" class=\"data row17 col17\" >1.00</td>\n",
       "                        <td id=\"T_b3d62a18_9803_11eb_bb73_acde48001122row17_col18\" class=\"data row17 col18\" >0.18</td>\n",
       "                        <td id=\"T_b3d62a18_9803_11eb_bb73_acde48001122row17_col19\" class=\"data row17 col19\" >0.76</td>\n",
       "                        <td id=\"T_b3d62a18_9803_11eb_bb73_acde48001122row17_col20\" class=\"data row17 col20\" >0.65</td>\n",
       "                        <td id=\"T_b3d62a18_9803_11eb_bb73_acde48001122row17_col21\" class=\"data row17 col21\" >0.67</td>\n",
       "            </tr>\n",
       "            <tr>\n",
       "                        <th id=\"T_b3d62a18_9803_11eb_bb73_acde48001122level0_row18\" class=\"row_heading level0 row18\" >sqft_lot15</th>\n",
       "                        <td id=\"T_b3d62a18_9803_11eb_bb73_acde48001122row18_col0\" class=\"data row18 col0\" >0.08</td>\n",
       "                        <td id=\"T_b3d62a18_9803_11eb_bb73_acde48001122row18_col1\" class=\"data row18 col1\" >0.03</td>\n",
       "                        <td id=\"T_b3d62a18_9803_11eb_bb73_acde48001122row18_col2\" class=\"data row18 col2\" >0.09</td>\n",
       "                        <td id=\"T_b3d62a18_9803_11eb_bb73_acde48001122row18_col3\" class=\"data row18 col3\" >0.18</td>\n",
       "                        <td id=\"T_b3d62a18_9803_11eb_bb73_acde48001122row18_col4\" class=\"data row18 col4\" >0.73</td>\n",
       "                        <td id=\"T_b3d62a18_9803_11eb_bb73_acde48001122row18_col5\" class=\"data row18 col5\" >-0.01</td>\n",
       "                        <td id=\"T_b3d62a18_9803_11eb_bb73_acde48001122row18_col6\" class=\"data row18 col6\" >0.03</td>\n",
       "                        <td id=\"T_b3d62a18_9803_11eb_bb73_acde48001122row18_col7\" class=\"data row18 col7\" >0.07</td>\n",
       "                        <td id=\"T_b3d62a18_9803_11eb_bb73_acde48001122row18_col8\" class=\"data row18 col8\" >-0.00</td>\n",
       "                        <td id=\"T_b3d62a18_9803_11eb_bb73_acde48001122row18_col9\" class=\"data row18 col9\" >0.12</td>\n",
       "                        <td id=\"T_b3d62a18_9803_11eb_bb73_acde48001122row18_col10\" class=\"data row18 col10\" >0.19</td>\n",
       "                        <td id=\"T_b3d62a18_9803_11eb_bb73_acde48001122row18_col11\" class=\"data row18 col11\" >0.02</td>\n",
       "                        <td id=\"T_b3d62a18_9803_11eb_bb73_acde48001122row18_col12\" class=\"data row18 col12\" >0.07</td>\n",
       "                        <td id=\"T_b3d62a18_9803_11eb_bb73_acde48001122row18_col13\" class=\"data row18 col13\" >0.01</td>\n",
       "                        <td id=\"T_b3d62a18_9803_11eb_bb73_acde48001122row18_col14\" class=\"data row18 col14\" >-0.15</td>\n",
       "                        <td id=\"T_b3d62a18_9803_11eb_bb73_acde48001122row18_col15\" class=\"data row18 col15\" >-0.09</td>\n",
       "                        <td id=\"T_b3d62a18_9803_11eb_bb73_acde48001122row18_col16\" class=\"data row18 col16\" >0.25</td>\n",
       "                        <td id=\"T_b3d62a18_9803_11eb_bb73_acde48001122row18_col17\" class=\"data row18 col17\" >0.18</td>\n",
       "                        <td id=\"T_b3d62a18_9803_11eb_bb73_acde48001122row18_col18\" class=\"data row18 col18\" >1.00</td>\n",
       "                        <td id=\"T_b3d62a18_9803_11eb_bb73_acde48001122row18_col19\" class=\"data row18 col19\" >0.18</td>\n",
       "                        <td id=\"T_b3d62a18_9803_11eb_bb73_acde48001122row18_col20\" class=\"data row18 col20\" >0.15</td>\n",
       "                        <td id=\"T_b3d62a18_9803_11eb_bb73_acde48001122row18_col21\" class=\"data row18 col21\" >0.15</td>\n",
       "            </tr>\n",
       "            <tr>\n",
       "                        <th id=\"T_b3d62a18_9803_11eb_bb73_acde48001122level0_row19\" class=\"row_heading level0 row19\" >total_sqf</th>\n",
       "                        <td id=\"T_b3d62a18_9803_11eb_bb73_acde48001122row19_col0\" class=\"data row19 col0\" >0.70</td>\n",
       "                        <td id=\"T_b3d62a18_9803_11eb_bb73_acde48001122row19_col1\" class=\"data row19 col1\" >0.58</td>\n",
       "                        <td id=\"T_b3d62a18_9803_11eb_bb73_acde48001122row19_col2\" class=\"data row19 col2\" >0.76</td>\n",
       "                        <td id=\"T_b3d62a18_9803_11eb_bb73_acde48001122row19_col3\" class=\"data row19 col3\" >1.00</td>\n",
       "                        <td id=\"T_b3d62a18_9803_11eb_bb73_acde48001122row19_col4\" class=\"data row19 col4\" >0.17</td>\n",
       "                        <td id=\"T_b3d62a18_9803_11eb_bb73_acde48001122row19_col5\" class=\"data row19 col5\" >0.35</td>\n",
       "                        <td id=\"T_b3d62a18_9803_11eb_bb73_acde48001122row19_col6\" class=\"data row19 col6\" >0.10</td>\n",
       "                        <td id=\"T_b3d62a18_9803_11eb_bb73_acde48001122row19_col7\" class=\"data row19 col7\" >0.28</td>\n",
       "                        <td id=\"T_b3d62a18_9803_11eb_bb73_acde48001122row19_col8\" class=\"data row19 col8\" >-0.06</td>\n",
       "                        <td id=\"T_b3d62a18_9803_11eb_bb73_acde48001122row19_col9\" class=\"data row19 col9\" >0.76</td>\n",
       "                        <td id=\"T_b3d62a18_9803_11eb_bb73_acde48001122row19_col10\" class=\"data row19 col10\" >0.88</td>\n",
       "                        <td id=\"T_b3d62a18_9803_11eb_bb73_acde48001122row19_col11\" class=\"data row19 col11\" >0.44</td>\n",
       "                        <td id=\"T_b3d62a18_9803_11eb_bb73_acde48001122row19_col12\" class=\"data row19 col12\" >0.32</td>\n",
       "                        <td id=\"T_b3d62a18_9803_11eb_bb73_acde48001122row19_col13\" class=\"data row19 col13\" >0.06</td>\n",
       "                        <td id=\"T_b3d62a18_9803_11eb_bb73_acde48001122row19_col14\" class=\"data row19 col14\" >-0.20</td>\n",
       "                        <td id=\"T_b3d62a18_9803_11eb_bb73_acde48001122row19_col15\" class=\"data row19 col15\" >0.05</td>\n",
       "                        <td id=\"T_b3d62a18_9803_11eb_bb73_acde48001122row19_col16\" class=\"data row19 col16\" >0.24</td>\n",
       "                        <td id=\"T_b3d62a18_9803_11eb_bb73_acde48001122row19_col17\" class=\"data row19 col17\" >0.76</td>\n",
       "                        <td id=\"T_b3d62a18_9803_11eb_bb73_acde48001122row19_col18\" class=\"data row19 col18\" >0.18</td>\n",
       "                        <td id=\"T_b3d62a18_9803_11eb_bb73_acde48001122row19_col19\" class=\"data row19 col19\" >1.00</td>\n",
       "                        <td id=\"T_b3d62a18_9803_11eb_bb73_acde48001122row19_col20\" class=\"data row19 col20\" >0.86</td>\n",
       "                        <td id=\"T_b3d62a18_9803_11eb_bb73_acde48001122row19_col21\" class=\"data row19 col21\" >0.90</td>\n",
       "            </tr>\n",
       "            <tr>\n",
       "                        <th id=\"T_b3d62a18_9803_11eb_bb73_acde48001122level0_row20\" class=\"row_heading level0 row20\" >predict_bedrooms</th>\n",
       "                        <td id=\"T_b3d62a18_9803_11eb_bb73_acde48001122row20_col0\" class=\"data row20 col0\" >0.62</td>\n",
       "                        <td id=\"T_b3d62a18_9803_11eb_bb73_acde48001122row20_col1\" class=\"data row20 col1\" >0.53</td>\n",
       "                        <td id=\"T_b3d62a18_9803_11eb_bb73_acde48001122row20_col2\" class=\"data row20 col2\" >0.70</td>\n",
       "                        <td id=\"T_b3d62a18_9803_11eb_bb73_acde48001122row20_col3\" class=\"data row20 col3\" >0.86</td>\n",
       "                        <td id=\"T_b3d62a18_9803_11eb_bb73_acde48001122row20_col4\" class=\"data row20 col4\" >0.14</td>\n",
       "                        <td id=\"T_b3d62a18_9803_11eb_bb73_acde48001122row20_col5\" class=\"data row20 col5\" >0.35</td>\n",
       "                        <td id=\"T_b3d62a18_9803_11eb_bb73_acde48001122row20_col6\" class=\"data row20 col6\" >0.10</td>\n",
       "                        <td id=\"T_b3d62a18_9803_11eb_bb73_acde48001122row20_col7\" class=\"data row20 col7\" >0.25</td>\n",
       "                        <td id=\"T_b3d62a18_9803_11eb_bb73_acde48001122row20_col8\" class=\"data row20 col8\" >-0.06</td>\n",
       "                        <td id=\"T_b3d62a18_9803_11eb_bb73_acde48001122row20_col9\" class=\"data row20 col9\" >0.69</td>\n",
       "                        <td id=\"T_b3d62a18_9803_11eb_bb73_acde48001122row20_col10\" class=\"data row20 col10\" >0.77</td>\n",
       "                        <td id=\"T_b3d62a18_9803_11eb_bb73_acde48001122row20_col11\" class=\"data row20 col11\" >0.34</td>\n",
       "                        <td id=\"T_b3d62a18_9803_11eb_bb73_acde48001122row20_col12\" class=\"data row20 col12\" >0.32</td>\n",
       "                        <td id=\"T_b3d62a18_9803_11eb_bb73_acde48001122row20_col13\" class=\"data row20 col13\" >0.05</td>\n",
       "                        <td id=\"T_b3d62a18_9803_11eb_bb73_acde48001122row20_col14\" class=\"data row20 col14\" >-0.17</td>\n",
       "                        <td id=\"T_b3d62a18_9803_11eb_bb73_acde48001122row20_col15\" class=\"data row20 col15\" >0.06</td>\n",
       "                        <td id=\"T_b3d62a18_9803_11eb_bb73_acde48001122row20_col16\" class=\"data row20 col16\" >0.21</td>\n",
       "                        <td id=\"T_b3d62a18_9803_11eb_bb73_acde48001122row20_col17\" class=\"data row20 col17\" >0.65</td>\n",
       "                        <td id=\"T_b3d62a18_9803_11eb_bb73_acde48001122row20_col18\" class=\"data row20 col18\" >0.15</td>\n",
       "                        <td id=\"T_b3d62a18_9803_11eb_bb73_acde48001122row20_col19\" class=\"data row20 col19\" >0.86</td>\n",
       "                        <td id=\"T_b3d62a18_9803_11eb_bb73_acde48001122row20_col20\" class=\"data row20 col20\" >1.00</td>\n",
       "                        <td id=\"T_b3d62a18_9803_11eb_bb73_acde48001122row20_col21\" class=\"data row20 col21\" >0.83</td>\n",
       "            </tr>\n",
       "            <tr>\n",
       "                        <th id=\"T_b3d62a18_9803_11eb_bb73_acde48001122level0_row21\" class=\"row_heading level0 row21\" >predict_bathrooms</th>\n",
       "                        <td id=\"T_b3d62a18_9803_11eb_bb73_acde48001122row21_col0\" class=\"data row21 col0\" >0.61</td>\n",
       "                        <td id=\"T_b3d62a18_9803_11eb_bb73_acde48001122row21_col1\" class=\"data row21 col1\" >0.63</td>\n",
       "                        <td id=\"T_b3d62a18_9803_11eb_bb73_acde48001122row21_col2\" class=\"data row21 col2\" >0.73</td>\n",
       "                        <td id=\"T_b3d62a18_9803_11eb_bb73_acde48001122row21_col3\" class=\"data row21 col3\" >0.90</td>\n",
       "                        <td id=\"T_b3d62a18_9803_11eb_bb73_acde48001122row21_col4\" class=\"data row21 col4\" >0.14</td>\n",
       "                        <td id=\"T_b3d62a18_9803_11eb_bb73_acde48001122row21_col5\" class=\"data row21 col5\" >0.33</td>\n",
       "                        <td id=\"T_b3d62a18_9803_11eb_bb73_acde48001122row21_col6\" class=\"data row21 col6\" >0.08</td>\n",
       "                        <td id=\"T_b3d62a18_9803_11eb_bb73_acde48001122row21_col7\" class=\"data row21 col7\" >0.23</td>\n",
       "                        <td id=\"T_b3d62a18_9803_11eb_bb73_acde48001122row21_col8\" class=\"data row21 col8\" >-0.05</td>\n",
       "                        <td id=\"T_b3d62a18_9803_11eb_bb73_acde48001122row21_col9\" class=\"data row21 col9\" >0.68</td>\n",
       "                        <td id=\"T_b3d62a18_9803_11eb_bb73_acde48001122row21_col10\" class=\"data row21 col10\" >0.79</td>\n",
       "                        <td id=\"T_b3d62a18_9803_11eb_bb73_acde48001122row21_col11\" class=\"data row21 col11\" >0.39</td>\n",
       "                        <td id=\"T_b3d62a18_9803_11eb_bb73_acde48001122row21_col12\" class=\"data row21 col12\" >0.31</td>\n",
       "                        <td id=\"T_b3d62a18_9803_11eb_bb73_acde48001122row21_col13\" class=\"data row21 col13\" >0.04</td>\n",
       "                        <td id=\"T_b3d62a18_9803_11eb_bb73_acde48001122row21_col14\" class=\"data row21 col14\" >-0.20</td>\n",
       "                        <td id=\"T_b3d62a18_9803_11eb_bb73_acde48001122row21_col15\" class=\"data row21 col15\" >0.04</td>\n",
       "                        <td id=\"T_b3d62a18_9803_11eb_bb73_acde48001122row21_col16\" class=\"data row21 col16\" >0.23</td>\n",
       "                        <td id=\"T_b3d62a18_9803_11eb_bb73_acde48001122row21_col17\" class=\"data row21 col17\" >0.67</td>\n",
       "                        <td id=\"T_b3d62a18_9803_11eb_bb73_acde48001122row21_col18\" class=\"data row21 col18\" >0.15</td>\n",
       "                        <td id=\"T_b3d62a18_9803_11eb_bb73_acde48001122row21_col19\" class=\"data row21 col19\" >0.90</td>\n",
       "                        <td id=\"T_b3d62a18_9803_11eb_bb73_acde48001122row21_col20\" class=\"data row21 col20\" >0.83</td>\n",
       "                        <td id=\"T_b3d62a18_9803_11eb_bb73_acde48001122row21_col21\" class=\"data row21 col21\" >1.00</td>\n",
       "            </tr>\n",
       "    </tbody></table>"
      ],
      "text/plain": [
       "<pandas.io.formats.style.Styler at 0x7fabdf7a0e50>"
      ]
     },
     "execution_count": 71,
     "metadata": {},
     "output_type": "execute_result"
    }
   ],
   "source": [
    "corr = hs_df.corr()\n",
    "corr.style.background_gradient(cmap='coolwarm').set_precision(2)"
   ]
  },
  {
   "cell_type": "code",
   "execution_count": 133,
   "metadata": {},
   "outputs": [
    {
     "data": {
      "text/html": [
       "<style  type=\"text/css\" >\n",
       "#T_59dd6ff6_9814_11eb_bb73_acde48001122row0_col0,#T_59dd6ff6_9814_11eb_bb73_acde48001122row1_col1,#T_59dd6ff6_9814_11eb_bb73_acde48001122row2_col2,#T_59dd6ff6_9814_11eb_bb73_acde48001122row3_col3,#T_59dd6ff6_9814_11eb_bb73_acde48001122row4_col4{\n",
       "            background-color:  #b40426;\n",
       "            color:  #f1f1f1;\n",
       "        }#T_59dd6ff6_9814_11eb_bb73_acde48001122row0_col1,#T_59dd6ff6_9814_11eb_bb73_acde48001122row1_col0,#T_59dd6ff6_9814_11eb_bb73_acde48001122row1_col2,#T_59dd6ff6_9814_11eb_bb73_acde48001122row1_col3,#T_59dd6ff6_9814_11eb_bb73_acde48001122row1_col4{\n",
       "            background-color:  #3b4cc0;\n",
       "            color:  #f1f1f1;\n",
       "        }#T_59dd6ff6_9814_11eb_bb73_acde48001122row0_col2{\n",
       "            background-color:  #3e51c5;\n",
       "            color:  #f1f1f1;\n",
       "        }#T_59dd6ff6_9814_11eb_bb73_acde48001122row0_col3{\n",
       "            background-color:  #98b9ff;\n",
       "            color:  #000000;\n",
       "        }#T_59dd6ff6_9814_11eb_bb73_acde48001122row0_col4{\n",
       "            background-color:  #d6dce4;\n",
       "            color:  #000000;\n",
       "        }#T_59dd6ff6_9814_11eb_bb73_acde48001122row2_col0{\n",
       "            background-color:  #a2c1ff;\n",
       "            color:  #000000;\n",
       "        }#T_59dd6ff6_9814_11eb_bb73_acde48001122row2_col1,#T_59dd6ff6_9814_11eb_bb73_acde48001122row4_col2{\n",
       "            background-color:  #9ebeff;\n",
       "            color:  #000000;\n",
       "        }#T_59dd6ff6_9814_11eb_bb73_acde48001122row2_col3{\n",
       "            background-color:  #c7d7f0;\n",
       "            color:  #000000;\n",
       "        }#T_59dd6ff6_9814_11eb_bb73_acde48001122row2_col4{\n",
       "            background-color:  #d5dbe5;\n",
       "            color:  #000000;\n",
       "        }#T_59dd6ff6_9814_11eb_bb73_acde48001122row3_col0{\n",
       "            background-color:  #ebd3c6;\n",
       "            color:  #000000;\n",
       "        }#T_59dd6ff6_9814_11eb_bb73_acde48001122row3_col1{\n",
       "            background-color:  #bcd2f7;\n",
       "            color:  #000000;\n",
       "        }#T_59dd6ff6_9814_11eb_bb73_acde48001122row3_col2{\n",
       "            background-color:  #dcdddd;\n",
       "            color:  #000000;\n",
       "        }#T_59dd6ff6_9814_11eb_bb73_acde48001122row3_col4{\n",
       "            background-color:  #f5c4ac;\n",
       "            color:  #000000;\n",
       "        }#T_59dd6ff6_9814_11eb_bb73_acde48001122row4_col0{\n",
       "            background-color:  #e0dbd8;\n",
       "            color:  #000000;\n",
       "        }#T_59dd6ff6_9814_11eb_bb73_acde48001122row4_col1{\n",
       "            background-color:  #506bda;\n",
       "            color:  #000000;\n",
       "        }#T_59dd6ff6_9814_11eb_bb73_acde48001122row4_col3{\n",
       "            background-color:  #cad8ef;\n",
       "            color:  #000000;\n",
       "        }</style><table id=\"T_59dd6ff6_9814_11eb_bb73_acde48001122\" ><thead>    <tr>        <th class=\"blank level0\" ></th>        <th class=\"col_heading level0 col0\" >price</th>        <th class=\"col_heading level0 col1\" >bedrooms</th>        <th class=\"col_heading level0 col2\" >bathrooms</th>        <th class=\"col_heading level0 col3\" >sqft_living</th>        <th class=\"col_heading level0 col4\" >grade</th>    </tr></thead><tbody>\n",
       "                <tr>\n",
       "                        <th id=\"T_59dd6ff6_9814_11eb_bb73_acde48001122level0_row0\" class=\"row_heading level0 row0\" >price</th>\n",
       "                        <td id=\"T_59dd6ff6_9814_11eb_bb73_acde48001122row0_col0\" class=\"data row0 col0\" >1.00</td>\n",
       "                        <td id=\"T_59dd6ff6_9814_11eb_bb73_acde48001122row0_col1\" class=\"data row0 col1\" >0.32</td>\n",
       "                        <td id=\"T_59dd6ff6_9814_11eb_bb73_acde48001122row0_col2\" class=\"data row0 col2\" >0.53</td>\n",
       "                        <td id=\"T_59dd6ff6_9814_11eb_bb73_acde48001122row0_col3\" class=\"data row0 col3\" >0.70</td>\n",
       "                        <td id=\"T_59dd6ff6_9814_11eb_bb73_acde48001122row0_col4\" class=\"data row0 col4\" >0.67</td>\n",
       "            </tr>\n",
       "            <tr>\n",
       "                        <th id=\"T_59dd6ff6_9814_11eb_bb73_acde48001122level0_row1\" class=\"row_heading level0 row1\" >bedrooms</th>\n",
       "                        <td id=\"T_59dd6ff6_9814_11eb_bb73_acde48001122row1_col0\" class=\"data row1 col0\" >0.32</td>\n",
       "                        <td id=\"T_59dd6ff6_9814_11eb_bb73_acde48001122row1_col1\" class=\"data row1 col1\" >1.00</td>\n",
       "                        <td id=\"T_59dd6ff6_9814_11eb_bb73_acde48001122row1_col2\" class=\"data row1 col2\" >0.52</td>\n",
       "                        <td id=\"T_59dd6ff6_9814_11eb_bb73_acde48001122row1_col3\" class=\"data row1 col3\" >0.58</td>\n",
       "                        <td id=\"T_59dd6ff6_9814_11eb_bb73_acde48001122row1_col4\" class=\"data row1 col4\" >0.37</td>\n",
       "            </tr>\n",
       "            <tr>\n",
       "                        <th id=\"T_59dd6ff6_9814_11eb_bb73_acde48001122level0_row2\" class=\"row_heading level0 row2\" >bathrooms</th>\n",
       "                        <td id=\"T_59dd6ff6_9814_11eb_bb73_acde48001122row2_col0\" class=\"data row2 col0\" >0.53</td>\n",
       "                        <td id=\"T_59dd6ff6_9814_11eb_bb73_acde48001122row2_col1\" class=\"data row2 col1\" >0.52</td>\n",
       "                        <td id=\"T_59dd6ff6_9814_11eb_bb73_acde48001122row2_col2\" class=\"data row2 col2\" >1.00</td>\n",
       "                        <td id=\"T_59dd6ff6_9814_11eb_bb73_acde48001122row2_col3\" class=\"data row2 col3\" >0.76</td>\n",
       "                        <td id=\"T_59dd6ff6_9814_11eb_bb73_acde48001122row2_col4\" class=\"data row2 col4\" >0.67</td>\n",
       "            </tr>\n",
       "            <tr>\n",
       "                        <th id=\"T_59dd6ff6_9814_11eb_bb73_acde48001122level0_row3\" class=\"row_heading level0 row3\" >sqft_living</th>\n",
       "                        <td id=\"T_59dd6ff6_9814_11eb_bb73_acde48001122row3_col0\" class=\"data row3 col0\" >0.70</td>\n",
       "                        <td id=\"T_59dd6ff6_9814_11eb_bb73_acde48001122row3_col1\" class=\"data row3 col1\" >0.58</td>\n",
       "                        <td id=\"T_59dd6ff6_9814_11eb_bb73_acde48001122row3_col2\" class=\"data row3 col2\" >0.76</td>\n",
       "                        <td id=\"T_59dd6ff6_9814_11eb_bb73_acde48001122row3_col3\" class=\"data row3 col3\" >1.00</td>\n",
       "                        <td id=\"T_59dd6ff6_9814_11eb_bb73_acde48001122row3_col4\" class=\"data row3 col4\" >0.76</td>\n",
       "            </tr>\n",
       "            <tr>\n",
       "                        <th id=\"T_59dd6ff6_9814_11eb_bb73_acde48001122level0_row4\" class=\"row_heading level0 row4\" >grade</th>\n",
       "                        <td id=\"T_59dd6ff6_9814_11eb_bb73_acde48001122row4_col0\" class=\"data row4 col0\" >0.67</td>\n",
       "                        <td id=\"T_59dd6ff6_9814_11eb_bb73_acde48001122row4_col1\" class=\"data row4 col1\" >0.37</td>\n",
       "                        <td id=\"T_59dd6ff6_9814_11eb_bb73_acde48001122row4_col2\" class=\"data row4 col2\" >0.67</td>\n",
       "                        <td id=\"T_59dd6ff6_9814_11eb_bb73_acde48001122row4_col3\" class=\"data row4 col3\" >0.76</td>\n",
       "                        <td id=\"T_59dd6ff6_9814_11eb_bb73_acde48001122row4_col4\" class=\"data row4 col4\" >1.00</td>\n",
       "            </tr>\n",
       "    </tbody></table>"
      ],
      "text/plain": [
       "<pandas.io.formats.style.Styler at 0x7fabc59dedc0>"
      ]
     },
     "execution_count": 133,
     "metadata": {},
     "output_type": "execute_result"
    }
   ],
   "source": [
    "corr = hs_df[['price','bedrooms','bathrooms','sqft_living','grade']].corr()\n",
    "corr.style.background_gradient(cmap='coolwarm').set_precision(2)"
   ]
  },
  {
   "cell_type": "code",
   "execution_count": 134,
   "metadata": {},
   "outputs": [
    {
     "data": {
      "text/html": [
       "<style  type=\"text/css\" >\n",
       "#T_60ff62da_9814_11eb_bb73_acde48001122row0_col0,#T_60ff62da_9814_11eb_bb73_acde48001122row1_col1,#T_60ff62da_9814_11eb_bb73_acde48001122row2_col2,#T_60ff62da_9814_11eb_bb73_acde48001122row3_col3{\n",
       "            background-color:  #b40426;\n",
       "            color:  #f1f1f1;\n",
       "        }#T_60ff62da_9814_11eb_bb73_acde48001122row0_col1,#T_60ff62da_9814_11eb_bb73_acde48001122row1_col0,#T_60ff62da_9814_11eb_bb73_acde48001122row1_col2,#T_60ff62da_9814_11eb_bb73_acde48001122row1_col3{\n",
       "            background-color:  #3b4cc0;\n",
       "            color:  #f1f1f1;\n",
       "        }#T_60ff62da_9814_11eb_bb73_acde48001122row0_col2{\n",
       "            background-color:  #3e51c5;\n",
       "            color:  #f1f1f1;\n",
       "        }#T_60ff62da_9814_11eb_bb73_acde48001122row0_col3{\n",
       "            background-color:  #98b9ff;\n",
       "            color:  #000000;\n",
       "        }#T_60ff62da_9814_11eb_bb73_acde48001122row2_col0{\n",
       "            background-color:  #a2c1ff;\n",
       "            color:  #000000;\n",
       "        }#T_60ff62da_9814_11eb_bb73_acde48001122row2_col1{\n",
       "            background-color:  #9ebeff;\n",
       "            color:  #000000;\n",
       "        }#T_60ff62da_9814_11eb_bb73_acde48001122row2_col3{\n",
       "            background-color:  #c7d7f0;\n",
       "            color:  #000000;\n",
       "        }#T_60ff62da_9814_11eb_bb73_acde48001122row3_col0{\n",
       "            background-color:  #ebd3c6;\n",
       "            color:  #000000;\n",
       "        }#T_60ff62da_9814_11eb_bb73_acde48001122row3_col1{\n",
       "            background-color:  #bcd2f7;\n",
       "            color:  #000000;\n",
       "        }#T_60ff62da_9814_11eb_bb73_acde48001122row3_col2{\n",
       "            background-color:  #dcdddd;\n",
       "            color:  #000000;\n",
       "        }</style><table id=\"T_60ff62da_9814_11eb_bb73_acde48001122\" ><thead>    <tr>        <th class=\"blank level0\" ></th>        <th class=\"col_heading level0 col0\" >price</th>        <th class=\"col_heading level0 col1\" >bedrooms</th>        <th class=\"col_heading level0 col2\" >bathrooms</th>        <th class=\"col_heading level0 col3\" >sqft_living</th>    </tr></thead><tbody>\n",
       "                <tr>\n",
       "                        <th id=\"T_60ff62da_9814_11eb_bb73_acde48001122level0_row0\" class=\"row_heading level0 row0\" >price</th>\n",
       "                        <td id=\"T_60ff62da_9814_11eb_bb73_acde48001122row0_col0\" class=\"data row0 col0\" >1.00</td>\n",
       "                        <td id=\"T_60ff62da_9814_11eb_bb73_acde48001122row0_col1\" class=\"data row0 col1\" >0.32</td>\n",
       "                        <td id=\"T_60ff62da_9814_11eb_bb73_acde48001122row0_col2\" class=\"data row0 col2\" >0.53</td>\n",
       "                        <td id=\"T_60ff62da_9814_11eb_bb73_acde48001122row0_col3\" class=\"data row0 col3\" >0.70</td>\n",
       "            </tr>\n",
       "            <tr>\n",
       "                        <th id=\"T_60ff62da_9814_11eb_bb73_acde48001122level0_row1\" class=\"row_heading level0 row1\" >bedrooms</th>\n",
       "                        <td id=\"T_60ff62da_9814_11eb_bb73_acde48001122row1_col0\" class=\"data row1 col0\" >0.32</td>\n",
       "                        <td id=\"T_60ff62da_9814_11eb_bb73_acde48001122row1_col1\" class=\"data row1 col1\" >1.00</td>\n",
       "                        <td id=\"T_60ff62da_9814_11eb_bb73_acde48001122row1_col2\" class=\"data row1 col2\" >0.52</td>\n",
       "                        <td id=\"T_60ff62da_9814_11eb_bb73_acde48001122row1_col3\" class=\"data row1 col3\" >0.58</td>\n",
       "            </tr>\n",
       "            <tr>\n",
       "                        <th id=\"T_60ff62da_9814_11eb_bb73_acde48001122level0_row2\" class=\"row_heading level0 row2\" >bathrooms</th>\n",
       "                        <td id=\"T_60ff62da_9814_11eb_bb73_acde48001122row2_col0\" class=\"data row2 col0\" >0.53</td>\n",
       "                        <td id=\"T_60ff62da_9814_11eb_bb73_acde48001122row2_col1\" class=\"data row2 col1\" >0.52</td>\n",
       "                        <td id=\"T_60ff62da_9814_11eb_bb73_acde48001122row2_col2\" class=\"data row2 col2\" >1.00</td>\n",
       "                        <td id=\"T_60ff62da_9814_11eb_bb73_acde48001122row2_col3\" class=\"data row2 col3\" >0.76</td>\n",
       "            </tr>\n",
       "            <tr>\n",
       "                        <th id=\"T_60ff62da_9814_11eb_bb73_acde48001122level0_row3\" class=\"row_heading level0 row3\" >sqft_living</th>\n",
       "                        <td id=\"T_60ff62da_9814_11eb_bb73_acde48001122row3_col0\" class=\"data row3 col0\" >0.70</td>\n",
       "                        <td id=\"T_60ff62da_9814_11eb_bb73_acde48001122row3_col1\" class=\"data row3 col1\" >0.58</td>\n",
       "                        <td id=\"T_60ff62da_9814_11eb_bb73_acde48001122row3_col2\" class=\"data row3 col2\" >0.76</td>\n",
       "                        <td id=\"T_60ff62da_9814_11eb_bb73_acde48001122row3_col3\" class=\"data row3 col3\" >1.00</td>\n",
       "            </tr>\n",
       "    </tbody></table>"
      ],
      "text/plain": [
       "<pandas.io.formats.style.Styler at 0x7fabc59deb20>"
      ]
     },
     "execution_count": 134,
     "metadata": {},
     "output_type": "execute_result"
    }
   ],
   "source": [
    "corr = hs_df[['price','bedrooms','bathrooms','sqft_living']].corr()\n",
    "corr.style.background_gradient(cmap='coolwarm').set_precision(2)"
   ]
  },
  {
   "cell_type": "code",
   "execution_count": 74,
   "metadata": {},
   "outputs": [
    {
     "data": {
      "text/html": [
       "<style  type=\"text/css\" >\n",
       "#T_c361d504_9803_11eb_bb73_acde48001122row0_col0,#T_c361d504_9803_11eb_bb73_acde48001122row1_col1,#T_c361d504_9803_11eb_bb73_acde48001122row2_col2,#T_c361d504_9803_11eb_bb73_acde48001122row3_col3{\n",
       "            background-color:  #b40426;\n",
       "            color:  #f1f1f1;\n",
       "        }#T_c361d504_9803_11eb_bb73_acde48001122row0_col1,#T_c361d504_9803_11eb_bb73_acde48001122row1_col0,#T_c361d504_9803_11eb_bb73_acde48001122row1_col2,#T_c361d504_9803_11eb_bb73_acde48001122row1_col3{\n",
       "            background-color:  #3b4cc0;\n",
       "            color:  #f1f1f1;\n",
       "        }#T_c361d504_9803_11eb_bb73_acde48001122row0_col2{\n",
       "            background-color:  #3e51c5;\n",
       "            color:  #f1f1f1;\n",
       "        }#T_c361d504_9803_11eb_bb73_acde48001122row0_col3{\n",
       "            background-color:  #d6dce4;\n",
       "            color:  #000000;\n",
       "        }#T_c361d504_9803_11eb_bb73_acde48001122row2_col0{\n",
       "            background-color:  #a2c1ff;\n",
       "            color:  #000000;\n",
       "        }#T_c361d504_9803_11eb_bb73_acde48001122row2_col1,#T_c361d504_9803_11eb_bb73_acde48001122row3_col2{\n",
       "            background-color:  #9ebeff;\n",
       "            color:  #000000;\n",
       "        }#T_c361d504_9803_11eb_bb73_acde48001122row2_col3{\n",
       "            background-color:  #d5dbe5;\n",
       "            color:  #000000;\n",
       "        }#T_c361d504_9803_11eb_bb73_acde48001122row3_col0{\n",
       "            background-color:  #e0dbd8;\n",
       "            color:  #000000;\n",
       "        }#T_c361d504_9803_11eb_bb73_acde48001122row3_col1{\n",
       "            background-color:  #506bda;\n",
       "            color:  #000000;\n",
       "        }</style><table id=\"T_c361d504_9803_11eb_bb73_acde48001122\" ><thead>    <tr>        <th class=\"blank level0\" ></th>        <th class=\"col_heading level0 col0\" >price</th>        <th class=\"col_heading level0 col1\" >bedrooms</th>        <th class=\"col_heading level0 col2\" >bathrooms</th>        <th class=\"col_heading level0 col3\" >grade</th>    </tr></thead><tbody>\n",
       "                <tr>\n",
       "                        <th id=\"T_c361d504_9803_11eb_bb73_acde48001122level0_row0\" class=\"row_heading level0 row0\" >price</th>\n",
       "                        <td id=\"T_c361d504_9803_11eb_bb73_acde48001122row0_col0\" class=\"data row0 col0\" >1.00</td>\n",
       "                        <td id=\"T_c361d504_9803_11eb_bb73_acde48001122row0_col1\" class=\"data row0 col1\" >0.32</td>\n",
       "                        <td id=\"T_c361d504_9803_11eb_bb73_acde48001122row0_col2\" class=\"data row0 col2\" >0.53</td>\n",
       "                        <td id=\"T_c361d504_9803_11eb_bb73_acde48001122row0_col3\" class=\"data row0 col3\" >0.67</td>\n",
       "            </tr>\n",
       "            <tr>\n",
       "                        <th id=\"T_c361d504_9803_11eb_bb73_acde48001122level0_row1\" class=\"row_heading level0 row1\" >bedrooms</th>\n",
       "                        <td id=\"T_c361d504_9803_11eb_bb73_acde48001122row1_col0\" class=\"data row1 col0\" >0.32</td>\n",
       "                        <td id=\"T_c361d504_9803_11eb_bb73_acde48001122row1_col1\" class=\"data row1 col1\" >1.00</td>\n",
       "                        <td id=\"T_c361d504_9803_11eb_bb73_acde48001122row1_col2\" class=\"data row1 col2\" >0.52</td>\n",
       "                        <td id=\"T_c361d504_9803_11eb_bb73_acde48001122row1_col3\" class=\"data row1 col3\" >0.37</td>\n",
       "            </tr>\n",
       "            <tr>\n",
       "                        <th id=\"T_c361d504_9803_11eb_bb73_acde48001122level0_row2\" class=\"row_heading level0 row2\" >bathrooms</th>\n",
       "                        <td id=\"T_c361d504_9803_11eb_bb73_acde48001122row2_col0\" class=\"data row2 col0\" >0.53</td>\n",
       "                        <td id=\"T_c361d504_9803_11eb_bb73_acde48001122row2_col1\" class=\"data row2 col1\" >0.52</td>\n",
       "                        <td id=\"T_c361d504_9803_11eb_bb73_acde48001122row2_col2\" class=\"data row2 col2\" >1.00</td>\n",
       "                        <td id=\"T_c361d504_9803_11eb_bb73_acde48001122row2_col3\" class=\"data row2 col3\" >0.67</td>\n",
       "            </tr>\n",
       "            <tr>\n",
       "                        <th id=\"T_c361d504_9803_11eb_bb73_acde48001122level0_row3\" class=\"row_heading level0 row3\" >grade</th>\n",
       "                        <td id=\"T_c361d504_9803_11eb_bb73_acde48001122row3_col0\" class=\"data row3 col0\" >0.67</td>\n",
       "                        <td id=\"T_c361d504_9803_11eb_bb73_acde48001122row3_col1\" class=\"data row3 col1\" >0.37</td>\n",
       "                        <td id=\"T_c361d504_9803_11eb_bb73_acde48001122row3_col2\" class=\"data row3 col2\" >0.67</td>\n",
       "                        <td id=\"T_c361d504_9803_11eb_bb73_acde48001122row3_col3\" class=\"data row3 col3\" >1.00</td>\n",
       "            </tr>\n",
       "    </tbody></table>"
      ],
      "text/plain": [
       "<pandas.io.formats.style.Styler at 0x7fabda5878e0>"
      ]
     },
     "execution_count": 74,
     "metadata": {},
     "output_type": "execute_result"
    }
   ],
   "source": [
    "corr = hs_df[['price','bedrooms','bathrooms','grade']].corr()\n",
    "corr.style.background_gradient(cmap='coolwarm').set_precision(2)"
   ]
  },
  {
   "cell_type": "code",
   "execution_count": 135,
   "metadata": {},
   "outputs": [
    {
     "data": {
      "text/html": [
       "<style  type=\"text/css\" >\n",
       "#T_6d0c6ed8_9814_11eb_bb73_acde48001122row0_col0,#T_6d0c6ed8_9814_11eb_bb73_acde48001122row1_col1,#T_6d0c6ed8_9814_11eb_bb73_acde48001122row2_col2,#T_6d0c6ed8_9814_11eb_bb73_acde48001122row3_col3{\n",
       "            background-color:  #b40426;\n",
       "            color:  #f1f1f1;\n",
       "        }#T_6d0c6ed8_9814_11eb_bb73_acde48001122row0_col1,#T_6d0c6ed8_9814_11eb_bb73_acde48001122row1_col0,#T_6d0c6ed8_9814_11eb_bb73_acde48001122row1_col2,#T_6d0c6ed8_9814_11eb_bb73_acde48001122row1_col3{\n",
       "            background-color:  #3b4cc0;\n",
       "            color:  #f1f1f1;\n",
       "        }#T_6d0c6ed8_9814_11eb_bb73_acde48001122row0_col2{\n",
       "            background-color:  #98b9ff;\n",
       "            color:  #000000;\n",
       "        }#T_6d0c6ed8_9814_11eb_bb73_acde48001122row0_col3{\n",
       "            background-color:  #d6dce4;\n",
       "            color:  #000000;\n",
       "        }#T_6d0c6ed8_9814_11eb_bb73_acde48001122row2_col0{\n",
       "            background-color:  #ebd3c6;\n",
       "            color:  #000000;\n",
       "        }#T_6d0c6ed8_9814_11eb_bb73_acde48001122row2_col1{\n",
       "            background-color:  #bcd2f7;\n",
       "            color:  #000000;\n",
       "        }#T_6d0c6ed8_9814_11eb_bb73_acde48001122row2_col3{\n",
       "            background-color:  #f5c4ac;\n",
       "            color:  #000000;\n",
       "        }#T_6d0c6ed8_9814_11eb_bb73_acde48001122row3_col0{\n",
       "            background-color:  #e0dbd8;\n",
       "            color:  #000000;\n",
       "        }#T_6d0c6ed8_9814_11eb_bb73_acde48001122row3_col1{\n",
       "            background-color:  #506bda;\n",
       "            color:  #000000;\n",
       "        }#T_6d0c6ed8_9814_11eb_bb73_acde48001122row3_col2{\n",
       "            background-color:  #cad8ef;\n",
       "            color:  #000000;\n",
       "        }</style><table id=\"T_6d0c6ed8_9814_11eb_bb73_acde48001122\" ><thead>    <tr>        <th class=\"blank level0\" ></th>        <th class=\"col_heading level0 col0\" >price</th>        <th class=\"col_heading level0 col1\" >bedrooms</th>        <th class=\"col_heading level0 col2\" >sqft_living</th>        <th class=\"col_heading level0 col3\" >grade</th>    </tr></thead><tbody>\n",
       "                <tr>\n",
       "                        <th id=\"T_6d0c6ed8_9814_11eb_bb73_acde48001122level0_row0\" class=\"row_heading level0 row0\" >price</th>\n",
       "                        <td id=\"T_6d0c6ed8_9814_11eb_bb73_acde48001122row0_col0\" class=\"data row0 col0\" >1.00</td>\n",
       "                        <td id=\"T_6d0c6ed8_9814_11eb_bb73_acde48001122row0_col1\" class=\"data row0 col1\" >0.32</td>\n",
       "                        <td id=\"T_6d0c6ed8_9814_11eb_bb73_acde48001122row0_col2\" class=\"data row0 col2\" >0.70</td>\n",
       "                        <td id=\"T_6d0c6ed8_9814_11eb_bb73_acde48001122row0_col3\" class=\"data row0 col3\" >0.67</td>\n",
       "            </tr>\n",
       "            <tr>\n",
       "                        <th id=\"T_6d0c6ed8_9814_11eb_bb73_acde48001122level0_row1\" class=\"row_heading level0 row1\" >bedrooms</th>\n",
       "                        <td id=\"T_6d0c6ed8_9814_11eb_bb73_acde48001122row1_col0\" class=\"data row1 col0\" >0.32</td>\n",
       "                        <td id=\"T_6d0c6ed8_9814_11eb_bb73_acde48001122row1_col1\" class=\"data row1 col1\" >1.00</td>\n",
       "                        <td id=\"T_6d0c6ed8_9814_11eb_bb73_acde48001122row1_col2\" class=\"data row1 col2\" >0.58</td>\n",
       "                        <td id=\"T_6d0c6ed8_9814_11eb_bb73_acde48001122row1_col3\" class=\"data row1 col3\" >0.37</td>\n",
       "            </tr>\n",
       "            <tr>\n",
       "                        <th id=\"T_6d0c6ed8_9814_11eb_bb73_acde48001122level0_row2\" class=\"row_heading level0 row2\" >sqft_living</th>\n",
       "                        <td id=\"T_6d0c6ed8_9814_11eb_bb73_acde48001122row2_col0\" class=\"data row2 col0\" >0.70</td>\n",
       "                        <td id=\"T_6d0c6ed8_9814_11eb_bb73_acde48001122row2_col1\" class=\"data row2 col1\" >0.58</td>\n",
       "                        <td id=\"T_6d0c6ed8_9814_11eb_bb73_acde48001122row2_col2\" class=\"data row2 col2\" >1.00</td>\n",
       "                        <td id=\"T_6d0c6ed8_9814_11eb_bb73_acde48001122row2_col3\" class=\"data row2 col3\" >0.76</td>\n",
       "            </tr>\n",
       "            <tr>\n",
       "                        <th id=\"T_6d0c6ed8_9814_11eb_bb73_acde48001122level0_row3\" class=\"row_heading level0 row3\" >grade</th>\n",
       "                        <td id=\"T_6d0c6ed8_9814_11eb_bb73_acde48001122row3_col0\" class=\"data row3 col0\" >0.67</td>\n",
       "                        <td id=\"T_6d0c6ed8_9814_11eb_bb73_acde48001122row3_col1\" class=\"data row3 col1\" >0.37</td>\n",
       "                        <td id=\"T_6d0c6ed8_9814_11eb_bb73_acde48001122row3_col2\" class=\"data row3 col2\" >0.76</td>\n",
       "                        <td id=\"T_6d0c6ed8_9814_11eb_bb73_acde48001122row3_col3\" class=\"data row3 col3\" >1.00</td>\n",
       "            </tr>\n",
       "    </tbody></table>"
      ],
      "text/plain": [
       "<pandas.io.formats.style.Styler at 0x7fabc53b7d60>"
      ]
     },
     "execution_count": 135,
     "metadata": {},
     "output_type": "execute_result"
    }
   ],
   "source": [
    "corr = hs_df[['price','bedrooms','sqft_living','grade']].corr()\n",
    "corr.style.background_gradient(cmap='coolwarm').set_precision(2)"
   ]
  },
  {
   "cell_type": "code",
   "execution_count": 136,
   "metadata": {},
   "outputs": [
    {
     "data": {
      "text/html": [
       "<style  type=\"text/css\" >\n",
       "#T_7319dd4c_9814_11eb_bb73_acde48001122row0_col0,#T_7319dd4c_9814_11eb_bb73_acde48001122row1_col1,#T_7319dd4c_9814_11eb_bb73_acde48001122row2_col2,#T_7319dd4c_9814_11eb_bb73_acde48001122row3_col3{\n",
       "            background-color:  #b40426;\n",
       "            color:  #f1f1f1;\n",
       "        }#T_7319dd4c_9814_11eb_bb73_acde48001122row0_col1,#T_7319dd4c_9814_11eb_bb73_acde48001122row0_col2,#T_7319dd4c_9814_11eb_bb73_acde48001122row1_col0,#T_7319dd4c_9814_11eb_bb73_acde48001122row1_col3{\n",
       "            background-color:  #3b4cc0;\n",
       "            color:  #f1f1f1;\n",
       "        }#T_7319dd4c_9814_11eb_bb73_acde48001122row0_col3{\n",
       "            background-color:  #3c4ec2;\n",
       "            color:  #f1f1f1;\n",
       "        }#T_7319dd4c_9814_11eb_bb73_acde48001122row1_col2{\n",
       "            background-color:  #7a9df8;\n",
       "            color:  #000000;\n",
       "        }#T_7319dd4c_9814_11eb_bb73_acde48001122row2_col0{\n",
       "            background-color:  #b5cdfa;\n",
       "            color:  #000000;\n",
       "        }#T_7319dd4c_9814_11eb_bb73_acde48001122row2_col1{\n",
       "            background-color:  #dadce0;\n",
       "            color:  #000000;\n",
       "        }#T_7319dd4c_9814_11eb_bb73_acde48001122row2_col3,#T_7319dd4c_9814_11eb_bb73_acde48001122row3_col0{\n",
       "            background-color:  #9dbdff;\n",
       "            color:  #000000;\n",
       "        }#T_7319dd4c_9814_11eb_bb73_acde48001122row3_col1{\n",
       "            background-color:  #9bbcff;\n",
       "            color:  #000000;\n",
       "        }#T_7319dd4c_9814_11eb_bb73_acde48001122row3_col2{\n",
       "            background-color:  #7ea1fa;\n",
       "            color:  #000000;\n",
       "        }</style><table id=\"T_7319dd4c_9814_11eb_bb73_acde48001122\" ><thead>    <tr>        <th class=\"blank level0\" ></th>        <th class=\"col_heading level0 col0\" >price</th>        <th class=\"col_heading level0 col1\" >bathrooms</th>        <th class=\"col_heading level0 col2\" >sqft_living</th>        <th class=\"col_heading level0 col3\" >grade</th>    </tr></thead><tbody>\n",
       "                <tr>\n",
       "                        <th id=\"T_7319dd4c_9814_11eb_bb73_acde48001122level0_row0\" class=\"row_heading level0 row0\" >price</th>\n",
       "                        <td id=\"T_7319dd4c_9814_11eb_bb73_acde48001122row0_col0\" class=\"data row0 col0\" >1.00</td>\n",
       "                        <td id=\"T_7319dd4c_9814_11eb_bb73_acde48001122row0_col1\" class=\"data row0 col1\" >0.53</td>\n",
       "                        <td id=\"T_7319dd4c_9814_11eb_bb73_acde48001122row0_col2\" class=\"data row0 col2\" >0.70</td>\n",
       "                        <td id=\"T_7319dd4c_9814_11eb_bb73_acde48001122row0_col3\" class=\"data row0 col3\" >0.67</td>\n",
       "            </tr>\n",
       "            <tr>\n",
       "                        <th id=\"T_7319dd4c_9814_11eb_bb73_acde48001122level0_row1\" class=\"row_heading level0 row1\" >bathrooms</th>\n",
       "                        <td id=\"T_7319dd4c_9814_11eb_bb73_acde48001122row1_col0\" class=\"data row1 col0\" >0.53</td>\n",
       "                        <td id=\"T_7319dd4c_9814_11eb_bb73_acde48001122row1_col1\" class=\"data row1 col1\" >1.00</td>\n",
       "                        <td id=\"T_7319dd4c_9814_11eb_bb73_acde48001122row1_col2\" class=\"data row1 col2\" >0.76</td>\n",
       "                        <td id=\"T_7319dd4c_9814_11eb_bb73_acde48001122row1_col3\" class=\"data row1 col3\" >0.67</td>\n",
       "            </tr>\n",
       "            <tr>\n",
       "                        <th id=\"T_7319dd4c_9814_11eb_bb73_acde48001122level0_row2\" class=\"row_heading level0 row2\" >sqft_living</th>\n",
       "                        <td id=\"T_7319dd4c_9814_11eb_bb73_acde48001122row2_col0\" class=\"data row2 col0\" >0.70</td>\n",
       "                        <td id=\"T_7319dd4c_9814_11eb_bb73_acde48001122row2_col1\" class=\"data row2 col1\" >0.76</td>\n",
       "                        <td id=\"T_7319dd4c_9814_11eb_bb73_acde48001122row2_col2\" class=\"data row2 col2\" >1.00</td>\n",
       "                        <td id=\"T_7319dd4c_9814_11eb_bb73_acde48001122row2_col3\" class=\"data row2 col3\" >0.76</td>\n",
       "            </tr>\n",
       "            <tr>\n",
       "                        <th id=\"T_7319dd4c_9814_11eb_bb73_acde48001122level0_row3\" class=\"row_heading level0 row3\" >grade</th>\n",
       "                        <td id=\"T_7319dd4c_9814_11eb_bb73_acde48001122row3_col0\" class=\"data row3 col0\" >0.67</td>\n",
       "                        <td id=\"T_7319dd4c_9814_11eb_bb73_acde48001122row3_col1\" class=\"data row3 col1\" >0.67</td>\n",
       "                        <td id=\"T_7319dd4c_9814_11eb_bb73_acde48001122row3_col2\" class=\"data row3 col2\" >0.76</td>\n",
       "                        <td id=\"T_7319dd4c_9814_11eb_bb73_acde48001122row3_col3\" class=\"data row3 col3\" >1.00</td>\n",
       "            </tr>\n",
       "    </tbody></table>"
      ],
      "text/plain": [
       "<pandas.io.formats.style.Styler at 0x7fabc5a2ddf0>"
      ]
     },
     "execution_count": 136,
     "metadata": {},
     "output_type": "execute_result"
    }
   ],
   "source": [
    "corr = hs_df[['price','bathrooms','sqft_living','grade']].corr()\n",
    "corr.style.background_gradient(cmap='coolwarm').set_precision(2)"
   ]
  },
  {
   "cell_type": "markdown",
   "metadata": {},
   "source": [
    "**Conclusion:** As seen above, we calculated the correlation matrix for various combinations of 3 varibles in the sample. We conclude that the combination of three variables with the stronges correlation to price is: bathrooms, total_sqf and grade.Based on the correlation coefficients.\n",
    "\n",
    "Also note that ```total_sqf``` is interchangeble with ```living_sqf```.\n",
    "\n",
    "\n",
    "-------"
   ]
  },
  {
   "cell_type": "markdown",
   "metadata": {},
   "source": [
    "# 2.4 Explorartory analysis with visualization techiques to discover patterns and features of interest"
   ]
  },
  {
   "cell_type": "code",
   "execution_count": 77,
   "metadata": {},
   "outputs": [
    {
     "data": {
      "text/plain": [
       "<AxesSubplot:>"
      ]
     },
     "execution_count": 77,
     "metadata": {},
     "output_type": "execute_result"
    },
    {
     "data": {
      "image/png": "[encoded data removed]",
      "text/plain": [
       "<Figure size 432x288 with 1 Axes>"
      ]
     },
     "metadata": {
      "needs_background": "light"
     },
     "output_type": "display_data"
    }
   ],
   "source": [
    "hs_df.boxplot(vert=True, rot=55,fontsize=10)"
   ]
  },
  {
   "cell_type": "code",
   "execution_count": 8,
   "metadata": {},
   "outputs": [
    {
     "data": {
      "text/plain": [
       "['price',\n",
       " 'bedrooms',\n",
       " 'bathrooms',\n",
       " 'sqft_living',\n",
       " 'sqft_lot',\n",
       " 'floors',\n",
       " 'waterfront',\n",
       " 'view',\n",
       " 'condition',\n",
       " 'grade',\n",
       " 'sqft_above',\n",
       " 'sqft_basement',\n",
       " 'yr_built',\n",
       " 'yr_renovated',\n",
       " 'zipcode',\n",
       " 'lat',\n",
       " 'long',\n",
       " 'sqft_living15',\n",
       " 'sqft_lot15',\n",
       " 'total_sqf',\n",
       " 'predict_bedrooms',\n",
       " 'predict_bathrooms']"
      ]
     },
     "execution_count": 8,
     "metadata": {},
     "output_type": "execute_result"
    }
   ],
   "source": [
    "list(hs_df.columns)"
   ]
  },
  {
   "cell_type": "code",
   "execution_count": 31,
   "metadata": {},
   "outputs": [],
   "source": [
    "import numpy as np\n",
    "import statsmodels.api as sm\n",
    "import seaborn as sns\n",
    "import matplotlib.pyplot as plt"
   ]
  },
  {
   "cell_type": "code",
   "execution_count": 119,
   "metadata": {},
   "outputs": [],
   "source": [
    "hs_df_A = hs_df[['price']]"
   ]
  },
  {
   "cell_type": "code",
   "execution_count": 120,
   "metadata": {},
   "outputs": [],
   "source": [
    "hs_df_B = hs_df[['sqft_lot','sqft_lot15']]"
   ]
  },
  {
   "cell_type": "code",
   "execution_count": 121,
   "metadata": {},
   "outputs": [],
   "source": [
    "hs_df_C = hs_df[['sqft_living','sqft_living15','total_sqf']]"
   ]
  },
  {
   "cell_type": "code",
   "execution_count": 122,
   "metadata": {},
   "outputs": [],
   "source": [
    "hs_df_D = hs_df[['bedrooms','bathrooms','floors']]"
   ]
  },
  {
   "cell_type": "code",
   "execution_count": 26,
   "metadata": {},
   "outputs": [],
   "source": [
    "hs_df_E = hs_df[['yr_renovated','zipcode']]"
   ]
  },
  {
   "cell_type": "code",
   "execution_count": 27,
   "metadata": {},
   "outputs": [],
   "source": [
    "hs_df_F = hs_df[['grade','bathrooms','sqft_living']]"
   ]
  },
  {
   "cell_type": "code",
   "execution_count": 28,
   "metadata": {},
   "outputs": [],
   "source": [
    "hs_df_G = hs_df[['price','bathrooms']]"
   ]
  },
  {
   "cell_type": "code",
   "execution_count": 124,
   "metadata": {},
   "outputs": [
    {
     "data": {
      "text/plain": [
       "<AxesSubplot:>"
      ]
     },
     "execution_count": 124,
     "metadata": {},
     "output_type": "execute_result"
    },
    {
     "data": {
      "image/png": "[encoded data removed]",
      "text/plain": [
       "<Figure size 432x288 with 1 Axes>"
      ]
     },
     "metadata": {
      "needs_background": "light"
     },
     "output_type": "display_data"
    }
   ],
   "source": [
    "sns.boxplot(data=hs_df_A)"
   ]
  },
  {
   "cell_type": "code",
   "execution_count": 125,
   "metadata": {},
   "outputs": [
    {
     "data": {
      "text/plain": [
       "<AxesSubplot:>"
      ]
     },
     "execution_count": 125,
     "metadata": {},
     "output_type": "execute_result"
    },
    {
     "data": {
      "image/png": "[encoded data removed]",
      "text/plain": [
       "<Figure size 432x288 with 1 Axes>"
      ]
     },
     "metadata": {
      "needs_background": "light"
     },
     "output_type": "display_data"
    }
   ],
   "source": [
    "sns.boxplot(data=hs_df_B)"
   ]
  },
  {
   "cell_type": "code",
   "execution_count": 126,
   "metadata": {},
   "outputs": [
    {
     "data": {
      "text/plain": [
       "<AxesSubplot:>"
      ]
     },
     "execution_count": 126,
     "metadata": {},
     "output_type": "execute_result"
    },
    {
     "data": {
      "image/png": "[encoded data removed]",
      "text/plain": [
       "<Figure size 432x288 with 1 Axes>"
      ]
     },
     "metadata": {
      "needs_background": "light"
     },
     "output_type": "display_data"
    }
   ],
   "source": [
    "sns.boxplot(data=hs_df_C)"
   ]
  },
  {
   "cell_type": "code",
   "execution_count": 127,
   "metadata": {},
   "outputs": [
    {
     "data": {
      "text/plain": [
       "<AxesSubplot:>"
      ]
     },
     "execution_count": 127,
     "metadata": {},
     "output_type": "execute_result"
    },
    {
     "data": {
      "image/png": "[encoded data removed]",
      "text/plain": [
       "<Figure size 432x288 with 1 Axes>"
      ]
     },
     "metadata": {
      "needs_background": "light"
     },
     "output_type": "display_data"
    }
   ],
   "source": [
    "sns.boxplot(data=hs_df_D)"
   ]
  },
  {
   "cell_type": "code",
   "execution_count": 129,
   "metadata": {},
   "outputs": [
    {
     "data": {
      "text/plain": [
       "<AxesSubplot:>"
      ]
     },
     "execution_count": 129,
     "metadata": {},
     "output_type": "execute_result"
    },
    {
     "data": {
      "image/png": "[encoded data removed]",
      "text/plain": [
       "<Figure size 432x288 with 1 Axes>"
      ]
     },
     "metadata": {
      "needs_background": "light"
     },
     "output_type": "display_data"
    }
   ],
   "source": [
    "sns.boxplot(data=hs_df_E)"
   ]
  },
  {
   "cell_type": "code",
   "execution_count": 130,
   "metadata": {},
   "outputs": [
    {
     "data": {
      "text/plain": [
       "<AxesSubplot:>"
      ]
     },
     "execution_count": 130,
     "metadata": {},
     "output_type": "execute_result"
    },
    {
     "data": {
      "image/png": "[encoded data removed]",
      "text/plain": [
       "<Figure size 432x288 with 1 Axes>"
      ]
     },
     "metadata": {
      "needs_background": "light"
     },
     "output_type": "display_data"
    }
   ],
   "source": [
    "sns.boxplot(data=hs_df_F)"
   ]
  },
  {
   "cell_type": "code",
   "execution_count": 138,
   "metadata": {},
   "outputs": [
    {
     "data": {
      "text/plain": [
       "<AxesSubplot:>"
      ]
     },
     "execution_count": 138,
     "metadata": {},
     "output_type": "execute_result"
    },
    {
     "data": {
      "image/png": "[encoded data removed]",
      "text/plain": [
       "<Figure size 432x288 with 1 Axes>"
      ]
     },
     "metadata": {
      "needs_background": "light"
     },
     "output_type": "display_data"
    }
   ],
   "source": [
    "sns.boxplot(data=hs_df_G)"
   ]
  },
  {
   "cell_type": "code",
   "execution_count": 139,
   "metadata": {},
   "outputs": [
    {
     "data": {
      "text/plain": [
       "<AxesSubplot:xlabel='bathrooms', ylabel='price'>"
      ]
     },
     "execution_count": 139,
     "metadata": {},
     "output_type": "execute_result"
    },
    {
     "data": {
      "image/png": "[encoded data removed]",
      "text/plain": [
       "<Figure size 432x288 with 1 Axes>"
      ]
     },
     "metadata": {
      "needs_background": "light"
     },
     "output_type": "display_data"
    }
   ],
   "source": [
    "sns.barplot(x=\"bathrooms\",y=\"price\",data=hs_df)"
   ]
  },
  {
   "cell_type": "code",
   "execution_count": 140,
   "metadata": {},
   "outputs": [],
   "source": [
    "from numpy import median"
   ]
  },
  {
   "cell_type": "code",
   "execution_count": 142,
   "metadata": {},
   "outputs": [
    {
     "data": {
      "text/plain": [
       "<AxesSubplot:xlabel='bathrooms', ylabel='price'>"
      ]
     },
     "execution_count": 142,
     "metadata": {},
     "output_type": "execute_result"
    },
    {
     "data": {
      "image/png": "[encoded data removed]",
      "text/plain": [
       "<Figure size 432x288 with 1 Axes>"
      ]
     },
     "metadata": {
      "needs_background": "light"
     },
     "output_type": "display_data"
    }
   ],
   "source": [
    "sns.barplot(x=\"bathrooms\",y=\"price\",data=hs_df, estimator=median, ci=68)"
   ]
  },
  {
   "cell_type": "code",
   "execution_count": 143,
   "metadata": {},
   "outputs": [
    {
     "data": {
      "text/plain": [
       "<AxesSubplot:xlabel='bathrooms', ylabel='price'>"
      ]
     },
     "execution_count": 143,
     "metadata": {},
     "output_type": "execute_result"
    },
    {
     "data": {
      "image/png": "[encoded data removed]",
      "text/plain": [
       "<Figure size 432x288 with 1 Axes>"
      ]
     },
     "metadata": {
      "needs_background": "light"
     },
     "output_type": "display_data"
    }
   ],
   "source": [
    "sns.barplot(x=\"bathrooms\",y=\"price\",data=hs_df, estimator=median, ci=\"sd\")"
   ]
  },
  {
   "cell_type": "code",
   "execution_count": 152,
   "metadata": {},
   "outputs": [
    {
     "data": {
      "text/plain": [
       "<seaborn.axisgrid.FacetGrid at 0x7fabc84223a0>"
      ]
     },
     "execution_count": 152,
     "metadata": {},
     "output_type": "execute_result"
    },
    {
     "data": {
      "image/png": "[encoded data removed]",
      "text/plain": [
       "<Figure size 360x360 with 1 Axes>"
      ]
     },
     "metadata": {
      "needs_background": "light"
     },
     "output_type": "display_data"
    }
   ],
   "source": [
    "sns.displot(hs_df.bathrooms, binwidth=1)"
   ]
  },
  {
   "cell_type": "code",
   "execution_count": null,
   "metadata": {},
   "outputs": [],
   "source": [
    "sns.displot(hs_df, x=\"bathrooms\", hue=\"price\")"
   ]
  },
  {
   "cell_type": "code",
   "execution_count": 14,
   "metadata": {},
   "outputs": [
    {
     "data": {
      "text/plain": [
       "<seaborn.axisgrid.FacetGrid at 0x7fe172d4ab80>"
      ]
     },
     "execution_count": 14,
     "metadata": {},
     "output_type": "execute_result"
    },
    {
     "data": {
      "image/png": "[encoded data removed]",
      "text/plain": [
       "<Figure size 360x360 with 1 Axes>"
      ]
     },
     "metadata": {
      "needs_background": "light"
     },
     "output_type": "display_data"
    }
   ],
   "source": [
    "sns.displot(hs_df, x=\"bathrooms\", hue=\"price\", element=\"step\",binwidth=1, legend=False)"
   ]
  },
  {
   "cell_type": "code",
   "execution_count": 11,
   "metadata": {},
   "outputs": [
    {
     "data": {
      "text/plain": [
       "<seaborn.axisgrid.FacetGrid at 0x7fe18506e850>"
      ]
     },
     "execution_count": 11,
     "metadata": {},
     "output_type": "execute_result"
    },
    {
     "data": {
      "image/png": "[encoded data removed]",
      "text/plain": [
       "<Figure size 360x360 with 1 Axes>"
      ]
     },
     "metadata": {
      "needs_background": "light"
     },
     "output_type": "display_data"
    }
   ],
   "source": [
    "sns.displot(hs_df, x=\"price\", kind=\"kde\")"
   ]
  },
  {
   "cell_type": "code",
   "execution_count": 10,
   "metadata": {},
   "outputs": [
    {
     "name": "stderr",
     "output_type": "stream",
     "text": [
      "/Users/mayelespino/opt/anaconda3/lib/python3.8/site-packages/seaborn/distributions.py:305: UserWarning: Dataset has 0 variance; skipping density estimate.\n",
      "  warnings.warn(msg, UserWarning)\n",
      "/Users/mayelespino/opt/anaconda3/lib/python3.8/site-packages/seaborn/distributions.py:305: UserWarning: Dataset has 0 variance; skipping density estimate.\n",
      "  warnings.warn(msg, UserWarning)\n",
      "/Users/mayelespino/opt/anaconda3/lib/python3.8/site-packages/seaborn/distributions.py:305: UserWarning: Dataset has 0 variance; skipping density estimate.\n",
      "  warnings.warn(msg, UserWarning)\n"
     ]
    },
    {
     "data": {
      "text/plain": [
       "<seaborn.axisgrid.FacetGrid at 0x7fe18506e550>"
      ]
     },
     "execution_count": 10,
     "metadata": {},
     "output_type": "execute_result"
    },
    {
     "data": {
      "image/png": "[encoded data removed]",
      "text/plain": [
       "<Figure size 421.375x360 with 1 Axes>"
      ]
     },
     "metadata": {
      "needs_background": "light"
     },
     "output_type": "display_data"
    }
   ],
   "source": [
    "sns.displot(hs_df, x=\"price\", hue=\"bathrooms\", kind=\"kde\")"
   ]
  },
  {
   "cell_type": "code",
   "execution_count": 42,
   "metadata": {},
   "outputs": [
    {
     "data": {
      "text/plain": [
       "<seaborn.axisgrid.FacetGrid at 0x7fe16ae65eb0>"
      ]
     },
     "execution_count": 42,
     "metadata": {},
     "output_type": "execute_result"
    },
    {
     "data": {
      "image/png": "[encoded data removed]",
      "text/plain": [
       "<Figure size 360x360 with 1 Axes>"
      ]
     },
     "metadata": {},
     "output_type": "display_data"
    }
   ],
   "source": [
    "sns.displot(hs_df, x=\"bathrooms\", y=\"price\", kind=\"kde\")"
   ]
  },
  {
   "cell_type": "code",
   "execution_count": 67,
   "metadata": {},
   "outputs": [
    {
     "data": {
      "text/plain": [
       "<seaborn.axisgrid.FacetGrid at 0x7fdf6a7d6a60>"
      ]
     },
     "execution_count": 67,
     "metadata": {},
     "output_type": "execute_result"
    },
    {
     "data": {
      "image/png": "[encoded data removed]",
      "text/plain": [
       "<Figure size 360x360 with 1 Axes>"
      ]
     },
     "metadata": {},
     "output_type": "display_data"
    }
   ],
   "source": [
    "sns.set(font_scale=2)\n",
    "sns.displot(hs_df, x=\"bathrooms\", y=\"price\", kind=\"kde\", height=5, levels=4)"
   ]
  },
  {
   "cell_type": "code",
   "execution_count": 83,
   "metadata": {},
   "outputs": [
    {
     "data": {
      "text/plain": [
       "<seaborn.axisgrid.FacetGrid at 0x7fdf6ad9d4f0>"
      ]
     },
     "execution_count": 83,
     "metadata": {},
     "output_type": "execute_result"
    },
    {
     "data": {
      "image/png": "[encoded data removed]",
      "text/plain": [
       "<Figure size 360x360 with 1 Axes>"
      ]
     },
     "metadata": {},
     "output_type": "display_data"
    }
   ],
   "source": [
    "sns.set(font_scale=2)\n",
    "sns.displot(hs_df, \n",
    "            x=\"grade\", \n",
    "            y=\"price\", \n",
    "            kind=\"kde\", \n",
    "            height=5, \n",
    "            levels=5)"
   ]
  },
  {
   "cell_type": "code",
   "execution_count": 84,
   "metadata": {},
   "outputs": [
    {
     "data": {
      "text/plain": [
       "<seaborn.axisgrid.FacetGrid at 0x7fdf6d1db5e0>"
      ]
     },
     "execution_count": 84,
     "metadata": {},
     "output_type": "execute_result"
    },
    {
     "data": {
      "image/png": "[encoded data removed]",
      "text/plain": [
       "<Figure size 360x360 with 1 Axes>"
      ]
     },
     "metadata": {},
     "output_type": "display_data"
    }
   ],
   "source": [
    "sns.set(font_scale=2)\n",
    "sns.displot(hs_df, \n",
    "            x=\"condition\", \n",
    "            y=\"price\", \n",
    "            kind=\"kde\", \n",
    "            height=5, \n",
    "            levels=5)"
   ]
  },
  {
   "cell_type": "code",
   "execution_count": 85,
   "metadata": {},
   "outputs": [
    {
     "data": {
      "text/plain": [
       "<seaborn.axisgrid.FacetGrid at 0x7fdf67fb4520>"
      ]
     },
     "execution_count": 85,
     "metadata": {},
     "output_type": "execute_result"
    },
    {
     "data": {
      "image/png": "[encoded data removed]",
      "text/plain": [
       "<Figure size 360x360 with 1 Axes>"
      ]
     },
     "metadata": {},
     "output_type": "display_data"
    }
   ],
   "source": [
    "sns.set(font_scale=2)\n",
    "sns.displot(hs_df, \n",
    "            x=\"waterfront\", \n",
    "            y=\"price\", \n",
    "            kind=\"kde\", \n",
    "            height=5, \n",
    "            levels=5)"
   ]
  },
  {
   "cell_type": "code",
   "execution_count": 86,
   "metadata": {},
   "outputs": [
    {
     "data": {
      "text/plain": [
       "<seaborn.axisgrid.FacetGrid at 0x7fdf67fb4a30>"
      ]
     },
     "execution_count": 86,
     "metadata": {},
     "output_type": "execute_result"
    },
    {
     "data": {
      "image/png": "[encoded data removed]",
      "text/plain": [
       "<Figure size 360x360 with 1 Axes>"
      ]
     },
     "metadata": {},
     "output_type": "display_data"
    }
   ],
   "source": [
    "sns.set(font_scale=2)\n",
    "sns.displot(hs_df, \n",
    "            x=\"yr_renovated\", \n",
    "            y=\"price\", \n",
    "            kind=\"kde\", \n",
    "            height=5, \n",
    "            levels=5)"
   ]
  },
  {
   "cell_type": "code",
   "execution_count": 87,
   "metadata": {},
   "outputs": [
    {
     "data": {
      "text/plain": [
       "<seaborn.axisgrid.FacetGrid at 0x7fdf6c6bab50>"
      ]
     },
     "execution_count": 87,
     "metadata": {},
     "output_type": "execute_result"
    },
    {
     "data": {
      "image/png": "[encoded data removed]",
      "text/plain": [
       "<Figure size 360x360 with 1 Axes>"
      ]
     },
     "metadata": {},
     "output_type": "display_data"
    }
   ],
   "source": [
    "sns.set(font_scale=2)\n",
    "sns.displot(hs_df, \n",
    "            x=\"sqft_lot15\", \n",
    "            y=\"price\", \n",
    "            kind=\"kde\", \n",
    "            height=5, \n",
    "            levels=5)"
   ]
  },
  {
   "cell_type": "code",
   "execution_count": 88,
   "metadata": {},
   "outputs": [
    {
     "data": {
      "text/plain": [
       "<seaborn.axisgrid.FacetGrid at 0x7fdf6b768dc0>"
      ]
     },
     "execution_count": 88,
     "metadata": {},
     "output_type": "execute_result"
    },
    {
     "data": {
      "image/png": "[encoded data removed]",
      "text/plain": [
       "<Figure size 360x360 with 1 Axes>"
      ]
     },
     "metadata": {},
     "output_type": "display_data"
    }
   ],
   "source": [
    "sns.set(font_scale=2)\n",
    "sns.displot(hs_df, \n",
    "            x=\"long\", \n",
    "            y=\"price\", \n",
    "            kind=\"kde\", \n",
    "            height=5, \n",
    "            levels=5)"
   ]
  },
  {
   "cell_type": "code",
   "execution_count": 89,
   "metadata": {},
   "outputs": [
    {
     "data": {
      "text/plain": [
       "<seaborn.axisgrid.FacetGrid at 0x7fdf67faeeb0>"
      ]
     },
     "execution_count": 89,
     "metadata": {},
     "output_type": "execute_result"
    },
    {
     "data": {
      "image/png": "[encoded data removed]",
      "text/plain": [
       "<Figure size 360x360 with 1 Axes>"
      ]
     },
     "metadata": {},
     "output_type": "display_data"
    }
   ],
   "source": [
    "sns.set(font_scale=2)\n",
    "sns.displot(hs_df, \n",
    "            x=\"bedrooms\", \n",
    "            y=\"price\", \n",
    "            kind=\"kde\", \n",
    "            height=5, \n",
    "            levels=5)"
   ]
  },
  {
   "cell_type": "code",
   "execution_count": 73,
   "metadata": {},
   "outputs": [
    {
     "name": "stderr",
     "output_type": "stream",
     "text": [
      "/Users/mayelespino/opt/anaconda3/lib/python3.8/site-packages/seaborn/distributions.py:1077: UserWarning: Dataset has 0 variance; skipping density estimate.\n",
      "  warnings.warn(msg, UserWarning)\n",
      "/Users/mayelespino/opt/anaconda3/lib/python3.8/site-packages/seaborn/distributions.py:1181: UserWarning: No contour levels were found within the data range.\n",
      "  cset = contour_func(\n",
      "/Users/mayelespino/opt/anaconda3/lib/python3.8/site-packages/seaborn/distributions.py:305: UserWarning: Dataset has 0 variance; skipping density estimate.\n",
      "  warnings.warn(msg, UserWarning)\n",
      "/Users/mayelespino/opt/anaconda3/lib/python3.8/site-packages/seaborn/distributions.py:305: UserWarning: Dataset has 0 variance; skipping density estimate.\n",
      "  warnings.warn(msg, UserWarning)\n"
     ]
    },
    {
     "data": {
      "text/plain": [
       "<seaborn.axisgrid.JointGrid at 0x7fdf6ac402e0>"
      ]
     },
     "execution_count": 73,
     "metadata": {},
     "output_type": "execute_result"
    },
    {
     "data": {
      "image/png": "[encoded data removed]",
      "text/plain": [
       "<Figure size 648x648 with 3 Axes>"
      ]
     },
     "metadata": {},
     "output_type": "display_data"
    }
   ],
   "source": [
    "sns.jointplot(\n",
    "    data=hs_df,\n",
    "    x=\"bathrooms\", y=\"price\", hue=\"grade\",\n",
    "    kind=\"kde\", \n",
    "    height=9, \n",
    "    levels=3\n",
    ")"
   ]
  },
  {
   "cell_type": "code",
   "execution_count": 19,
   "metadata": {},
   "outputs": [
    {
     "data": {
      "text/plain": [
       "<seaborn.axisgrid.FacetGrid at 0x7fe169aa2c70>"
      ]
     },
     "execution_count": 19,
     "metadata": {},
     "output_type": "execute_result"
    },
    {
     "data": {
      "image/png": "[encoded data removed]",
      "text/plain": [
       "<Figure size 360x360 with 1 Axes>"
      ]
     },
     "metadata": {
      "needs_background": "light"
     },
     "output_type": "display_data"
    }
   ],
   "source": [
    "sns.displot(hs_df, x=\"bathrooms\", y=\"price\", binwidth=(1, 1))"
   ]
  },
  {
   "cell_type": "code",
   "execution_count": 33,
   "metadata": {},
   "outputs": [
    {
     "data": {
      "text/plain": [
       "<seaborn.axisgrid.FacetGrid at 0x7fe175ab3f70>"
      ]
     },
     "execution_count": 33,
     "metadata": {},
     "output_type": "execute_result"
    },
    {
     "data": {
      "text/plain": [
       "<Figure size 1152x1152 with 0 Axes>"
      ]
     },
     "metadata": {},
     "output_type": "display_data"
    },
    {
     "data": {
      "image/png": "[encoded data removed]",
      "text/plain": [
       "<Figure size 360x360 with 1 Axes>"
      ]
     },
     "metadata": {
      "needs_background": "light"
     },
     "output_type": "display_data"
    }
   ],
   "source": [
    "plt.figure(figsize=(16,16))\n",
    "sns.displot(hs_df, x=\"bathrooms\", y=\"price\", kind=\"kde\", levels=4)"
   ]
  },
  {
   "cell_type": "code",
   "execution_count": 21,
   "metadata": {},
   "outputs": [
    {
     "data": {
      "text/plain": [
       "<seaborn.axisgrid.JointGrid at 0x7fe18a9e4670>"
      ]
     },
     "execution_count": 21,
     "metadata": {},
     "output_type": "execute_result"
    },
    {
     "data": {
      "image/png": "[encoded data removed]",
      "text/plain": [
       "<Figure size 432x432 with 3 Axes>"
      ]
     },
     "metadata": {
      "needs_background": "light"
     },
     "output_type": "display_data"
    }
   ],
   "source": [
    "sns.jointplot(data=hs_df, x=\"bathrooms\", y=\"price\")"
   ]
  },
  {
   "cell_type": "code",
   "execution_count": 23,
   "metadata": {},
   "outputs": [
    {
     "data": {
      "text/plain": [
       "<seaborn.axisgrid.PairGrid at 0x7fe16b3f21f0>"
      ]
     },
     "execution_count": 23,
     "metadata": {},
     "output_type": "execute_result"
    },
    {
     "data": {
      "image/png": "[encoded data removed]",
      "text/plain": [
       "<Figure size 540x540 with 12 Axes>"
      ]
     },
     "metadata": {
      "needs_background": "light"
     },
     "output_type": "display_data"
    }
   ],
   "source": [
    "g = sns.PairGrid(hs_df_F)\n",
    "g.map_upper(sns.histplot)\n",
    "g.map_lower(sns.kdeplot,fill=True)\n",
    "g.map_diag(sns.histplot, kde=True)"
   ]
  },
  {
   "cell_type": "code",
   "execution_count": 24,
   "metadata": {},
   "outputs": [
    {
     "data": {
      "image/png": "[encoded data removed]",
      "text/plain": [
       "<Figure size 432x288 with 1 Axes>"
      ]
     },
     "metadata": {
      "needs_background": "light"
     },
     "output_type": "display_data"
    }
   ],
   "source": [
    "sns.regplot(x=\"bathrooms\", y=\"price\", data=hs_df)"
   ]
  },
  {
   "cell_type": "code",
   "execution_count": 29,
   "metadata": {},
   "outputs": [
    {
     "data": {
      "text/plain": [
       "<seaborn.axisgrid.PairGrid at 0x7fe1751d4d00>"
      ]
     },
     "execution_count": 29,
     "metadata": {},
     "output_type": "execute_result"
    },
    {
     "data": {
      "image/png": "[encoded data removed]",
      "text/plain": [
       "<Figure size 360x360 with 6 Axes>"
      ]
     },
     "metadata": {
      "needs_background": "light"
     },
     "output_type": "display_data"
    }
   ],
   "source": [
    "g = sns.PairGrid(hs_df_G)\n",
    "g.map_upper(sns.histplot)\n",
    "g.map_lower(sns.kdeplot,fill=True)\n",
    "g.map_diag(sns.histplot, kde=True)"
   ]
  },
  {
   "cell_type": "code",
   "execution_count": null,
   "metadata": {},
   "outputs": [],
   "source": []
  }
 ],
 "metadata": {
  "kernelspec": {
   "display_name": "Python 3",
   "language": "python",
   "name": "python3"
  },
  "language_info": {
   "codemirror_mode": {
    "name": "ipython",
    "version": 3
   },
   "file_extension": ".py",
   "mimetype": "text/x-python",
   "name": "python",
   "nbconvert_exporter": "python",
   "pygments_lexer": "ipython3",
   "version": "3.8.5"
  }
 },
 "nbformat": 4,
 "nbformat_minor": 4
}
