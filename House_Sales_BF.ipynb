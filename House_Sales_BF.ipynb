{
 "metadata": {
  "language_info": {
   "codemirror_mode": {
    "name": "ipython",
    "version": 3
   },
   "file_extension": ".py",
   "mimetype": "text/x-python",
   "name": "python",
   "nbconvert_exporter": "python",
   "pygments_lexer": "ipython3",
   "version": "3.7.3-final"
  },
  "orig_nbformat": 2,
  "kernelspec": {
   "name": "python373jvsc74a57bd05d27e80caa21e450c5af466e4c29c0278978c394c021d5d219ed5b9517b6df42",
   "display_name": "Python 3.7.3 64-bit (conda)"
  }
 },
 "nbformat": 4,
 "nbformat_minor": 2,
 "cells": [
  {
   "cell_type": "code",
   "execution_count": 188,
   "metadata": {},
   "outputs": [],
   "source": [
    "# Dependencies\n",
    "import numpy as np\n",
    "import pandas as pd\n",
    "import geopandas as geopd \n",
    "import seaborn as sns\n",
    "import matplotlib as mpl \n",
    "import matplotlib.pyplot as plt "
   ]
  },
  {
   "cell_type": "code",
   "execution_count": 189,
   "metadata": {},
   "outputs": [
    {
     "output_type": "execute_result",
     "data": {
      "text/plain": [
       "           id             date      price  bedrooms  bathrooms  sqft_living  \\\n",
       "0  7129300520  20141013T000000   221900.0       3.0       1.00       1180.0   \n",
       "1  6414100192  20141209T000000   538000.0       3.0       2.25       2570.0   \n",
       "2  5631500400  20150225T000000   180000.0       2.0       1.00        770.0   \n",
       "3  2487200875  20141209T000000   604000.0       4.0       3.00       1960.0   \n",
       "4  1954400510  20150218T000000   510000.0       3.0       2.00       1680.0   \n",
       "5  7237550310  20140512T000000  1225000.0       4.0       4.50       5420.0   \n",
       "6  1321400060  20140627T000000   257500.0       3.0       2.25       1715.0   \n",
       "7  2008000270  20150115T000000   291850.0       3.0       1.50       1060.0   \n",
       "8  2414600126  20150415T000000   229500.0       3.0       1.00       1780.0   \n",
       "9  3793500160  20150312T000000   323000.0       3.0       2.50       1890.0   \n",
       "\n",
       "   sqft_lot  floors  waterfront  view  ...  grade  sqft_above  sqft_basement  \\\n",
       "0    5650.0     1.0           0     0  ...      7        1180              0   \n",
       "1    7242.0     2.0           0     0  ...      7        2170            400   \n",
       "2   10000.0     1.0           0     0  ...      6         770              0   \n",
       "3    5000.0     1.0           0     0  ...      7        1050            910   \n",
       "4    8080.0     1.0           0     0  ...      8        1680              0   \n",
       "5  101930.0     1.0           0     0  ...     11        3890           1530   \n",
       "6    6819.0     2.0           0     0  ...      7        1715              0   \n",
       "7    9711.0     1.0           0     0  ...      7        1060              0   \n",
       "8    7470.0     1.0           0     0  ...      7        1050            730   \n",
       "9    6560.0     2.0           0     0  ...      7        1890              0   \n",
       "\n",
       "   yr_built  yr_renovated  zipcode      lat     long  sqft_living15  \\\n",
       "0      1955             0    98178  47.5112 -122.257           1340   \n",
       "1      1951          1991    98125  47.7210 -122.319           1690   \n",
       "2      1933             0    98028  47.7379 -122.233           2720   \n",
       "3      1965             0    98136  47.5208 -122.393           1360   \n",
       "4      1987             0    98074  47.6168 -122.045           1800   \n",
       "5      2001             0    98053  47.6561 -122.005           4760   \n",
       "6      1995             0    98003  47.3097 -122.327           2238   \n",
       "7      1963             0    98198  47.4095 -122.315           1650   \n",
       "8      1960             0    98146  47.5123 -122.337           1780   \n",
       "9      2003             0    98038  47.3684 -122.031           2390   \n",
       "\n",
       "   sqft_lot15  \n",
       "0        5650  \n",
       "1        7639  \n",
       "2        8062  \n",
       "3        5000  \n",
       "4        7503  \n",
       "5      101930  \n",
       "6        6819  \n",
       "7        9711  \n",
       "8        8113  \n",
       "9        7570  \n",
       "\n",
       "[10 rows x 21 columns]"
      ],
      "text/html": "<div>\n<style scoped>\n    .dataframe tbody tr th:only-of-type {\n        vertical-align: middle;\n    }\n\n    .dataframe tbody tr th {\n        vertical-align: top;\n    }\n\n    .dataframe thead th {\n        text-align: right;\n    }\n</style>\n<table border=\"1\" class=\"dataframe\">\n  <thead>\n    <tr style=\"text-align: right;\">\n      <th></th>\n      <th>id</th>\n      <th>date</th>\n      <th>price</th>\n      <th>bedrooms</th>\n      <th>bathrooms</th>\n      <th>sqft_living</th>\n      <th>sqft_lot</th>\n      <th>floors</th>\n      <th>waterfront</th>\n      <th>view</th>\n      <th>...</th>\n      <th>grade</th>\n      <th>sqft_above</th>\n      <th>sqft_basement</th>\n      <th>yr_built</th>\n      <th>yr_renovated</th>\n      <th>zipcode</th>\n      <th>lat</th>\n      <th>long</th>\n      <th>sqft_living15</th>\n      <th>sqft_lot15</th>\n    </tr>\n  </thead>\n  <tbody>\n    <tr>\n      <th>0</th>\n      <td>7129300520</td>\n      <td>20141013T000000</td>\n      <td>221900.0</td>\n      <td>3.0</td>\n      <td>1.00</td>\n      <td>1180.0</td>\n      <td>5650.0</td>\n      <td>1.0</td>\n      <td>0</td>\n      <td>0</td>\n      <td>...</td>\n      <td>7</td>\n      <td>1180</td>\n      <td>0</td>\n      <td>1955</td>\n      <td>0</td>\n      <td>98178</td>\n      <td>47.5112</td>\n      <td>-122.257</td>\n      <td>1340</td>\n      <td>5650</td>\n    </tr>\n    <tr>\n      <th>1</th>\n      <td>6414100192</td>\n      <td>20141209T000000</td>\n      <td>538000.0</td>\n      <td>3.0</td>\n      <td>2.25</td>\n      <td>2570.0</td>\n      <td>7242.0</td>\n      <td>2.0</td>\n      <td>0</td>\n      <td>0</td>\n      <td>...</td>\n      <td>7</td>\n      <td>2170</td>\n      <td>400</td>\n      <td>1951</td>\n      <td>1991</td>\n      <td>98125</td>\n      <td>47.7210</td>\n      <td>-122.319</td>\n      <td>1690</td>\n      <td>7639</td>\n    </tr>\n    <tr>\n      <th>2</th>\n      <td>5631500400</td>\n      <td>20150225T000000</td>\n      <td>180000.0</td>\n      <td>2.0</td>\n      <td>1.00</td>\n      <td>770.0</td>\n      <td>10000.0</td>\n      <td>1.0</td>\n      <td>0</td>\n      <td>0</td>\n      <td>...</td>\n      <td>6</td>\n      <td>770</td>\n      <td>0</td>\n      <td>1933</td>\n      <td>0</td>\n      <td>98028</td>\n      <td>47.7379</td>\n      <td>-122.233</td>\n      <td>2720</td>\n      <td>8062</td>\n    </tr>\n    <tr>\n      <th>3</th>\n      <td>2487200875</td>\n      <td>20141209T000000</td>\n      <td>604000.0</td>\n      <td>4.0</td>\n      <td>3.00</td>\n      <td>1960.0</td>\n      <td>5000.0</td>\n      <td>1.0</td>\n      <td>0</td>\n      <td>0</td>\n      <td>...</td>\n      <td>7</td>\n      <td>1050</td>\n      <td>910</td>\n      <td>1965</td>\n      <td>0</td>\n      <td>98136</td>\n      <td>47.5208</td>\n      <td>-122.393</td>\n      <td>1360</td>\n      <td>5000</td>\n    </tr>\n    <tr>\n      <th>4</th>\n      <td>1954400510</td>\n      <td>20150218T000000</td>\n      <td>510000.0</td>\n      <td>3.0</td>\n      <td>2.00</td>\n      <td>1680.0</td>\n      <td>8080.0</td>\n      <td>1.0</td>\n      <td>0</td>\n      <td>0</td>\n      <td>...</td>\n      <td>8</td>\n      <td>1680</td>\n      <td>0</td>\n      <td>1987</td>\n      <td>0</td>\n      <td>98074</td>\n      <td>47.6168</td>\n      <td>-122.045</td>\n      <td>1800</td>\n      <td>7503</td>\n    </tr>\n    <tr>\n      <th>5</th>\n      <td>7237550310</td>\n      <td>20140512T000000</td>\n      <td>1225000.0</td>\n      <td>4.0</td>\n      <td>4.50</td>\n      <td>5420.0</td>\n      <td>101930.0</td>\n      <td>1.0</td>\n      <td>0</td>\n      <td>0</td>\n      <td>...</td>\n      <td>11</td>\n      <td>3890</td>\n      <td>1530</td>\n      <td>2001</td>\n      <td>0</td>\n      <td>98053</td>\n      <td>47.6561</td>\n      <td>-122.005</td>\n      <td>4760</td>\n      <td>101930</td>\n    </tr>\n    <tr>\n      <th>6</th>\n      <td>1321400060</td>\n      <td>20140627T000000</td>\n      <td>257500.0</td>\n      <td>3.0</td>\n      <td>2.25</td>\n      <td>1715.0</td>\n      <td>6819.0</td>\n      <td>2.0</td>\n      <td>0</td>\n      <td>0</td>\n      <td>...</td>\n      <td>7</td>\n      <td>1715</td>\n      <td>0</td>\n      <td>1995</td>\n      <td>0</td>\n      <td>98003</td>\n      <td>47.3097</td>\n      <td>-122.327</td>\n      <td>2238</td>\n      <td>6819</td>\n    </tr>\n    <tr>\n      <th>7</th>\n      <td>2008000270</td>\n      <td>20150115T000000</td>\n      <td>291850.0</td>\n      <td>3.0</td>\n      <td>1.50</td>\n      <td>1060.0</td>\n      <td>9711.0</td>\n      <td>1.0</td>\n      <td>0</td>\n      <td>0</td>\n      <td>...</td>\n      <td>7</td>\n      <td>1060</td>\n      <td>0</td>\n      <td>1963</td>\n      <td>0</td>\n      <td>98198</td>\n      <td>47.4095</td>\n      <td>-122.315</td>\n      <td>1650</td>\n      <td>9711</td>\n    </tr>\n    <tr>\n      <th>8</th>\n      <td>2414600126</td>\n      <td>20150415T000000</td>\n      <td>229500.0</td>\n      <td>3.0</td>\n      <td>1.00</td>\n      <td>1780.0</td>\n      <td>7470.0</td>\n      <td>1.0</td>\n      <td>0</td>\n      <td>0</td>\n      <td>...</td>\n      <td>7</td>\n      <td>1050</td>\n      <td>730</td>\n      <td>1960</td>\n      <td>0</td>\n      <td>98146</td>\n      <td>47.5123</td>\n      <td>-122.337</td>\n      <td>1780</td>\n      <td>8113</td>\n    </tr>\n    <tr>\n      <th>9</th>\n      <td>3793500160</td>\n      <td>20150312T000000</td>\n      <td>323000.0</td>\n      <td>3.0</td>\n      <td>2.50</td>\n      <td>1890.0</td>\n      <td>6560.0</td>\n      <td>2.0</td>\n      <td>0</td>\n      <td>0</td>\n      <td>...</td>\n      <td>7</td>\n      <td>1890</td>\n      <td>0</td>\n      <td>2003</td>\n      <td>0</td>\n      <td>98038</td>\n      <td>47.3684</td>\n      <td>-122.031</td>\n      <td>2390</td>\n      <td>7570</td>\n    </tr>\n  </tbody>\n</table>\n<p>10 rows × 21 columns</p>\n</div>"
     },
     "metadata": {},
     "execution_count": 189
    }
   ],
   "source": [
    "''' Import housing sales dataset '''\n",
    "house_df = pd.read_csv('./data/Original/house_sales.csv')\n",
    "house_df.head(10)"
   ]
  },
  {
   "cell_type": "code",
   "execution_count": 190,
   "metadata": {},
   "outputs": [
    {
     "output_type": "execute_result",
     "data": {
      "text/plain": [
       "0    20141013T000000\n",
       "1    20141209T000000\n",
       "2    20150225T000000\n",
       "3    20141209T000000\n",
       "4    20150218T000000\n",
       "Name: date, dtype: object"
      ]
     },
     "metadata": {},
     "execution_count": 190
    }
   ],
   "source": [
    "''' Create new dataframe to preserve original dataset and assign to new variable '''\n",
    "house_datesClean = house_df      \n",
    "dates = house_datesClean[\"date\"]\n",
    "dates.head()"
   ]
  },
  {
   "cell_type": "code",
   "execution_count": 191,
   "metadata": {},
   "outputs": [
    {
     "output_type": "execute_result",
     "data": {
      "text/plain": [
       "0    20141013\n",
       "1    20141209\n",
       "2    20150225\n",
       "3    20141209\n",
       "4    20150218\n",
       "Name: date, dtype: object"
      ]
     },
     "metadata": {},
     "execution_count": 191
    }
   ],
   "source": [
    "''' Strip 'T000000' from date column and insert into housing sales dataframe '''\n",
    "house_datesClean['date'] = pd.Series([date.strip('T000000') for date in dates], index=house_datesClean.index)\n",
    "house_datesClean['date'].head()"
   ]
  },
  {
   "cell_type": "code",
   "execution_count": 193,
   "metadata": {},
   "outputs": [
    {
     "output_type": "execute_result",
     "data": {
      "text/plain": [
       "0         5650.0\n",
       "1         7242.0\n",
       "2        10000.0\n",
       "3         5000.0\n",
       "4         8080.0\n",
       "          ...   \n",
       "21608     1131.0\n",
       "21609     5813.0\n",
       "21610     1350.0\n",
       "21611     2388.0\n",
       "21612     1076.0\n",
       "Name: sqft_lot, Length: 21613, dtype: float64"
      ]
     },
     "metadata": {},
     "execution_count": 193
    }
   ],
   "source": [
    "''' Replace missing values with mean lot size per zipcode. '''\n",
    "house_datesClean['sqft_lot'] = house_datesClean['sqft_lot'].fillna(house_datesClean\n",
    "                                                           .groupby('zipcode')['sqft_lot15'].transform('mean'))\n",
    "house_datesClean['sqft_lot']"
   ]
  },
  {
   "cell_type": "code",
   "execution_count": 194,
   "metadata": {},
   "outputs": [
    {
     "output_type": "execute_result",
     "data": {
      "text/plain": [
       "           id      date     price  bedrooms  bathrooms  sqft_living  sqft_lot  \\\n",
       "0  7129300520  20141013  221900.0       3.0       1.00       1180.0    5650.0   \n",
       "1  6414100192  20141209  538000.0       3.0       2.25       2570.0    7242.0   \n",
       "2  5631500400  20150225  180000.0       2.0       1.00        770.0   10000.0   \n",
       "3  2487200875  20141209  604000.0       4.0       3.00       1960.0    5000.0   \n",
       "4  1954400510  20150218  510000.0       3.0       2.00       1680.0    8080.0   \n",
       "\n",
       "   floors  waterfront  view  ...  grade  sqft_above  sqft_basement  yr_built  \\\n",
       "0     1.0           0     0  ...      7        1180              0      1955   \n",
       "1     2.0           0     0  ...      7        2170            400      1951   \n",
       "2     1.0           0     0  ...      6         770              0      1933   \n",
       "3     1.0           0     0  ...      7        1050            910      1965   \n",
       "4     1.0           0     0  ...      8        1680              0      1987   \n",
       "\n",
       "   yr_renovated  zipcode      lat     long  sqft_living15  sqft_lot15  \n",
       "0             0    98178  47.5112 -122.257           1340        5650  \n",
       "1          1991    98125  47.7210 -122.319           1690        7639  \n",
       "2             0    98028  47.7379 -122.233           2720        8062  \n",
       "3             0    98136  47.5208 -122.393           1360        5000  \n",
       "4             0    98074  47.6168 -122.045           1800        7503  \n",
       "\n",
       "[5 rows x 21 columns]"
      ],
      "text/html": "<div>\n<style scoped>\n    .dataframe tbody tr th:only-of-type {\n        vertical-align: middle;\n    }\n\n    .dataframe tbody tr th {\n        vertical-align: top;\n    }\n\n    .dataframe thead th {\n        text-align: right;\n    }\n</style>\n<table border=\"1\" class=\"dataframe\">\n  <thead>\n    <tr style=\"text-align: right;\">\n      <th></th>\n      <th>id</th>\n      <th>date</th>\n      <th>price</th>\n      <th>bedrooms</th>\n      <th>bathrooms</th>\n      <th>sqft_living</th>\n      <th>sqft_lot</th>\n      <th>floors</th>\n      <th>waterfront</th>\n      <th>view</th>\n      <th>...</th>\n      <th>grade</th>\n      <th>sqft_above</th>\n      <th>sqft_basement</th>\n      <th>yr_built</th>\n      <th>yr_renovated</th>\n      <th>zipcode</th>\n      <th>lat</th>\n      <th>long</th>\n      <th>sqft_living15</th>\n      <th>sqft_lot15</th>\n    </tr>\n  </thead>\n  <tbody>\n    <tr>\n      <th>0</th>\n      <td>7129300520</td>\n      <td>20141013</td>\n      <td>221900.0</td>\n      <td>3.0</td>\n      <td>1.00</td>\n      <td>1180.0</td>\n      <td>5650.0</td>\n      <td>1.0</td>\n      <td>0</td>\n      <td>0</td>\n      <td>...</td>\n      <td>7</td>\n      <td>1180</td>\n      <td>0</td>\n      <td>1955</td>\n      <td>0</td>\n      <td>98178</td>\n      <td>47.5112</td>\n      <td>-122.257</td>\n      <td>1340</td>\n      <td>5650</td>\n    </tr>\n    <tr>\n      <th>1</th>\n      <td>6414100192</td>\n      <td>20141209</td>\n      <td>538000.0</td>\n      <td>3.0</td>\n      <td>2.25</td>\n      <td>2570.0</td>\n      <td>7242.0</td>\n      <td>2.0</td>\n      <td>0</td>\n      <td>0</td>\n      <td>...</td>\n      <td>7</td>\n      <td>2170</td>\n      <td>400</td>\n      <td>1951</td>\n      <td>1991</td>\n      <td>98125</td>\n      <td>47.7210</td>\n      <td>-122.319</td>\n      <td>1690</td>\n      <td>7639</td>\n    </tr>\n    <tr>\n      <th>2</th>\n      <td>5631500400</td>\n      <td>20150225</td>\n      <td>180000.0</td>\n      <td>2.0</td>\n      <td>1.00</td>\n      <td>770.0</td>\n      <td>10000.0</td>\n      <td>1.0</td>\n      <td>0</td>\n      <td>0</td>\n      <td>...</td>\n      <td>6</td>\n      <td>770</td>\n      <td>0</td>\n      <td>1933</td>\n      <td>0</td>\n      <td>98028</td>\n      <td>47.7379</td>\n      <td>-122.233</td>\n      <td>2720</td>\n      <td>8062</td>\n    </tr>\n    <tr>\n      <th>3</th>\n      <td>2487200875</td>\n      <td>20141209</td>\n      <td>604000.0</td>\n      <td>4.0</td>\n      <td>3.00</td>\n      <td>1960.0</td>\n      <td>5000.0</td>\n      <td>1.0</td>\n      <td>0</td>\n      <td>0</td>\n      <td>...</td>\n      <td>7</td>\n      <td>1050</td>\n      <td>910</td>\n      <td>1965</td>\n      <td>0</td>\n      <td>98136</td>\n      <td>47.5208</td>\n      <td>-122.393</td>\n      <td>1360</td>\n      <td>5000</td>\n    </tr>\n    <tr>\n      <th>4</th>\n      <td>1954400510</td>\n      <td>20150218</td>\n      <td>510000.0</td>\n      <td>3.0</td>\n      <td>2.00</td>\n      <td>1680.0</td>\n      <td>8080.0</td>\n      <td>1.0</td>\n      <td>0</td>\n      <td>0</td>\n      <td>...</td>\n      <td>8</td>\n      <td>1680</td>\n      <td>0</td>\n      <td>1987</td>\n      <td>0</td>\n      <td>98074</td>\n      <td>47.6168</td>\n      <td>-122.045</td>\n      <td>1800</td>\n      <td>7503</td>\n    </tr>\n  </tbody>\n</table>\n<p>5 rows × 21 columns</p>\n</div>"
     },
     "metadata": {},
     "execution_count": 194
    }
   ],
   "source": [
    "''' Display head of cleaned dataframe and save to csv '''\n",
    "houseCleanDF = house_datesClean\n",
    "houseCleanDF.to_csv('./data/Modified/houseClean.csv')\n",
    "houseCleanDF.head()"
   ]
  },
  {
   "cell_type": "code",
   "execution_count": 195,
   "metadata": {},
   "outputs": [
    {
     "output_type": "stream",
     "name": "stdout",
     "text": [
      "<class 'pandas.core.frame.DataFrame'>\nRangeIndex: 21613 entries, 0 to 21612\nData columns (total 21 columns):\n #   Column         Non-Null Count  Dtype  \n---  ------         --------------  -----  \n 0   id             21613 non-null  int64  \n 1   date           21613 non-null  object \n 2   price          21613 non-null  float64\n 3   bedrooms       20479 non-null  float64\n 4   bathrooms      20545 non-null  float64\n 5   sqft_living    20503 non-null  float64\n 6   sqft_lot       21613 non-null  float64\n 7   floors         21613 non-null  float64\n 8   waterfront     21613 non-null  int64  \n 9   view           21613 non-null  int64  \n 10  condition      21613 non-null  int64  \n 11  grade          21613 non-null  int64  \n 12  sqft_above     21613 non-null  int64  \n 13  sqft_basement  21613 non-null  int64  \n 14  yr_built       21613 non-null  int64  \n 15  yr_renovated   21613 non-null  int64  \n 16  zipcode        21613 non-null  int64  \n 17  lat            21613 non-null  float64\n 18  long           21613 non-null  float64\n 19  sqft_living15  21613 non-null  int64  \n 20  sqft_lot15     21613 non-null  int64  \ndtypes: float64(8), int64(12), object(1)\nmemory usage: 3.5+ MB\n"
     ]
    }
   ],
   "source": [
    "houseCleanDF.info()"
   ]
  },
  {
   "cell_type": "code",
   "execution_count": 196,
   "metadata": {},
   "outputs": [
    {
     "output_type": "execute_result",
     "data": {
      "text/plain": [
       "           id        date     price  bedrooms  bathrooms  sqft_living  \\\n",
       "0  7129300520  2014-10-13  221900.0       3.0       1.00       1180.0   \n",
       "1  6414100192  2014-12-09  538000.0       3.0       2.25       2570.0   \n",
       "2  5631500400  2015-02-25  180000.0       2.0       1.00        770.0   \n",
       "3  2487200875  2014-12-09  604000.0       4.0       3.00       1960.0   \n",
       "4  1954400510  2015-02-18  510000.0       3.0       2.00       1680.0   \n",
       "\n",
       "   sqft_lot  floors  waterfront  view  ...  grade  sqft_above  sqft_basement  \\\n",
       "0    5650.0     1.0           0     0  ...      7        1180              0   \n",
       "1    7242.0     2.0           0     0  ...      7        2170            400   \n",
       "2   10000.0     1.0           0     0  ...      6         770              0   \n",
       "3    5000.0     1.0           0     0  ...      7        1050            910   \n",
       "4    8080.0     1.0           0     0  ...      8        1680              0   \n",
       "\n",
       "   yr_built  yr_renovated  zipcode      lat     long  sqft_living15  \\\n",
       "0      1955             0    98178  47.5112 -122.257           1340   \n",
       "1      1951          1991    98125  47.7210 -122.319           1690   \n",
       "2      1933             0    98028  47.7379 -122.233           2720   \n",
       "3      1965             0    98136  47.5208 -122.393           1360   \n",
       "4      1987             0    98074  47.6168 -122.045           1800   \n",
       "\n",
       "   sqft_lot15  \n",
       "0        5650  \n",
       "1        7639  \n",
       "2        8062  \n",
       "3        5000  \n",
       "4        7503  \n",
       "\n",
       "[5 rows x 21 columns]"
      ],
      "text/html": "<div>\n<style scoped>\n    .dataframe tbody tr th:only-of-type {\n        vertical-align: middle;\n    }\n\n    .dataframe tbody tr th {\n        vertical-align: top;\n    }\n\n    .dataframe thead th {\n        text-align: right;\n    }\n</style>\n<table border=\"1\" class=\"dataframe\">\n  <thead>\n    <tr style=\"text-align: right;\">\n      <th></th>\n      <th>id</th>\n      <th>date</th>\n      <th>price</th>\n      <th>bedrooms</th>\n      <th>bathrooms</th>\n      <th>sqft_living</th>\n      <th>sqft_lot</th>\n      <th>floors</th>\n      <th>waterfront</th>\n      <th>view</th>\n      <th>...</th>\n      <th>grade</th>\n      <th>sqft_above</th>\n      <th>sqft_basement</th>\n      <th>yr_built</th>\n      <th>yr_renovated</th>\n      <th>zipcode</th>\n      <th>lat</th>\n      <th>long</th>\n      <th>sqft_living15</th>\n      <th>sqft_lot15</th>\n    </tr>\n  </thead>\n  <tbody>\n    <tr>\n      <th>0</th>\n      <td>7129300520</td>\n      <td>2014-10-13</td>\n      <td>221900.0</td>\n      <td>3.0</td>\n      <td>1.00</td>\n      <td>1180.0</td>\n      <td>5650.0</td>\n      <td>1.0</td>\n      <td>0</td>\n      <td>0</td>\n      <td>...</td>\n      <td>7</td>\n      <td>1180</td>\n      <td>0</td>\n      <td>1955</td>\n      <td>0</td>\n      <td>98178</td>\n      <td>47.5112</td>\n      <td>-122.257</td>\n      <td>1340</td>\n      <td>5650</td>\n    </tr>\n    <tr>\n      <th>1</th>\n      <td>6414100192</td>\n      <td>2014-12-09</td>\n      <td>538000.0</td>\n      <td>3.0</td>\n      <td>2.25</td>\n      <td>2570.0</td>\n      <td>7242.0</td>\n      <td>2.0</td>\n      <td>0</td>\n      <td>0</td>\n      <td>...</td>\n      <td>7</td>\n      <td>2170</td>\n      <td>400</td>\n      <td>1951</td>\n      <td>1991</td>\n      <td>98125</td>\n      <td>47.7210</td>\n      <td>-122.319</td>\n      <td>1690</td>\n      <td>7639</td>\n    </tr>\n    <tr>\n      <th>2</th>\n      <td>5631500400</td>\n      <td>2015-02-25</td>\n      <td>180000.0</td>\n      <td>2.0</td>\n      <td>1.00</td>\n      <td>770.0</td>\n      <td>10000.0</td>\n      <td>1.0</td>\n      <td>0</td>\n      <td>0</td>\n      <td>...</td>\n      <td>6</td>\n      <td>770</td>\n      <td>0</td>\n      <td>1933</td>\n      <td>0</td>\n      <td>98028</td>\n      <td>47.7379</td>\n      <td>-122.233</td>\n      <td>2720</td>\n      <td>8062</td>\n    </tr>\n    <tr>\n      <th>3</th>\n      <td>2487200875</td>\n      <td>2014-12-09</td>\n      <td>604000.0</td>\n      <td>4.0</td>\n      <td>3.00</td>\n      <td>1960.0</td>\n      <td>5000.0</td>\n      <td>1.0</td>\n      <td>0</td>\n      <td>0</td>\n      <td>...</td>\n      <td>7</td>\n      <td>1050</td>\n      <td>910</td>\n      <td>1965</td>\n      <td>0</td>\n      <td>98136</td>\n      <td>47.5208</td>\n      <td>-122.393</td>\n      <td>1360</td>\n      <td>5000</td>\n    </tr>\n    <tr>\n      <th>4</th>\n      <td>1954400510</td>\n      <td>2015-02-18</td>\n      <td>510000.0</td>\n      <td>3.0</td>\n      <td>2.00</td>\n      <td>1680.0</td>\n      <td>8080.0</td>\n      <td>1.0</td>\n      <td>0</td>\n      <td>0</td>\n      <td>...</td>\n      <td>8</td>\n      <td>1680</td>\n      <td>0</td>\n      <td>1987</td>\n      <td>0</td>\n      <td>98074</td>\n      <td>47.6168</td>\n      <td>-122.045</td>\n      <td>1800</td>\n      <td>7503</td>\n    </tr>\n  </tbody>\n</table>\n<p>5 rows × 21 columns</p>\n</div>"
     },
     "metadata": {},
     "execution_count": 196
    }
   ],
   "source": [
    "''' Convert date column datatype from string to datetime and save to csv '''\n",
    "import datetime as dt\n",
    "houseCleanDF[['date']] = houseCleanDF[['date']].applymap(str).applymap(lambda s: '{}-{}-{}'.format(s[0:4],s[4:6],s[6:]))\n",
    "houseCleanDF.to_csv('./data/Modified/houseClean_dates.csv')\n",
    "houseCleanDF.head()"
   ]
  },
  {
   "cell_type": "code",
   "execution_count": 197,
   "metadata": {},
   "outputs": [
    {
     "output_type": "execute_result",
     "data": {
      "text/plain": [
       "         date     price  sqft_lot  zipcode\n",
       "0  2014-10-13  221900.0    5650.0    98178\n",
       "1  2014-12-09  538000.0    7242.0    98125\n",
       "2  2015-02-25  180000.0   10000.0    98028\n",
       "3  2014-12-09  604000.0    5000.0    98136\n",
       "4  2015-02-18  510000.0    8080.0    98074"
      ],
      "text/html": "<div>\n<style scoped>\n    .dataframe tbody tr th:only-of-type {\n        vertical-align: middle;\n    }\n\n    .dataframe tbody tr th {\n        vertical-align: top;\n    }\n\n    .dataframe thead th {\n        text-align: right;\n    }\n</style>\n<table border=\"1\" class=\"dataframe\">\n  <thead>\n    <tr style=\"text-align: right;\">\n      <th></th>\n      <th>date</th>\n      <th>price</th>\n      <th>sqft_lot</th>\n      <th>zipcode</th>\n    </tr>\n  </thead>\n  <tbody>\n    <tr>\n      <th>0</th>\n      <td>2014-10-13</td>\n      <td>221900.0</td>\n      <td>5650.0</td>\n      <td>98178</td>\n    </tr>\n    <tr>\n      <th>1</th>\n      <td>2014-12-09</td>\n      <td>538000.0</td>\n      <td>7242.0</td>\n      <td>98125</td>\n    </tr>\n    <tr>\n      <th>2</th>\n      <td>2015-02-25</td>\n      <td>180000.0</td>\n      <td>10000.0</td>\n      <td>98028</td>\n    </tr>\n    <tr>\n      <th>3</th>\n      <td>2014-12-09</td>\n      <td>604000.0</td>\n      <td>5000.0</td>\n      <td>98136</td>\n    </tr>\n    <tr>\n      <th>4</th>\n      <td>2015-02-18</td>\n      <td>510000.0</td>\n      <td>8080.0</td>\n      <td>98074</td>\n    </tr>\n  </tbody>\n</table>\n</div>"
     },
     "metadata": {},
     "execution_count": 197
    }
   ],
   "source": [
    "''' Subset of house_datesClean dataframe for columns: date, price, zipcode, sqft_lot '''\n",
    "zipQuarterDF = houseCleanDF[['date','price','sqft_lot','zipcode']]\n",
    "zipQuarterDF.head()"
   ]
  },
  {
   "cell_type": "code",
   "execution_count": 198,
   "metadata": {},
   "outputs": [
    {
     "output_type": "stream",
     "name": "stdout",
     "text": [
      "<class 'pandas.core.frame.DataFrame'>\nRangeIndex: 21613 entries, 0 to 21612\nData columns (total 4 columns):\n #   Column    Non-Null Count  Dtype  \n---  ------    --------------  -----  \n 0   date      21613 non-null  object \n 1   price     21613 non-null  float64\n 2   sqft_lot  21613 non-null  float64\n 3   zipcode   21613 non-null  int64  \ndtypes: float64(2), int64(1), object(1)\nmemory usage: 675.5+ KB\n"
     ]
    }
   ],
   "source": [
    "zipQuarterDF.info()"
   ]
  },
  {
   "cell_type": "code",
   "execution_count": 205,
   "metadata": {},
   "outputs": [
    {
     "output_type": "execute_result",
     "data": {
      "text/plain": [
       "         date     price  sqft_lot  zipcode\n",
       "0  2014-05-02  437500.0   35100.0    98027\n",
       "1  2014-05-02  675000.0   67518.0    98029\n",
       "2  2014-05-02  555000.0    6500.0    98065\n",
       "3  2014-05-02  440000.0    8119.0    98006\n",
       "4  2014-05-02  295000.0    1368.0    98106"
      ],
      "text/html": "<div>\n<style scoped>\n    .dataframe tbody tr th:only-of-type {\n        vertical-align: middle;\n    }\n\n    .dataframe tbody tr th {\n        vertical-align: top;\n    }\n\n    .dataframe thead th {\n        text-align: right;\n    }\n</style>\n<table border=\"1\" class=\"dataframe\">\n  <thead>\n    <tr style=\"text-align: right;\">\n      <th></th>\n      <th>date</th>\n      <th>price</th>\n      <th>sqft_lot</th>\n      <th>zipcode</th>\n    </tr>\n  </thead>\n  <tbody>\n    <tr>\n      <th>0</th>\n      <td>2014-05-02</td>\n      <td>437500.0</td>\n      <td>35100.0</td>\n      <td>98027</td>\n    </tr>\n    <tr>\n      <th>1</th>\n      <td>2014-05-02</td>\n      <td>675000.0</td>\n      <td>67518.0</td>\n      <td>98029</td>\n    </tr>\n    <tr>\n      <th>2</th>\n      <td>2014-05-02</td>\n      <td>555000.0</td>\n      <td>6500.0</td>\n      <td>98065</td>\n    </tr>\n    <tr>\n      <th>3</th>\n      <td>2014-05-02</td>\n      <td>440000.0</td>\n      <td>8119.0</td>\n      <td>98006</td>\n    </tr>\n    <tr>\n      <th>4</th>\n      <td>2014-05-02</td>\n      <td>295000.0</td>\n      <td>1368.0</td>\n      <td>98106</td>\n    </tr>\n  </tbody>\n</table>\n</div>"
     },
     "metadata": {},
     "execution_count": 205
    }
   ],
   "source": [
    "''' Order zipcode data by date. '''\n",
    "zipQuarterDF = zipQuarterDF.sort_values(by=['date']).reset_index(drop=True)\n",
    "zipQuarterDF.head()"
   ]
  },
  {
   "cell_type": "code",
   "execution_count": 215,
   "metadata": {},
   "outputs": [],
   "source": [
    "''' Add lat-long columns '''\n",
    "zipQuarterDF[['lat','long']] = houseCleanDF[['lat','long']]"
   ]
  },
  {
   "cell_type": "code",
   "execution_count": 216,
   "metadata": {},
   "outputs": [
    {
     "output_type": "execute_result",
     "data": {
      "text/plain": [
       "         date     price  sqft_lot  zipcode  quarter      lat     long\n",
       "0  2014-05-02  437500.0   35100.0    98027        2  47.5112 -122.257\n",
       "1  2014-05-02  675000.0   67518.0    98029        2  47.7210 -122.319\n",
       "2  2014-05-02  555000.0    6500.0    98065        2  47.7379 -122.233\n",
       "3  2014-05-02  440000.0    8119.0    98006        2  47.5208 -122.393\n",
       "4  2014-05-02  295000.0    1368.0    98106        2  47.6168 -122.045"
      ],
      "text/html": "<div>\n<style scoped>\n    .dataframe tbody tr th:only-of-type {\n        vertical-align: middle;\n    }\n\n    .dataframe tbody tr th {\n        vertical-align: top;\n    }\n\n    .dataframe thead th {\n        text-align: right;\n    }\n</style>\n<table border=\"1\" class=\"dataframe\">\n  <thead>\n    <tr style=\"text-align: right;\">\n      <th></th>\n      <th>date</th>\n      <th>price</th>\n      <th>sqft_lot</th>\n      <th>zipcode</th>\n      <th>quarter</th>\n      <th>lat</th>\n      <th>long</th>\n    </tr>\n  </thead>\n  <tbody>\n    <tr>\n      <th>0</th>\n      <td>2014-05-02</td>\n      <td>437500.0</td>\n      <td>35100.0</td>\n      <td>98027</td>\n      <td>2</td>\n      <td>47.5112</td>\n      <td>-122.257</td>\n    </tr>\n    <tr>\n      <th>1</th>\n      <td>2014-05-02</td>\n      <td>675000.0</td>\n      <td>67518.0</td>\n      <td>98029</td>\n      <td>2</td>\n      <td>47.7210</td>\n      <td>-122.319</td>\n    </tr>\n    <tr>\n      <th>2</th>\n      <td>2014-05-02</td>\n      <td>555000.0</td>\n      <td>6500.0</td>\n      <td>98065</td>\n      <td>2</td>\n      <td>47.7379</td>\n      <td>-122.233</td>\n    </tr>\n    <tr>\n      <th>3</th>\n      <td>2014-05-02</td>\n      <td>440000.0</td>\n      <td>8119.0</td>\n      <td>98006</td>\n      <td>2</td>\n      <td>47.5208</td>\n      <td>-122.393</td>\n    </tr>\n    <tr>\n      <th>4</th>\n      <td>2014-05-02</td>\n      <td>295000.0</td>\n      <td>1368.0</td>\n      <td>98106</td>\n      <td>2</td>\n      <td>47.6168</td>\n      <td>-122.045</td>\n    </tr>\n  </tbody>\n</table>\n</div>"
     },
     "metadata": {},
     "execution_count": 216
    }
   ],
   "source": [
    "''' Column of categorical data and save as csv.'''\n",
    "zipQuarterDF['quarter'] = pd.to_datetime(zipQuarterDF['date']).dt.quarter\n",
    "zipQuarterDF.to_csv('./data/Modified/zip_by_quarter.csv')\n",
    "zipQuarterDF.head()"
   ]
  },
  {
   "cell_type": "code",
   "execution_count": 217,
   "metadata": {},
   "outputs": [
    {
     "output_type": "stream",
     "name": "stdout",
     "text": [
      "zipcode  quarter\n98001    1          12207.77\n         2          13269.71\n         3          17892.57\n         4          16163.11\n98002    1           7284.50\n                      ...   \n98198    4          10497.15\n98199    1           5284.81\n         2           5384.61\n         3           5738.39\n         4           5413.35\nName: sqft_lot, Length: 280, dtype: float64\n"
     ]
    }
   ],
   "source": [
    "''' Average lot size by zipcode '''\n",
    "avglot_zip = pd.Series(round(zipQuarterDF.groupby(['zipcode', 'quarter'])['sqft_lot'].mean(), 2))\n",
    "print(avglot_zip)"
   ]
  },
  {
   "cell_type": "code",
   "execution_count": null,
   "metadata": {},
   "outputs": [],
   "source": [
    "''' Visualization of zip codes by average lot size per quarter '''\n"
   ]
  }
 ]
}